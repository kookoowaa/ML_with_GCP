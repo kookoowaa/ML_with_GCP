{
 "cells": [
  {
   "cell_type": "markdown",
   "metadata": {},
   "source": [
    "> # 랜덤 포레스트\n",
    "\n",
    "- 랜덤 포레스트는 앙상블 학습의 한 종류로 학습기를 조합하여 성능을 개선하는 방법임\n",
    "- 랜덤포레스트는 결정트리 학습기를 여러개 문쳐 사용하게 됨 "
   ]
  },
  {
   "cell_type": "code",
   "execution_count": 1,
   "metadata": {},
   "outputs": [],
   "source": [
    "import matplotlib.pyplot as plt\n",
    "import seaborn as sns\n",
    "import pandas as pd\n",
    "import numpy as np\n",
    "from sklearn.datasets import make_blobs\n",
    "from sklearn.svm import SVC\n",
    "from sklearn.datasets import make_moons\n",
    "\n",
    "def plot_boundary(clf):\n",
    "    # 0.01 간격의 그리드 만들기\n",
    "    xx, yy = np.meshgrid(np.arange(-10, 10, 0.1),\n",
    "                         np.arange(-10, 10, 0.1))\n",
    "    # 생성한 그리드의 점을 하나하나 추론하기\n",
    "    Z = clf.predict(np.c_[xx.ravel(), yy.ravel()])\n",
    "\n",
    "    # 그래프를 그릴 수 있게 2차원 배열로 변환하기\n",
    "    Z = Z.reshape(xx.shape)\n",
    "\n",
    "    # 식별 경계 그리기\n",
    "    plt.contour(xx, yy, Z, colors='k', levels=[0], linestyles=['-'])\n",
    "  \n",
    "  \n",
    "# scatter plot 함수 (개인 버전)\n",
    "def plot_scatter(mins=-1, maxs =1):\n",
    "  sns.lmplot('x0', 'x1', hue = 'y', data = dataset, fit_reg= False)\n",
    "  plt.ylim(mins, maxs)\n",
    "  plt.xlim(mins, maxs)\n",
    "  \n",
    "def plot_boundary2(clf):\n",
    "    #0.01 간격의 그리드 만들기\n",
    "    xx, yy = np.meshgrid(np.arange(-2.5, 2.5, 0.01),\n",
    "                         np.arange(-2.5, 2.5, 0.01))\n",
    "    # 생성한 그리드의 점을 하나하나 추론하기\n",
    "    Z = clf.decision_function(np.c_[xx.ravel(), yy.ravel()])\n",
    "\n",
    "    # 그래프를 그릴 수 있게 2차원 배열로 변환하기\n",
    "    Z = Z.reshape(xx.shape)\n",
    "\n",
    "    # 식별 경계 그리기\n",
    "    plt.contour(xx, yy, Z, colors='b',\n",
    "                levels=[-1, 0, 1], linestyles=['--', '-', '--'])"
   ]
  },
  {
   "cell_type": "code",
   "execution_count": null,
   "metadata": {},
   "outputs": [],
   "source": []
  }
 ],
 "metadata": {
  "kernelspec": {
   "display_name": "Python 3",
   "language": "python",
   "name": "python3"
  },
  "language_info": {
   "codemirror_mode": {
    "name": "ipython",
    "version": 3
   },
   "file_extension": ".py",
   "mimetype": "text/x-python",
   "name": "python",
   "nbconvert_exporter": "python",
   "pygments_lexer": "ipython3",
   "version": "3.5.5"
  }
 },
 "nbformat": 4,
 "nbformat_minor": 2
}
