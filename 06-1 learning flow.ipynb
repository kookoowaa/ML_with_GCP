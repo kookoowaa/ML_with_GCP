{
 "cells": [
  {
   "cell_type": "markdown",
   "metadata": {},
   "source": [
    "# 기본적인 학습 흐름\n",
    "\n",
    "- 머신러닝의 학습은 크게 다음 5단계를 거침:  \n",
    "    1. 데이터 수집  \n",
    "    2. 클리닝/가공  \n",
    "    3. 학습  \n",
    "    4. 평가  \n",
    "    5. 추론"
   ]
  },
  {
   "cell_type": "markdown",
   "metadata": {},
   "source": [
    "___\n",
    ">## 클리닝과 가공\n",
    "\n",
    "- 클리닝: 빠진 데이터를 채우거나 틀린 데이터를 제거하는 과정\n",
    "- 가공: 문자 데이터를 숫자 데이터로 변환\n"
   ]
  },
  {
   "cell_type": "markdown",
   "metadata": {},
   "source": [
    "___\n",
    ">## 학습, 평가, 추론\n",
    "\n",
    "- 학습: 데이터 분리 (학습, 테스트, (+추론)) (training, test, validation)\n",
    "- 평가는 테스트 데이터로 학습의 성능을 측정하며, 우수한 성능의 학습 모델을 확보\n",
    "- 우수한 학습 모델로 실제 데이터에서 추론 수행"
   ]
  }
 ],
 "metadata": {
  "kernelspec": {
   "display_name": "Python 2",
   "language": "python",
   "name": "python2"
  },
  "language_info": {
   "codemirror_mode": {
    "name": "ipython",
    "version": 2
   },
   "file_extension": ".py",
   "mimetype": "text/x-python",
   "name": "python",
   "nbconvert_exporter": "python",
   "pygments_lexer": "ipython2",
   "version": "2.7.15"
  }
 },
 "nbformat": 4,
 "nbformat_minor": 2
}
