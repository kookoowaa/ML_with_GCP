{
 "cells": [
  {
   "cell_type": "markdown",
   "metadata": {},
   "source": [
    "># 이미지 식별하기"
   ]
  },
  {
   "cell_type": "markdown",
   "metadata": {},
   "source": [
    "- 기존 분석과 마찬가지로, 이미지의 화소도 숫자의 나열로 변환 가능\n",
    "- 8X8 화소의 이미지라면 일렬로 나열했을 때 1X64, 즉 64개의 화소와 특징량을 지닌 벡터로 정의 가능\n",
    "- 이는 63차원의 식별 경계를 만들수 있다는 의미를 지님 (2차원은 직선의 식별경계, 3차원은 평면 식별경계, n차원은 n-1 식별경계...)\n",
    "- 과거 손글씨 데이터로 식별을 수행하면 다음과 같음"
   ]
  },
  {
   "cell_type": "code",
   "execution_count": 5,
   "metadata": {},
   "outputs": [
    {
     "name": "stdout",
     "output_type": "stream",
     "text": [
      "[ 0.  0.  3. 14.  1.  0.  0.  0.  0.  0. 12. 12.  0.  0.  0.  0.  0.  3.\n",
      " 16.  6.  0.  0.  0.  0.  0.  5. 16.  2.  0.  0.  0.  0.  0.  6. 16.  2.\n",
      "  5.  2.  0.  0.  0.  4. 16.  2. 12. 15.  2.  0.  0.  1. 14. 13.  2. 13.\n",
      " 11.  0.  0.  0.  3. 11. 16. 13.  4.  0.]\n",
      "====================\n",
      "[0.         0.         0.1875     0.875      0.0625     0.\n",
      " 0.         0.         0.         0.         0.75       0.75\n",
      " 0.         0.         0.         0.         0.         0.1875\n",
      " 1.         0.375      0.         0.         0.         0.\n",
      " 0.         0.33333333 1.         0.125      0.         0.\n",
      " 0.         0.         0.         0.42857143 1.         0.125\n",
      " 0.3125     0.125      0.         0.         0.         0.25\n",
      " 1.         0.125      0.75       0.9375     0.125      0.\n",
      " 0.         0.0625     0.875      0.8125     0.125      0.8125\n",
      " 0.6875     0.         0.         0.         0.1875     0.6875\n",
      " 1.         0.8125     0.25       0.        ]\n"
     ]
    }
   ],
   "source": [
    "from sklearn.datasets import load_digits\n",
    "from sklearn.model_selection import train_test_split\n",
    "from sklearn.preprocessing import MinMaxScaler\n",
    "\n",
    "# 데이터 세트 호출\n",
    "X_dataset, y_dataset = load_digits(return_X_y=True)\n",
    "\n",
    "# 데이터 분할\n",
    "X_train, X_test, y_train, y_test = train_test_split(X_dataset, y_dataset,\n",
    "                                                   test_size= 0.2, random_state = 42)\n",
    "print(X_train[0])\n",
    "\n",
    "# 정규화\n",
    "scaler = MinMaxScaler()\n",
    "X_train = scaler.fit_transform(X_train)\n",
    "X_test = scaler.fit_transform(X_test)\n",
    "\n",
    "print('='*20)\n",
    "print(X_train[0])"
   ]
  },
  {
   "cell_type": "markdown",
   "metadata": {},
   "source": [
    "- 학습 모델은 퍼셉트론을 사용\n",
    "- 퍼셉트론은 `sklearn.linear_model` 모듈의 `Perceptron`을 호술하여 식별 가능"
   ]
  },
  {
   "cell_type": "code",
   "execution_count": 6,
   "metadata": {},
   "outputs": [
    {
     "name": "stderr",
     "output_type": "stream",
     "text": [
      "/usr/local/envs/py3env/lib/python3.5/site-packages/sklearn/linear_model/stochastic_gradient.py:128: FutureWarning: max_iter and tol parameters have been added in <class 'sklearn.linear_model.perceptron.Perceptron'> in 0.19. If both are left unset, they default to max_iter=5 and tol=None. If tol is not None, max_iter defaults to max_iter=1000. From 0.21, default max_iter will be 1000, and default tol will be 1e-3.\n",
      "  \"and default tol will be 1e-3.\" % type(self), FutureWarning)\n"
     ]
    },
    {
     "data": {
      "text/plain": [
       "0.9305555555555556"
      ]
     },
     "execution_count": 6,
     "metadata": {},
     "output_type": "execute_result"
    }
   ],
   "source": [
    "from sklearn.linear_model import Perceptron\n",
    "\n",
    "classifier = Perceptron(random_state = 42)\n",
    "\n",
    "classifier.fit(X_train, y_train)\n",
    "classifier.score(X_test, y_test)"
   ]
  },
  {
   "cell_type": "markdown",
   "metadata": {},
   "source": [
    "- 93% 정답률은 언듯 높아보이지만, 목적에 따라 사용 불가능할 수도 있음\n",
    "- 예를 들어, 93% 정답률로는 11개의 숫자를 지닌 전화번호 중 하나는 틀릴 가능성이 높으므로, 전화번호 식별에 사용하기에는 부적절함"
   ]
  }
 ],
 "metadata": {
  "kernelspec": {
   "display_name": "Python 3",
   "language": "python",
   "name": "python3"
  },
  "language_info": {
   "codemirror_mode": {
    "name": "ipython",
    "version": 3
   },
   "file_extension": ".py",
   "mimetype": "text/x-python",
   "name": "python",
   "nbconvert_exporter": "python",
   "pygments_lexer": "ipython3",
   "version": "3.5.5"
  }
 },
 "nbformat": 4,
 "nbformat_minor": 2
}
