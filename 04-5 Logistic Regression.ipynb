{
 "cells": [
  {
   "cell_type": "markdown",
   "metadata": {},
   "source": [
    "> # 로지스틱 회귀\n",
    "\n",
    "___\n",
    "> ## 손실함수의 차이"
   ]
  },
  {
   "cell_type": "code",
   "execution_count": 1,
   "metadata": {},
   "outputs": [],
   "source": [
    "import numpy as np\n",
    "import pandas as pd\n",
    "from sklearn.datasets import make_blobs\n",
    "import matplotlib.pyplot as plt\n",
    "import seaborn as sns"
   ]
  },
  {
   "cell_type": "code",
   "execution_count": 16,
   "metadata": {},
   "outputs": [],
   "source": [
    "def plot_boundary(w):\n",
    "  x = np.arange(-1.0, 1.1, 0.1)\n",
    "  y = eval('%f*x + %f' % ((-w[1] / (w[2]+1e-6)), (-w[0]/(w[2]+1e-6))))\n",
    "  plt.plot(x, y, linewidth = 2)\n",
    "  \n",
    "  \n",
    "# scatter plot 함수 (개인 버전)\n",
    "def plot_scatter():\n",
    "  sns.lmplot('x0', 'x1', hue = 'y', data = dataset, fit_reg= False)\n",
    "  plt.ylim(-1, 1)\n",
    "  plt.xlim(-1,1)"
   ]
  },
  {
   "cell_type": "markdown",
   "metadata": {},
   "source": [
    "- 퍼셉트론에서의 손실합수는 합리적이지만 식별 경계를 100% 구분하는 순간 손실이 0이 되어 학습을 멈춤\n",
    "- 하지만 다음 예에서 볼 수 있듯이, 퍼셉트론의 손실함수로 찾아낸 판별식은 매우 효율적인 판별식이 아닐 수도 있음"
   ]
  },
  {
   "cell_type": "code",
   "execution_count": 3,
   "metadata": {},
   "outputs": [],
   "source": [
    "X_dataset, y_dataset = make_blobs(centers=[[-0.3, 0.5], [0.3, -0.2]],\n",
    "                                  cluster_std=0.2,\n",
    "                                  n_samples=100,\n",
    "                                  center_box=(-1.0, 1.0),\n",
    "                                  random_state=42)\n",
    "dataset = pd.DataFrame(X_dataset, columns=['x0', 'x1'])\n",
    "dataset['y'] = y_dataset\n",
    "dataset['y'] = dataset.y.apply(lambda x: 1 if x == 1 else -1)"
   ]
  },
  {
   "cell_type": "code",
   "execution_count": 4,
   "metadata": {},
   "outputs": [],
   "source": [
    "def train(dataset, epochs=1):\n",
    "    learning_rate = 1.0\n",
    "    w = np.array([0.0, 0.0, 1.0])  # 초깃값\n",
    "    for epoch in range(epochs):\n",
    "        for i, (x0, x1, y) in dataset.iterrows():\n",
    "            x = np.array([1.0, x0, x1])\n",
    "            if y * np.dot(w, x) > 0:\n",
    "                pass  # 괜찮다면 아무 처리도 하지 않기\n",
    "            else:\n",
    "                w += learning_rate * y * x\n",
    "\n",
    "    return w"
   ]
  },
  {
   "cell_type": "code",
   "execution_count": 17,
   "metadata": {},
   "outputs": [
    {
     "name": "stdout",
     "output_type": "stream",
     "text": [
      "[ 0.          1.48665224 -0.98906527]\n"
     ]
    },
    {
     "name": "stderr",
     "output_type": "stream",
     "text": [
      "/usr/local/envs/py3env/lib/python3.5/site-packages/matplotlib/font_manager.py:1320: UserWarning: findfont: Font family ['sans-serif'] not found. Falling back to DejaVu Sans\n",
      "  (prop.get_family(), self.defaultFamily[fontext]))\n"
     ]
    },
    {
     "data": {
      "image/png": "[encoded data removed]",
      "text/plain": [
       "<matplotlib.figure.Figure at 0x7f29689d7780>"
      ]
     },
     "metadata": {},
     "output_type": "display_data"
    }
   ],
   "source": [
    "w = train(dataset=dataset,\n",
    "          epochs=20)\n",
    "print(w)\n",
    "plot_scatter()\n",
    "plot_boundary(w)"
   ]
  },
  {
   "cell_type": "markdown",
   "metadata": {},
   "source": [
    "- 위의 판별식의 경우 오분류가 0으로 퍼셉트론의 손실함수도 0이 됨 (손실함수가 0이되는 순간 학습이 멈춤)\n",
    "- 하지만 판별식은 `y = 1`에 치우처져 있음을 볼 수 있고, 이는 최선의 판별식이라고 하기는 어려움"
   ]
  },
  {
   "cell_type": "code",
   "execution_count": null,
   "metadata": {},
   "outputs": [],
   "source": []
  }
 ],
 "metadata": {
  "kernelspec": {
   "display_name": "Python 3",
   "language": "python",
   "name": "python3"
  },
  "language_info": {
   "codemirror_mode": {
    "name": "ipython",
    "version": 3
   },
   "file_extension": ".py",
   "mimetype": "text/x-python",
   "name": "python",
   "nbconvert_exporter": "python",
   "pygments_lexer": "ipython3",
   "version": "3.5.5"
  }
 },
 "nbformat": 4,
 "nbformat_minor": 2
}
