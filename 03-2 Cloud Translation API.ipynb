{
 "cells": [
  {
   "cell_type": "markdown",
   "metadata": {},
   "source": [
    "> # Cloud Translation API"
   ]
  },
  {
   "cell_type": "code",
   "execution_count": null,
   "metadata": {
    "hiddenCell": true
   },
   "outputs": [],
   "source": [
    "!pip install google-cloud-translate"
   ]
  },
  {
   "cell_type": "markdown",
   "metadata": {},
   "source": [
    "- Cloud Translation API를 활용하면 원하는 언어로 번역이 가능\n",
    "- `Client` 호출까지는 별 차이가 없음\n",
    "- 입력 변수는 `text`와 `target_language`를 내려 받음\n"
   ]
  },
  {
   "cell_type": "code",
   "execution_count": 1,
   "metadata": {},
   "outputs": [],
   "source": [
    "from google.cloud import translate\n",
    "translate_client = translate.Client()\n",
    "\n",
    "# 입력변수 설정\n",
    "text = 'GCP를 사용해 머신러닝을 배웁니다'\n",
    "target = 'en'\n",
    "\n",
    "# API 호출\n",
    "translation = translate_client.translate(text, target_language = target)"
   ]
  },
  {
   "cell_type": "markdown",
   "metadata": {},
   "source": [
    "- 반환 값은 JSON 형식의 값으로, `detectedSourceLanguage`, `input`, `translatedText`를 반환"
   ]
  },
  {
   "cell_type": "code",
   "execution_count": 2,
   "metadata": {},
   "outputs": [
    {
     "data": {
      "text/plain": [
       "{'detectedSourceLanguage': 'ko',\n",
       " 'input': 'GCP를 사용해 머신러닝을 배웁니다',\n",
       " 'translatedText': 'Learning Machine Learning with GCP'}"
      ]
     },
     "execution_count": 2,
     "metadata": {},
     "output_type": "execute_result"
    }
   ],
   "source": [
    "translation"
   ]
  },
  {
   "cell_type": "code",
   "execution_count": 3,
   "metadata": {},
   "outputs": [
    {
     "name": "stdout",
     "output_type": "stream",
     "text": [
      "원래문장: GCP를 사용해 머신러닝을 배웁니다\n",
      "번역본:  Learning Machine Learning with GCP\n"
     ]
    }
   ],
   "source": [
    "print('원래문장: {}'.format(text))\n",
    "print('번역본:  {}'.format(translation['translatedText']))"
   ]
  },
  {
   "cell_type": "markdown",
   "metadata": {},
   "source": [
    "- 한국어의 경우 한글을 사용하는 유일한 언어기에 큰 문제가 없지만, 한자나, 알파벳의 경우 `source_language`를 설정하지 않는 경우 오역이 발생할 수 있음\n",
    "- 예를 들어 '手紙'는 한국어나 일본어로는 '편지'라는 의미를 지니지만, 중국어로는 '휴지'라는 의미를 지님\n",
    "- 어플리케이션에 따라 오역 방지를 위해 `source_language` 추가 필요"
   ]
  },
  {
   "cell_type": "code",
   "execution_count": 4,
   "metadata": {},
   "outputs": [
    {
     "data": {
      "text/plain": [
       "'letter'"
      ]
     },
     "execution_count": 4,
     "metadata": {},
     "output_type": "execute_result"
    }
   ],
   "source": [
    "wrong_translation = translate_client.translate('手紙', target_language='en')\n",
    "wrong_translation['translatedText']"
   ]
  },
  {
   "cell_type": "code",
   "execution_count": 5,
   "metadata": {},
   "outputs": [
    {
     "data": {
      "text/plain": [
       "'Hand paper'"
      ]
     },
     "execution_count": 5,
     "metadata": {},
     "output_type": "execute_result"
    }
   ],
   "source": [
    "right_translation = translate_client.translate('手紙', target_language='en', source_language = 'zh')\n",
    "right_translation['translatedText']"
   ]
  },
  {
   "cell_type": "markdown",
   "metadata": {},
   "source": [
    "- 지원하는 언어의 목록과 ISO 코드는 다음과 같이 출력 가능\n",
    "- 2018.10.15 기준 총 104개 언어 지원"
   ]
  },
  {
   "cell_type": "code",
   "execution_count": 8,
   "metadata": {},
   "outputs": [
    {
     "data": {
      "text/plain": [
       "104"
      ]
     },
     "execution_count": 8,
     "metadata": {},
     "output_type": "execute_result"
    }
   ],
   "source": [
    "len(translate_client.get_languages())"
   ]
  },
  {
   "cell_type": "code",
   "execution_count": 9,
   "metadata": {},
   "outputs": [
    {
     "data": {
      "text/plain": [
       "[{'language': 'af', 'name': 'Afrikaans'},\n",
       " {'language': 'sq', 'name': 'Albanian'},\n",
       " {'language': 'am', 'name': 'Amharic'},\n",
       " {'language': 'ar', 'name': 'Arabic'},\n",
       " {'language': 'hy', 'name': 'Armenian'},\n",
       " {'language': 'az', 'name': 'Azerbaijani'},\n",
       " {'language': 'eu', 'name': 'Basque'},\n",
       " {'language': 'be', 'name': 'Belarusian'},\n",
       " {'language': 'bn', 'name': 'Bengali'},\n",
       " {'language': 'bs', 'name': 'Bosnian'},\n",
       " {'language': 'bg', 'name': 'Bulgarian'},\n",
       " {'language': 'ca', 'name': 'Catalan'},\n",
       " {'language': 'ceb', 'name': 'Cebuano'},\n",
       " {'language': 'ny', 'name': 'Chichewa'},\n",
       " {'language': 'zh', 'name': 'Chinese (Simplified)'},\n",
       " {'language': 'zh-TW', 'name': 'Chinese (Traditional)'},\n",
       " {'language': 'co', 'name': 'Corsican'},\n",
       " {'language': 'hr', 'name': 'Croatian'},\n",
       " {'language': 'cs', 'name': 'Czech'},\n",
       " {'language': 'da', 'name': 'Danish'},\n",
       " {'language': 'nl', 'name': 'Dutch'},\n",
       " {'language': 'en', 'name': 'English'},\n",
       " {'language': 'eo', 'name': 'Esperanto'},\n",
       " {'language': 'et', 'name': 'Estonian'},\n",
       " {'language': 'tl', 'name': 'Filipino'},\n",
       " {'language': 'fi', 'name': 'Finnish'},\n",
       " {'language': 'fr', 'name': 'French'},\n",
       " {'language': 'fy', 'name': 'Frisian'},\n",
       " {'language': 'gl', 'name': 'Galician'},\n",
       " {'language': 'ka', 'name': 'Georgian'},\n",
       " {'language': 'de', 'name': 'German'},\n",
       " {'language': 'el', 'name': 'Greek'},\n",
       " {'language': 'gu', 'name': 'Gujarati'},\n",
       " {'language': 'ht', 'name': 'Haitian Creole'},\n",
       " {'language': 'ha', 'name': 'Hausa'},\n",
       " {'language': 'haw', 'name': 'Hawaiian'},\n",
       " {'language': 'iw', 'name': 'Hebrew'},\n",
       " {'language': 'hi', 'name': 'Hindi'},\n",
       " {'language': 'hmn', 'name': 'Hmong'},\n",
       " {'language': 'hu', 'name': 'Hungarian'},\n",
       " {'language': 'is', 'name': 'Icelandic'},\n",
       " {'language': 'ig', 'name': 'Igbo'},\n",
       " {'language': 'id', 'name': 'Indonesian'},\n",
       " {'language': 'ga', 'name': 'Irish'},\n",
       " {'language': 'it', 'name': 'Italian'},\n",
       " {'language': 'ja', 'name': 'Japanese'},\n",
       " {'language': 'jw', 'name': 'Javanese'},\n",
       " {'language': 'kn', 'name': 'Kannada'},\n",
       " {'language': 'kk', 'name': 'Kazakh'},\n",
       " {'language': 'km', 'name': 'Khmer'},\n",
       " {'language': 'ko', 'name': 'Korean'},\n",
       " {'language': 'ku', 'name': 'Kurdish (Kurmanji)'},\n",
       " {'language': 'ky', 'name': 'Kyrgyz'},\n",
       " {'language': 'lo', 'name': 'Lao'},\n",
       " {'language': 'la', 'name': 'Latin'},\n",
       " {'language': 'lv', 'name': 'Latvian'},\n",
       " {'language': 'lt', 'name': 'Lithuanian'},\n",
       " {'language': 'lb', 'name': 'Luxembourgish'},\n",
       " {'language': 'mk', 'name': 'Macedonian'},\n",
       " {'language': 'mg', 'name': 'Malagasy'},\n",
       " {'language': 'ms', 'name': 'Malay'},\n",
       " {'language': 'ml', 'name': 'Malayalam'},\n",
       " {'language': 'mt', 'name': 'Maltese'},\n",
       " {'language': 'mi', 'name': 'Maori'},\n",
       " {'language': 'mr', 'name': 'Marathi'},\n",
       " {'language': 'mn', 'name': 'Mongolian'},\n",
       " {'language': 'my', 'name': 'Myanmar (Burmese)'},\n",
       " {'language': 'ne', 'name': 'Nepali'},\n",
       " {'language': 'no', 'name': 'Norwegian'},\n",
       " {'language': 'ps', 'name': 'Pashto'},\n",
       " {'language': 'fa', 'name': 'Persian'},\n",
       " {'language': 'pl', 'name': 'Polish'},\n",
       " {'language': 'pt', 'name': 'Portuguese'},\n",
       " {'language': 'pa', 'name': 'Punjabi'},\n",
       " {'language': 'ro', 'name': 'Romanian'},\n",
       " {'language': 'ru', 'name': 'Russian'},\n",
       " {'language': 'sm', 'name': 'Samoan'},\n",
       " {'language': 'gd', 'name': 'Scots Gaelic'},\n",
       " {'language': 'sr', 'name': 'Serbian'},\n",
       " {'language': 'st', 'name': 'Sesotho'},\n",
       " {'language': 'sn', 'name': 'Shona'},\n",
       " {'language': 'sd', 'name': 'Sindhi'},\n",
       " {'language': 'si', 'name': 'Sinhala'},\n",
       " {'language': 'sk', 'name': 'Slovak'},\n",
       " {'language': 'sl', 'name': 'Slovenian'},\n",
       " {'language': 'so', 'name': 'Somali'},\n",
       " {'language': 'es', 'name': 'Spanish'},\n",
       " {'language': 'su', 'name': 'Sundanese'},\n",
       " {'language': 'sw', 'name': 'Swahili'},\n",
       " {'language': 'sv', 'name': 'Swedish'},\n",
       " {'language': 'tg', 'name': 'Tajik'},\n",
       " {'language': 'ta', 'name': 'Tamil'},\n",
       " {'language': 'te', 'name': 'Telugu'},\n",
       " {'language': 'th', 'name': 'Thai'},\n",
       " {'language': 'tr', 'name': 'Turkish'},\n",
       " {'language': 'uk', 'name': 'Ukrainian'},\n",
       " {'language': 'ur', 'name': 'Urdu'},\n",
       " {'language': 'uz', 'name': 'Uzbek'},\n",
       " {'language': 'vi', 'name': 'Vietnamese'},\n",
       " {'language': 'cy', 'name': 'Welsh'},\n",
       " {'language': 'xh', 'name': 'Xhosa'},\n",
       " {'language': 'yi', 'name': 'Yiddish'},\n",
       " {'language': 'yo', 'name': 'Yoruba'},\n",
       " {'language': 'zu', 'name': 'Zulu'}]"
      ]
     },
     "execution_count": 9,
     "metadata": {},
     "output_type": "execute_result"
    }
   ],
   "source": [
    "translate_client.get_languages()"
   ]
  },
  {
   "cell_type": "code",
   "execution_count": null,
   "metadata": {},
   "outputs": [],
   "source": []
  }
 ],
 "metadata": {
  "kernelspec": {
   "display_name": "Python 3",
   "language": "python",
   "name": "python3"
  },
  "language_info": {
   "codemirror_mode": {
    "name": "ipython",
    "version": 3
   },
   "file_extension": ".py",
   "mimetype": "text/x-python",
   "name": "python",
   "nbconvert_exporter": "python",
   "pygments_lexer": "ipython3",
   "version": "3.5.5"
  }
 },
 "nbformat": 4,
 "nbformat_minor": 2
}
