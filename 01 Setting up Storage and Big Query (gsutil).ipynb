{
 "cells": [
  {
   "cell_type": "markdown",
   "metadata": {},
   "source": [
    "# GCP의 Storage와 Big Query에 접근하기"
   ]
  },
  {
   "cell_type": "markdown",
   "metadata": {},
   "source": [
    "- gsutil은 Cloud Shell에서 별도의 설정 없이 사용 가능\n",
    "- Console에서도 파일 관리가 가능하나, 여기에서는 sh 사용법 위주로 설명"
   ]
  },
  {
   "cell_type": "markdown",
   "metadata": {},
   "source": [
    "### gsutil cp (파일복사)"
   ]
  },
  {
   "cell_type": "markdown",
   "metadata": {},
   "source": [
    "- 데이터를 업로드/복사할 때에는 `cp` 명령어를 사용\n",
    "\n",
    "``` \n",
    "$ gsutil cp <target> <destination>\n",
    "$ gsutil cp sample.txt gs://ml_with_gcp/\n",
    "```\n",
    "- `gs://...`는 파일 경로를 나타내며 `gs://<버킷명>/<디렉터리명>/<파일명>`으로 구성\n",
    "- 와일드카드`*`도 사용 가능하며 아래 사용 예를 참조:\n",
    "\n",
    "```\n",
    "# google storage는 gs://...로 시작\n",
    "$ gsutil cp *.txt gs://...\n",
    "```\n",
    "\n",
    "- 디렉터리를 통째로 복사할 때는 `-r` 옵션을, 병렬 처리시에는 `-m`옵션을 사용 가능:\n",
    "\n",
    "```\n",
    "$ gsutil cp -r <target> <destination>\n",
    "$ gsutil -m cp -r <target> <destination>\n",
    "```"
   ]
  },
  {
   "cell_type": "markdown",
   "metadata": {},
   "source": [
    "### gsutil rm (파일제거)"
   ]
  },
  {
   "cell_type": "markdown",
   "metadata": {},
   "source": [
    "- `gsutil cp`와 유사한 방식으로 사용\n",
    "\n",
    "```\n",
    "$ gsutil rm <destination>\n",
    "```\n",
    "\n",
    "- 폴더 단위로 삭제`*`, 하위계층까지 삭제`**` 가능:\n",
    "\n",
    "```\n",
    "$ gsutil rm <destination>/*\n",
    "$ gsutil rm <destination>/**\n",
    "```\n",
    "\n",
    "-`-r` 옵션을 사용 시 버전 이력까지 함께 제거\n",
    "\n",
    "```\n",
    "$ gsutil rm -r <destination>\n",
    "```"
   ]
  },
  {
   "cell_type": "code",
   "execution_count": null,
   "metadata": {},
   "outputs": [],
   "source": []
  }
 ],
 "metadata": {
  "kernelspec": {
   "display_name": "Python 3",
   "language": "python",
   "name": "python3"
  },
  "language_info": {
   "codemirror_mode": {
    "name": "ipython",
    "version": 3
   },
   "file_extension": ".py",
   "mimetype": "text/x-python",
   "name": "python",
   "nbconvert_exporter": "python",
   "pygments_lexer": "ipython3",
   "version": "3.6.4"
  }
 },
 "nbformat": 4,
 "nbformat_minor": 2
}
