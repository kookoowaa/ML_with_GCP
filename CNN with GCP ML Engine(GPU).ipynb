{
 "cells": [
  {
   "cell_type": "markdown",
   "metadata": {},
   "source": [
    "># Clound ML Engine으로 2층 CNN 학습하기"
   ]
  },
  {
   "cell_type": "markdown",
   "metadata": {},
   "source": [
    "___\n",
    "> ## 사전 준비\n",
    "\n",
    "- ML Engine API 활성화 하기: https://console.cloud.google.com/apis/api/ml.googleapis.com/overview\n",
    "- cloudml-magic 확장 프로그램 설치하기\n",
    "- 다음 코드 셀 **!pip install cloudmlmagic**을 실행하고, 노트 세션을 리셋\n",
    "- **python 2.x** 버전에서 구동, **datalab에서** 구동"
   ]
  },
  {
   "cell_type": "code",
   "execution_count": 2,
   "metadata": {},
   "outputs": [
    {
     "name": "stdout",
     "output_type": "stream",
     "text": [
      "Collecting cloudmlmagic\n",
      "  Using cached https://files.pythonhosted.org/packages/cf/77/9a2cf70dce58e0f1156b76ff4e89f2b490f248bc6f9a78e2c470d101426b/cloudmlmagic-0.0.5-py2-none-any.whl\n",
      "Requirement already satisfied: google-api-python-client in /usr/local/envs/py2env/lib/python2.7/site-packages (from cloudmlmagic) (1.6.2)\n",
      "Requirement already satisfied: httplib2<1dev,>=0.9.2 in /usr/local/envs/py2env/lib/python2.7/site-packages (from google-api-python-client->cloudmlmagic) (0.11.3)\n",
      "Requirement already satisfied: oauth2client<5.0.0dev,>=1.5.0 in /usr/local/envs/py2env/lib/python2.7/site-packages (from google-api-python-client->cloudmlmagic) (2.2.0)\n",
      "Requirement already satisfied: six<2dev,>=1.6.1 in /usr/local/envs/py2env/lib/python2.7/site-packages (from google-api-python-client->cloudmlmagic) (1.10.0)\n",
      "Requirement already satisfied: uritemplate<4dev,>=3.0.0 in /usr/local/envs/py2env/lib/python2.7/site-packages (from google-api-python-client->cloudmlmagic) (3.0.0)\n",
      "Requirement already satisfied: pyasn1>=0.1.7 in /usr/local/envs/py2env/lib/python2.7/site-packages (from oauth2client<5.0.0dev,>=1.5.0->google-api-python-client->cloudmlmagic) (0.4.4)\n",
      "Requirement already satisfied: pyasn1-modules>=0.0.5 in /usr/local/envs/py2env/lib/python2.7/site-packages (from oauth2client<5.0.0dev,>=1.5.0->google-api-python-client->cloudmlmagic) (0.2.2)\n",
      "Requirement already satisfied: rsa>=3.1.4 in /usr/local/envs/py2env/lib/python2.7/site-packages (from oauth2client<5.0.0dev,>=1.5.0->google-api-python-client->cloudmlmagic) (3.4.2)\n",
      "Installing collected packages: cloudmlmagic\n",
      "Successfully installed cloudmlmagic-0.0.5\n"
     ]
    }
   ],
   "source": [
    "! pip install cloudmlmagic"
   ]
  },
  {
   "cell_type": "code",
   "execution_count": 1,
   "metadata": {},
   "outputs": [],
   "source": [
    "%load_ext cloudmlmagic"
   ]
  },
  {
   "cell_type": "markdown",
   "metadata": {},
   "source": [
    "- 프로젝트 ID, GCS 버킷을 설명합니다.\n",
    "\n",
    "- <font color=\"red\">**PROJECTID**, **BUCKET**</font>을 변경해주세요."
   ]
  },
  {
   "cell_type": "code",
   "execution_count": 2,
   "metadata": {},
   "outputs": [],
   "source": [
    "%ml_init -projectId mlwithgcp -bucket ml_with_gcp -region asia-east1 -scaleTier BASIC_GPU"
   ]
  },
  {
   "cell_type": "markdown",
   "metadata": {},
   "source": [
    "- 다음 코드는 ML Engine으로 실행\n",
    "- 일반적으로 몇 분 만에 처리가 끝납니다. 하지만 리소스 확보를 못하면 가끔 오류가 발생하며, 이 때는 다시 실행"
   ]
  },
  {
   "cell_type": "code",
   "execution_count": 3,
   "metadata": {},
   "outputs": [
    {
     "name": "stdout",
     "output_type": "stream",
     "text": [
      "{u'trainingOutput': {}, u'trainingInput': {u'runtimeVersion': u'1.0', u'packageUris': [u'gs://ml_with_gcp/mlmagic__1542929744.tar.gz'], u'region': u'asia-east1', u'pythonModule': u'trainer.task', u'scaleTier': u'BASIC_GPU'}, u'jobId': u'mlmagic__1542929744', u'state': u'QUEUED', u'etag': u'y9b11TgzvNM=', u'createTime': u'2018-11-22T23:35:49Z'}\n"
     ]
    }
   ],
   "source": [
    "%%ml_run cloud\n",
    "# 이 셀 코드는 ML Engine으로 실행됩니다.\n",
    "\n",
    "import tensorflow as tf\n",
    "from tensorflow.examples.tutorials.mnist import input_data\n",
    "mnist = input_data.read_data_sets(\"./mnist/\")\n",
    "\n",
    "\n",
    "batch_size = 50\n",
    "\n",
    "with tf.Graph().as_default():\n",
    "    X = tf.placeholder(tf.float32, [None, 784], name='X')\n",
    "    y = tf.placeholder(tf.float32, [None, ], name='y')\n",
    "\n",
    "    X_image = tf.reshape(X, [-1, 28, 28, 1])\n",
    "\n",
    "    # 합성곱층 1번째\n",
    "    conv1 = tf.layers.conv2d(\n",
    "        inputs=X_image,\n",
    "        filters=32,\n",
    "        kernel_size=[5, 5],\n",
    "        padding=\"SAME\",\n",
    "        activation=tf.nn.relu)\n",
    "\n",
    "    # 풀링층 1번째\n",
    "    pool1 = tf.layers.max_pooling2d(inputs=conv1, pool_size=[2, 2], strides=2)\n",
    " \n",
    "    # 합성곱층 1번째\n",
    "    conv2 = tf.layers.conv2d(\n",
    "        inputs=pool1,\n",
    "        filters=64,\n",
    "        kernel_size=[5, 5],\n",
    "        padding=\"SAME\",\n",
    "        activation=tf.nn.relu)\n",
    " \n",
    "    # 풀링층 2번째\n",
    "    pool2 = tf.layers.max_pooling2d(inputs=conv2, pool_size=[2, 2], strides=2)\n",
    " \n",
    "    # 전결합층\n",
    "    pool2_flat = tf.reshape(pool2, [-1, 7 * 7 * 64])\n",
    "    dense = tf.layers.dense(\n",
    "        inputs=pool2_flat, units=1024, activation=tf.nn.relu)\n",
    " \n",
    "    # 드롭아웃층\n",
    "    dropout = tf.layers.dropout(\n",
    "        inputs=dense, rate=0.5, training=True)\n",
    " \n",
    "    # 출력층\n",
    "    logits = tf.layers.dense(inputs=dropout, units=10, name='output')\n",
    "    predict = tf.argmax(logits, 1)\n",
    " \n",
    "    # 손실\n",
    "    with tf.name_scope('calc_loss'):\n",
    "        onehot_labels = tf.one_hot(indices=tf.cast(y, tf.int32), depth=10)\n",
    "        cross_entropy = tf.nn.softmax_cross_entropy_with_logits(\n",
    "            labels=onehot_labels, logits=logits, name='xentropy')\n",
    "        loss = tf.reduce_mean(cross_entropy, name='xentropy_mean')\n",
    " \n",
    "    # 손실 최소화 하기\n",
    "    train_op = tf.train.AdamOptimizer(0.0001).minimize(loss)\n",
    " \n",
    "    # 정답률 계산하기\n",
    "    with tf.name_scope('calc_accuracy'):\n",
    "        correct_prediction = tf.equal(\n",
    "            tf.argmax(logits, 1), tf.argmax(onehot_labels, 1))\n",
    "        accuracy = tf.reduce_mean(tf.cast(correct_prediction, tf.float32))\n",
    " \n",
    "    with tf.Session() as sess:\n",
    "        sess.run(tf.global_variables_initializer())\n",
    "        total_batch = int(mnist.train.num_examples // batch_size)\n",
    "        for epoch in range(20):\n",
    "            for step in range(total_batch):\n",
    "                batch_xs, batch_ys = mnist.train.next_batch(batch_size)\n",
    "                _, loss_value = sess.run([train_op, loss],\n",
    "                                         feed_dict={X: batch_xs, y: batch_ys})\n",
    "            print('Step: %d, Loss: %f' % (step, loss_value))\n",
    "    \n",
    "        # test\n",
    "        _a = sess.run(accuracy, feed_dict={\n",
    "                      X: mnist.test.images, y: mnist.test.labels})\n",
    "        print('Accuracy: %f' % _a)"
   ]
  },
  {
   "cell_type": "markdown",
   "metadata": {},
   "source": [
    "- 결과는 다음 url에서 확인: https://console.cloud.google.com/mlengine/jobs\n",
    "- 약 6분 소요 (8:36 시작, 8:42 종료)"
   ]
  },
  {
   "cell_type": "markdown",
   "metadata": {},
   "source": [
    "![](data/ml_engine.png)"
   ]
  },
  {
   "cell_type": "markdown",
   "metadata": {},
   "source": [
    "- 학습은 ML엔진을 사용하여 완료\n",
    "- 모델링은 추후 다룰 예정"
   ]
  }
 ],
 "metadata": {
  "kernelspec": {
   "display_name": "Python 3",
   "language": "python",
   "name": "python3"
  },
  "language_info": {
   "codemirror_mode": {
    "name": "ipython",
    "version": 3
   },
   "file_extension": ".py",
   "mimetype": "text/x-python",
   "name": "python",
   "nbconvert_exporter": "python",
   "pygments_lexer": "ipython3",
   "version": "3.7.0"
  }
 },
 "nbformat": 4,
 "nbformat_minor": 2
}
