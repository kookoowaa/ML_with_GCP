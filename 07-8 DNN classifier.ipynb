{
 "cells": [
  {
   "cell_type": "markdown",
   "metadata": {},
   "source": [
    "># DNN Classifier로 간단하게 학습하기"
   ]
  },
  {
   "cell_type": "markdown",
   "metadata": {},
   "source": [
    "- 이전 챕터에서 구축하였던 심층 신경망 DNN<sub>(Deep Neural Network)</sub>을 간단하게 구현 (`DNNClassifier` + `SKCompat`)\n",
    "- *local environment 사용*"
   ]
  },
  {
   "cell_type": "code",
   "execution_count": 6,
   "metadata": {},
   "outputs": [],
   "source": [
    "import pandas as pd\n",
    "import tensorflow as tf\n",
    "from tensorflow.contrib.learn.python import SKCompat"
   ]
  },
  {
   "cell_type": "markdown",
   "metadata": {},
   "source": [
    "- 데이터는 wdbc 사용"
   ]
  },
  {
   "cell_type": "code",
   "execution_count": 9,
   "metadata": {},
   "outputs": [],
   "source": [
    "dataset = pd.read_csv('data/wdbc.csv')\n",
    "\n",
    "dataset['diagnostic'] = dataset['diagnostic'].apply(lambda X: 0 if X=='M' else 1)\n",
    "dataset.drop('index', axis = 1, inplace = True)\n",
    "X_dataset = dataset.drop('diagnostic', axis = 1).values\n",
    "y_dataset = dataset['diagnostic'].values\n",
    "\n",
    "from sklearn.model_selection import train_test_split\n",
    "X_train, X_test, y_train, y_test = train_test_split(X_dataset, y_dataset,\n",
    "                                                   test_size = 0.2, \n",
    "                                                   random_state = 42)"
   ]
  },
  {
   "cell_type": "markdown",
   "metadata": {},
   "source": [
    "- 전결합(fully-connected)층만으로 구성된 신경망이라면 TensorFlow의 DNN Classifier를 사용하여 간단하게 구축 가능  \n",
    "  (`tf.contrib.learn.DNNClassifier`)\n",
    "- 매개변수 `feature_columns`로 특징량 수를 정의하며, 이때 `[tf.contrib.layer.real_valued_column(dimension = 특징량)]`으로 정의\n",
    "- 매개변수 `hidden_units`로 layer와 unit 수를 정의 (리스트 길이 = layer 수, 리스트 값 = unit 수)\n",
    "- 매개변수 `n_classes`로 레이블 수 정의\n",
    "- 매개변수 `model_dir`로 학습 경과와 이후 챕터에서 언급할 TensorBoard로 모니터링 할 수 있게 해 주는 정보들 출력  \n",
    "  (로컬 경로 외 GCS 경로도 지정 가능 `model_dir = \"gs://<BUCKET>/dnnmodel/\"`)\n"
   ]
  },
  {
   "cell_type": "code",
   "execution_count": null,
   "metadata": {},
   "outputs": [],
   "source": [
    "# 특징량 수 정의\n",
    "feature_columns = [tf.contrib.layers.real_valued_column(\"\", dimension = 30)]\n",
    "\n",
    "# 은닉층 2개(4개유닛)\n",
    "classifier = tf.contrib.learn.DNNClassifier(feature_columns = feature_columns,\n",
    "                                           hidden_units = [4, 4],\n",
    "                                           n_classes = 2,\n",
    "                                           model_dir = \"./dnnmodel/\")"
   ]
  },
  {
   "cell_type": "markdown",
   "metadata": {},
   "source": [
    "- 구축한 모델은 `SKCompat`으로 변환 가능하며, 이후 scikit-learn 라이브러리에서 사용할 수 있게 됨\n",
    "- `fit`이라던지 `score` 기능 활용하여 학습 및 평가 가능"
   ]
  },
  {
   "cell_type": "code",
   "execution_count": 11,
   "metadata": {
    "scrolled": false
   },
   "outputs": [
    {
     "name": "stdout",
     "output_type": "stream",
     "text": [
      "WARNING:tensorflow:From C:\\Programming\\Anaconda3\\envs\\tensorflow\\lib\\site-packages\\tensorflow\\contrib\\learn\\python\\learn\\estimators\\dnn.py:378: multi_class_head (from tensorflow.contrib.learn.python.learn.estimators.head) is deprecated and will be removed in a future version.\n",
      "Instructions for updating:\n",
      "Please switch to tf.contrib.estimator.*_head.\n",
      "WARNING:tensorflow:From C:\\Programming\\Anaconda3\\envs\\tensorflow\\lib\\site-packages\\tensorflow\\contrib\\learn\\python\\learn\\estimators\\estimator.py:1180: BaseEstimator.__init__ (from tensorflow.contrib.learn.python.learn.estimators.estimator) is deprecated and will be removed in a future version.\n",
      "Instructions for updating:\n",
      "Please replace uses of any Estimator from tf.contrib.learn with an Estimator from tf.estimator.*\n",
      "WARNING:tensorflow:From C:\\Programming\\Anaconda3\\envs\\tensorflow\\lib\\site-packages\\tensorflow\\contrib\\learn\\python\\learn\\estimators\\estimator.py:428: RunConfig.__init__ (from tensorflow.contrib.learn.python.learn.estimators.run_config) is deprecated and will be removed in a future version.\n",
      "Instructions for updating:\n",
      "When switching to tf.estimator.Estimator, use tf.estimator.RunConfig instead.\n",
      "INFO:tensorflow:Using default config.\n",
      "INFO:tensorflow:Using config: {'_task_type': None, '_task_id': 0, '_cluster_spec': <tensorflow.python.training.server_lib.ClusterSpec object at 0x0000023A04FC05F8>, '_master': '', '_num_ps_replicas': 0, '_num_worker_replicas': 0, '_environment': 'local', '_is_chief': True, '_evaluation_master': '', '_train_distribute': None, '_eval_distribute': None, '_device_fn': None, '_tf_config': gpu_options {\n",
      "  per_process_gpu_memory_fraction: 1.0\n",
      "}\n",
      ", '_tf_random_seed': None, '_save_summary_steps': 100, '_save_checkpoints_secs': 600, '_log_step_count_steps': 100, '_protocol': None, '_session_config': None, '_save_checkpoints_steps': None, '_keep_checkpoint_max': 5, '_keep_checkpoint_every_n_hours': 10000, '_model_dir': './dnnmodel/'}\n",
      "WARNING:tensorflow:From <ipython-input-11-b82887595c72>:11: SKCompat.__init__ (from tensorflow.contrib.learn.python.learn.estimators.estimator) is deprecated and will be removed in a future version.\n",
      "Instructions for updating:\n",
      "Please switch to the Estimator interface.\n",
      "WARNING:tensorflow:From C:\\Programming\\Anaconda3\\envs\\tensorflow\\lib\\site-packages\\tensorflow\\contrib\\learn\\python\\learn\\estimators\\estimator.py:143: setup_train_data_feeder (from tensorflow.contrib.learn.python.learn.learn_io.data_feeder) is deprecated and will be removed in a future version.\n",
      "Instructions for updating:\n",
      "Please use tensorflow/transform or tf.data.\n",
      "WARNING:tensorflow:From C:\\Programming\\Anaconda3\\envs\\tensorflow\\lib\\site-packages\\tensorflow\\contrib\\learn\\python\\learn\\learn_io\\data_feeder.py:159: DataFeeder.__init__ (from tensorflow.contrib.learn.python.learn.learn_io.data_feeder) is deprecated and will be removed in a future version.\n",
      "Instructions for updating:\n",
      "Please use tensorflow/transform or tf.data.\n",
      "WARNING:tensorflow:From C:\\Programming\\Anaconda3\\envs\\tensorflow\\lib\\site-packages\\tensorflow\\contrib\\learn\\python\\learn\\learn_io\\data_feeder.py:340: check_array (from tensorflow.contrib.learn.python.learn.learn_io.data_feeder) is deprecated and will be removed in a future version.\n",
      "Instructions for updating:\n",
      "Please convert numpy dtypes explicitly.\n",
      "WARNING:tensorflow:float64 is not supported by many models, consider casting to float32.\n",
      "WARNING:tensorflow:Casting <dtype: 'int64'> labels to bool.\n",
      "WARNING:tensorflow:Casting <dtype: 'int64'> labels to bool.\n",
      "WARNING:tensorflow:Trapezoidal rule is known to produce incorrect PR-AUCs; please switch to \"careful_interpolation\" instead.\n",
      "WARNING:tensorflow:Trapezoidal rule is known to produce incorrect PR-AUCs; please switch to \"careful_interpolation\" instead.\n",
      "WARNING:tensorflow:From C:\\Programming\\Anaconda3\\envs\\tensorflow\\lib\\site-packages\\tensorflow\\contrib\\learn\\python\\learn\\estimators\\head.py:678: ModelFnOps.__new__ (from tensorflow.contrib.learn.python.learn.estimators.model_fn) is deprecated and will be removed in a future version.\n",
      "Instructions for updating:\n",
      "When switching to tf.estimator.Estimator, use tf.estimator.EstimatorSpec. You can use the `estimator_spec` method to create an equivalent one.\n",
      "INFO:tensorflow:Create CheckpointSaverHook.\n",
      "INFO:tensorflow:Graph was finalized.\n",
      "INFO:tensorflow:Running local_init_op.\n",
      "INFO:tensorflow:Done running local_init_op.\n",
      "INFO:tensorflow:Saving checkpoints for 0 into ./dnnmodel/model.ckpt.\n",
      "INFO:tensorflow:loss = 59.910355, step = 1\n",
      "INFO:tensorflow:global_step/sec: 579.585\n",
      "INFO:tensorflow:loss = 0.9799647, step = 101 (0.174 sec)\n",
      "INFO:tensorflow:global_step/sec: 1044.46\n",
      "INFO:tensorflow:loss = 0.54596597, step = 201 (0.095 sec)\n",
      "INFO:tensorflow:global_step/sec: 1066.67\n",
      "INFO:tensorflow:loss = 1.005688, step = 301 (0.094 sec)\n",
      "INFO:tensorflow:global_step/sec: 1078.13\n",
      "INFO:tensorflow:loss = 0.8644005, step = 401 (0.094 sec)\n",
      "INFO:tensorflow:global_step/sec: 1055.45\n",
      "INFO:tensorflow:loss = 0.38492775, step = 501 (0.094 sec)\n",
      "INFO:tensorflow:global_step/sec: 903.308\n",
      "INFO:tensorflow:loss = 0.2067547, step = 601 (0.112 sec)\n",
      "INFO:tensorflow:global_step/sec: 1033.68\n",
      "INFO:tensorflow:loss = 0.89279085, step = 701 (0.096 sec)\n",
      "INFO:tensorflow:global_step/sec: 1044.45\n",
      "INFO:tensorflow:loss = 1.0448078, step = 801 (0.096 sec)\n",
      "INFO:tensorflow:global_step/sec: 622.781\n",
      "INFO:tensorflow:loss = 3.0463972, step = 901 (0.162 sec)\n",
      "INFO:tensorflow:Saving checkpoints for 1000 into ./dnnmodel/model.ckpt.\n",
      "INFO:tensorflow:Loss for final step: 0.11574379.\n",
      "WARNING:tensorflow:float64 is not supported by many models, consider casting to float32.\n",
      "WARNING:tensorflow:Casting <dtype: 'int64'> labels to bool.\n",
      "WARNING:tensorflow:Casting <dtype: 'int64'> labels to bool.\n",
      "WARNING:tensorflow:Trapezoidal rule is known to produce incorrect PR-AUCs; please switch to \"careful_interpolation\" instead.\n",
      "WARNING:tensorflow:Trapezoidal rule is known to produce incorrect PR-AUCs; please switch to \"careful_interpolation\" instead.\n",
      "INFO:tensorflow:Starting evaluation at 2018-11-07-23:22:52\n",
      "INFO:tensorflow:Graph was finalized.\n",
      "INFO:tensorflow:Restoring parameters from ./dnnmodel/model.ckpt-1000\n",
      "INFO:tensorflow:Running local_init_op.\n",
      "INFO:tensorflow:Done running local_init_op.\n",
      "INFO:tensorflow:Finished evaluation at 2018-11-07-23:22:52\n",
      "INFO:tensorflow:Saving dict for global step 1000: accuracy = 0.9385965, accuracy/baseline_label_mean = 0.622807, accuracy/threshold_0.500000_mean = 0.9385965, auc = 0.99443173, auc_precision_recall = 0.9965906, global_step = 1000, labels/actual_label_mean = 0.622807, labels/prediction_mean = 0.6620498, loss = 0.13138488, precision/positive_threshold_0.500000_mean = 0.9102564, recall/positive_threshold_0.500000_mean = 1.0\n"
     ]
    },
    {
     "data": {
      "text/plain": [
       "{'loss': 0.13138488,\n",
       " 'accuracy': 0.9385965,\n",
       " 'labels/prediction_mean': 0.6620498,\n",
       " 'labels/actual_label_mean': 0.622807,\n",
       " 'accuracy/baseline_label_mean': 0.622807,\n",
       " 'auc': 0.99443173,\n",
       " 'auc_precision_recall': 0.9965906,\n",
       " 'accuracy/threshold_0.500000_mean': 0.9385965,\n",
       " 'precision/positive_threshold_0.500000_mean': 0.9102564,\n",
       " 'recall/positive_threshold_0.500000_mean': 1.0,\n",
       " 'global_step': 1000}"
      ]
     },
     "execution_count": 11,
     "metadata": {},
     "output_type": "execute_result"
    }
   ],
   "source": [
    "# scikit-learn와 비슷한 SKCompat으로 변환\n",
    "classifier = SKCompat(classifier)\n",
    "\n",
    "# 학습하기\n",
    "classifier.fit(x = X_train, y = y_train, steps = 1000, batch_size = 50)\n",
    "\n",
    "# 정답률 확인\n",
    "classifier.score(X_test, y_test)"
   ]
  }
 ],
 "metadata": {
  "kernelspec": {
   "display_name": "Python [conda env:tensorflow]",
   "language": "python",
   "name": "conda-env-tensorflow-py"
  },
  "language_info": {
   "codemirror_mode": {
    "name": "ipython",
    "version": 3
   },
   "file_extension": ".py",
   "mimetype": "text/x-python",
   "name": "python",
   "nbconvert_exporter": "python",
   "pygments_lexer": "ipython3",
   "version": "3.6.7"
  }
 },
 "nbformat": 4,
 "nbformat_minor": 2
}
