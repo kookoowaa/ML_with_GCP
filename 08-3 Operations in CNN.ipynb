{
 "cells": [
  {
   "cell_type": "markdown",
   "metadata": {},
   "source": [
    "># 합성곱 계산의 종류와 풀링"
   ]
  },
  {
   "cell_type": "markdown",
   "metadata": {},
   "source": [
    "- 합성곱 연산에서 필터를 곱하는 방법에 따라 결과가 다양하게 나올 수 있음\n",
    "- 합성곱 연산에서 사용하는 기술에는 '패딩', '스트라이드', '풀링'을 예로 들 수 있음"
   ]
  },
  {
   "cell_type": "markdown",
   "metadata": {},
   "source": [
    "___\n",
    ">## 패딩<sub>(Padding)"
   ]
  },
  {
   "cell_type": "markdown",
   "metadata": {},
   "source": [
    "- 패딩이란 포장한다는 의미로, 이미지 가장자리에 무언가를 포장한다는 의미를 갖고 있음  \n",
    "- 이전 챕터의 예제처럼 패딩과정을 거치치 않더라도 3x3필터의 경우 [1,1]에서, 5x5필터의 경우 [2,2]에서 합성곱 연산을 시작해도 되지만, 이럴 경우 출력 이미지 크기가 작아지게 됨  \n",
    "- 이를 방지하기 위해 이미지의 가장 외곽 부분에 0이라는 화소를 채워 넣어 사용함\n",
    "![](https://adeshpande3.github.io/assets/Pad.png)"
   ]
  },
  {
   "cell_type": "markdown",
   "metadata": {},
   "source": [
    "___\n",
    ">## 스트라이드<sub>(Stride)"
   ]
  },
  {
   "cell_type": "markdown",
   "metadata": {},
   "source": [
    "- 스트라이드는 '보폭'이라는 의미로, 필터를 몇칸씩 이동할지 정함\n",
    "- 일반적으로 한칸씩 이동하지만, 일부 화소를 무시하고 여러 칸씩 이동할 수도 있음\n",
    "- 단, 이 경우 특징이 제대로 추출되지 않을 수 있음\n",
    "- 일반적인 stride가 1인 경우:\n",
    "![\"stride1\"](https://adeshpande3.github.io/assets/Stride1.png)\n",
    "- stride가 2인 경우 (이미지 사이즈 축소):\n",
    "![\"stride2\"](https://adeshpande3.github.io/assets/Stride2.png)"
   ]
  },
  {
   "cell_type": "markdown",
   "metadata": {},
   "source": [
    "___\n",
    ">## 풀링층<sub>(Pooling Layer)"
   ]
  },
  {
   "cell_type": "markdown",
   "metadata": {},
   "source": [
    "- 풀링층은 일반적으로 합성곱층 바로 뒤에 붙여서 사용\n",
    "- 합성곱층에서 필터를 적용할 때 어떠한 방식으로 필터를 적용할지 규칙을 설정하는 층임\n",
    "- 일반적으로 평균값을 선택하는 평균풀링<sub>Average Pooling</sub>과 최댓값을 선택하는 최대풀링<sub>Max Pooling</sub>이 있음\n",
    "- 풀링층의 크기와 (예를 들어 2x2) 스트라이드는 (예를 들어 2) 일치시키는 것이 일반적임\n",
    "- 이미지 인식에서는 최대풀링이 빈번하게 사용됨\n",
    "- 하단은 최대풀링의 예:\n",
    "![](https://adeshpande3.github.io/assets/MaxPool.png)"
   ]
  },
  {
   "cell_type": "markdown",
   "metadata": {},
   "source": [
    "___\n",
    ">## TensorFlow로 합성곱층 구현하기"
   ]
  },
  {
   "cell_type": "markdown",
   "metadata": {},
   "source": [
    "- TensorFlow를 사용해 매개변수들을(패딩, 스트라이드, 풀링) 결정하고 CNN 수행 가능\n",
    "- 테스트 전용 이미지는 이전과 마찬가지로 '1'을 나타내는 손글씨 문자임"
   ]
  },
  {
   "cell_type": "code",
   "execution_count": 3,
   "metadata": {},
   "outputs": [
    {
     "name": "stdout",
     "output_type": "stream",
     "text": [
      "WARNING:tensorflow:From <ipython-input-3-2aa306a0dc11>:7: read_data_sets (from tensorflow.contrib.learn.python.learn.datasets.mnist) is deprecated and will be removed in a future version.\n",
      "Instructions for updating:\n",
      "Please use alternatives such as official/mnist/dataset.py from tensorflow/models.\n",
      "WARNING:tensorflow:From /usr/local/envs/py3env/lib/python3.5/site-packages/tensorflow/contrib/learn/python/learn/datasets/mnist.py:260: maybe_download (from tensorflow.contrib.learn.python.learn.datasets.base) is deprecated and will be removed in a future version.\n",
      "Instructions for updating:\n",
      "Please write your own downloading logic.\n",
      "WARNING:tensorflow:From /usr/local/envs/py3env/lib/python3.5/site-packages/tensorflow/contrib/learn/python/learn/datasets/base.py:252: _internal_retry.<locals>.wrap.<locals>.wrapped_fn (from tensorflow.contrib.learn.python.learn.datasets.base) is deprecated and will be removed in a future version.\n",
      "Instructions for updating:\n",
      "Please use urllib or similar directly.\n",
      "Successfully downloaded train-images-idx3-ubyte.gz 9912422 bytes.\n",
      "WARNING:tensorflow:From /usr/local/envs/py3env/lib/python3.5/site-packages/tensorflow/contrib/learn/python/learn/datasets/mnist.py:262: extract_images (from tensorflow.contrib.learn.python.learn.datasets.mnist) is deprecated and will be removed in a future version.\n",
      "Instructions for updating:\n",
      "Please use tf.data to implement this functionality.\n",
      "Extracting ./mnist/train-images-idx3-ubyte.gz\n",
      "Successfully downloaded train-labels-idx1-ubyte.gz 28881 bytes.\n",
      "WARNING:tensorflow:From /usr/local/envs/py3env/lib/python3.5/site-packages/tensorflow/contrib/learn/python/learn/datasets/mnist.py:267: extract_labels (from tensorflow.contrib.learn.python.learn.datasets.mnist) is deprecated and will be removed in a future version.\n",
      "Instructions for updating:\n",
      "Please use tf.data to implement this functionality.\n",
      "Extracting ./mnist/train-labels-idx1-ubyte.gz\n",
      "Successfully downloaded t10k-images-idx3-ubyte.gz 1648877 bytes.\n",
      "Extracting ./mnist/t10k-images-idx3-ubyte.gz\n",
      "Successfully downloaded t10k-labels-idx1-ubyte.gz 4542 bytes.\n",
      "Extracting ./mnist/t10k-labels-idx1-ubyte.gz\n",
      "WARNING:tensorflow:From /usr/local/envs/py3env/lib/python3.5/site-packages/tensorflow/contrib/learn/python/learn/datasets/mnist.py:290: DataSet.__init__ (from tensorflow.contrib.learn.python.learn.datasets.mnist) is deprecated and will be removed in a future version.\n",
      "Instructions for updating:\n",
      "Please use alternatives such as official/mnist/dataset.py from tensorflow/models.\n"
     ]
    }
   ],
   "source": [
    "import tensorflow as tf\n",
    "import numpy as np\n",
    "import matplotlib.pyplot as plt\n",
    "\n",
    "# MNIST 데이터 호출\n",
    "from tensorflow.examples.tutorials.mnist import input_data\n",
    "mnist = input_data.read_data_sets('./mnist/')\n",
    "\n",
    "# 레이블 1의 입력 이미지\n",
    "img_in = mnist.test.images[3906]"
   ]
  },
  {
   "cell_type": "markdown",
   "metadata": {},
   "source": [
    "- 입력 이미지에 `tf.reshape`를 적용해서 [<배치 수>, <높이>, <너비>, <채널>] 형태로 변경 (`tf.nn.conv2d`를 사용하기 위해 필요한 데이터 형태)\n",
    "- 필터(가중치): `tf.constant`로 가중치를 정의하되, 만약 학습이 필요한 경우에는 `tf.Variable`로 가중치 정의\n",
    "- 합성곱층은 `tf.nn.conv2d`로 연산을 수행하며 \"입력이미지\", \"가중치(필터)\", \"스트라이드\", \"패딩\"을 매개변수로 전달\n",
    "- 스트라이드는 [<배치>, <높이>, <너비>, <채널>] 순으로 입력 (높이, 너비 순으로 2칸씩 이동한다면 `strides = [1, 2, 2, 1]`로 지정)\n",
    "- `Padding = 'SAME'`은 입출력 이미지 크기를 '같게'한다는 의미"
   ]
  },
  {
   "cell_type": "code",
   "execution_count": 9,
   "metadata": {},
   "outputs": [
    {
     "data": {
      "text/plain": [
       "<matplotlib.image.AxesImage at 0x7f6fd94c0cc0>"
      ]
     },
     "execution_count": 9,
     "metadata": {},
     "output_type": "execute_result"
    },
    {
     "name": "stderr",
     "output_type": "stream",
     "text": [
      "/usr/local/envs/py3env/lib/python3.5/site-packages/matplotlib/font_manager.py:1320: UserWarning: findfont: Font family ['sans-serif'] not found. Falling back to DejaVu Sans\n",
      "  (prop.get_family(), self.defaultFamily[fontext]))\n"
     ]
    },
    {
     "data": {
      "text/plain": [
       "<matplotlib.figure.Figure at 0x7f6fdbf499e8>"
      ]
     },
     "metadata": {},
     "output_type": "display_data"
    },
    {
     "data": {
      "image/png": "[encoded data removed]",
      "text/plain": [
       "<matplotlib.figure.Figure at 0x7f6fdcbd2908>"
      ]
     },
     "metadata": {},
     "output_type": "display_data"
    }
   ],
   "source": [
    "with tf.Graph().as_default():\n",
    "  x = tf.placeholder(tf.float32, shape = [28**2])\n",
    "  x_image = tf.reshape(x, shape = [-1, 28, 28, 1])    # <배치 수>, <높이>, <너비>, <채널>\n",
    "  \n",
    "  # 필터로 사용할 가중치 정의\n",
    "  # shape는 [<높이>, <너비>, <입력 채널 수>, <출력 채널 수>]\n",
    "  w = tf.constant([[1, 0, -1],\n",
    "                  [2, 0, -2],\n",
    "                  [1, 0, -1]], dtype = tf.float32, shape = [3, 3, 1, 1])\n",
    "  \n",
    "  # 합성곱층\n",
    "  # strides는 [<배치>, <높이>, <너비>, <채널>] 방향의 보폭\n",
    "  conv = tf.nn.conv2d(x_image, w, strides = [1, 1, 1, 1], padding = 'SAME')\n",
    "  \n",
    "  with tf.Session() as sess:\n",
    "    sess.run(tf.global_variables_initializer())\n",
    "    result = sess.run(conv, feed_dict = {x: img_in})\n",
    "    \n",
    "plt.gray()\n",
    "plt.matshow(result.reshape(28,28))"
   ]
  },
  {
   "cell_type": "markdown",
   "metadata": {},
   "source": [
    "- 풀링층은 `tf.nn.max_pool`로 연산을 수행 (평균풀링은 `tf.nn.avg_pool`)\n",
    "- `conv` 합성곱층 연산을 매개변수로 입력 받으며, 풀링 크기(`ksize`)와 풀링 때의 스트라이드(`strides`)도 매개변수로 입력 받음\n",
    "    *합성곱층에서의 strides와 풀링층에서의 strides가 다름*\n",
    "- 풀링층에서 패딩과 스트라이드를 (2x2)로 가져갔기 때문에 출력 결과물의 크기가 반으로 줄어듬"
   ]
  },
  {
   "cell_type": "code",
   "execution_count": 11,
   "metadata": {},
   "outputs": [
    {
     "data": {
      "text/plain": [
       "<matplotlib.image.AxesImage at 0x7f6fd9454550>"
      ]
     },
     "execution_count": 11,
     "metadata": {},
     "output_type": "execute_result"
    },
    {
     "name": "stderr",
     "output_type": "stream",
     "text": [
      "/usr/local/envs/py3env/lib/python3.5/site-packages/matplotlib/font_manager.py:1320: UserWarning: findfont: Font family ['sans-serif'] not found. Falling back to DejaVu Sans\n",
      "  (prop.get_family(), self.defaultFamily[fontext]))\n"
     ]
    },
    {
     "data": {
      "text/plain": [
       "<matplotlib.figure.Figure at 0x7f6fd9438358>"
      ]
     },
     "metadata": {},
     "output_type": "display_data"
    },
    {
     "data": {
      "image/png": "[encoded data removed]",
      "text/plain": [
       "<matplotlib.figure.Figure at 0x7f6fdbf49fd0>"
      ]
     },
     "metadata": {},
     "output_type": "display_data"
    }
   ],
   "source": [
    "with tf.Graph().as_default():\n",
    "  x = tf.placeholder(tf.float32, shape = [28**2])\n",
    "  x_image = tf.reshape(x, shape = [-1, 28, 28, 1])    # <배치 수>, <높이>, <너비>, <채널>\n",
    "  \n",
    "  # 필터로 사용할 가중치 정의\n",
    "  # shape는 [<높이>, <너비>, <입력 채널 수>, <출력 채널 수>]\n",
    "  w = tf.constant([[1, 0, -1],\n",
    "                  [2, 0, -2],\n",
    "                  [1, 0, -1]], dtype = tf.float32, shape = [3, 3, 1, 1])\n",
    "  \n",
    "  # 합성곱층\n",
    "  # strides는 [<배치>, <높이>, <너비>, <채널>] 방향의 보폭\n",
    "  conv = tf.nn.conv2d(x_image, w, strides = [1, 1, 1, 1], padding = 'SAME')\n",
    "  \n",
    "  # 풀링층\n",
    "  pool = tf.nn.max_pool(conv, ksize = [1, 2, 2, 1], strides = [1, 2, 2, 1], padding = 'SAME')\n",
    "  \n",
    "  with tf.Session() as sess:\n",
    "    sess.run(tf.global_variables_initializer())\n",
    "    result = sess.run(pool, feed_dict = {x: img_in})\n",
    "    \n",
    "plt.gray()\n",
    "plt.matshow(result.reshape(14, 14))"
   ]
  }
 ],
 "metadata": {
  "kernelspec": {
   "display_name": "Python 3",
   "language": "python",
   "name": "python3"
  },
  "language_info": {
   "codemirror_mode": {
    "name": "ipython",
    "version": 3
   },
   "file_extension": ".py",
   "mimetype": "text/x-python",
   "name": "python",
   "nbconvert_exporter": "python",
   "pygments_lexer": "ipython3",
   "version": "3.5.5"
  }
 },
 "nbformat": 4,
 "nbformat_minor": 2
}
