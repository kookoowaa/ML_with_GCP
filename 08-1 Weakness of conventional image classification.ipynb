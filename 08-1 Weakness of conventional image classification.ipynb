{
 "cells": [
  {
   "cell_type": "markdown",
   "metadata": {},
   "source": [
    "># 지금까지 살펴본 이미지 식별의 문제점\n",
    "\n",
    "- 과거의 이미지 식별에서는 이미지를 이미지로 다루지 않는다는 문제가 있음\n",
    "- 단순히 화소 하나하나로 나열된 것을 식별하는 것이 아닌, 각각의 화소가 가로세로 방향으로 연결되어 어떤 형태를 만드는 과정을 고려할 필요가 있음\n",
    "- 전결합층 신경망에서는 이를 전혀 고려하지 않음"
   ]
  },
  {
   "cell_type": "markdown",
   "metadata": {},
   "source": [
    "___\n",
    "># MNIST 데이터 세트 읽어들이기\n",
    "\n",
    "- MNIST 데이터 세트는 TensorFlow 함수를 통해 쉽게 읽어들일 수 있음 (mnist 하위 폴더에 저장)"
   ]
  },
  {
   "cell_type": "code",
   "execution_count": 2,
   "metadata": {
    "scrolled": true
   },
   "outputs": [
    {
     "name": "stdout",
     "output_type": "stream",
     "text": [
      "WARNING:tensorflow:From <ipython-input-2-24e2c6d37fef>:2: read_data_sets (from tensorflow.contrib.learn.python.learn.datasets.mnist) is deprecated and will be removed in a future version.\n",
      "Instructions for updating:\n",
      "Please use alternatives such as official/mnist/dataset.py from tensorflow/models.\n",
      "WARNING:tensorflow:From C:\\Programming\\Anaconda3\\envs\\tensorflow\\lib\\site-packages\\tensorflow\\contrib\\learn\\python\\learn\\datasets\\mnist.py:260: maybe_download (from tensorflow.contrib.learn.python.learn.datasets.base) is deprecated and will be removed in a future version.\n",
      "Instructions for updating:\n",
      "Please write your own downloading logic.\n",
      "WARNING:tensorflow:From C:\\Programming\\Anaconda3\\envs\\tensorflow\\lib\\site-packages\\tensorflow\\contrib\\learn\\python\\learn\\datasets\\mnist.py:262: extract_images (from tensorflow.contrib.learn.python.learn.datasets.mnist) is deprecated and will be removed in a future version.\n",
      "Instructions for updating:\n",
      "Please use tf.data to implement this functionality.\n",
      "Extracting ./mnist/train-images-idx3-ubyte.gz\n",
      "WARNING:tensorflow:From C:\\Programming\\Anaconda3\\envs\\tensorflow\\lib\\site-packages\\tensorflow\\contrib\\learn\\python\\learn\\datasets\\mnist.py:267: extract_labels (from tensorflow.contrib.learn.python.learn.datasets.mnist) is deprecated and will be removed in a future version.\n",
      "Instructions for updating:\n",
      "Please use tf.data to implement this functionality.\n",
      "Extracting ./mnist/train-labels-idx1-ubyte.gz\n",
      "Extracting ./mnist/t10k-images-idx3-ubyte.gz\n",
      "Extracting ./mnist/t10k-labels-idx1-ubyte.gz\n",
      "WARNING:tensorflow:From C:\\Programming\\Anaconda3\\envs\\tensorflow\\lib\\site-packages\\tensorflow\\contrib\\learn\\python\\learn\\datasets\\mnist.py:290: DataSet.__init__ (from tensorflow.contrib.learn.python.learn.datasets.mnist) is deprecated and will be removed in a future version.\n",
      "Instructions for updating:\n",
      "Please use alternatives such as official/mnist/dataset.py from tensorflow/models.\n"
     ]
    }
   ],
   "source": [
    "from tensorflow.examples.tutorials.mnist import input_data\n",
    "mnist = input_data.read_data_sets(\"./mnist/\")"
   ]
  },
  {
   "cell_type": "markdown",
   "metadata": {},
   "source": [
    "- 훈련전용 데이터는 `mnist.train`, 테스트 전용 데이터는 `mnist.test`로 참조 가능 (28X28, 784화소, 0~1 스케일)\n",
    "- `.labels`에 각각의 레이블 리스트 저장"
   ]
  },
  {
   "cell_type": "code",
   "execution_count": 3,
   "metadata": {
    "scrolled": true
   },
   "outputs": [
    {
     "data": {
      "text/plain": [
       "array([0.        , 0.        , 0.        , 0.        , 0.        ,\n",
       "       0.        , 0.        , 0.        , 0.        , 0.        ,\n",
       "       0.        , 0.        , 0.        , 0.        , 0.        ,\n",
       "       0.        , 0.        , 0.        , 0.        , 0.        ,\n",
       "       0.        , 0.        , 0.        , 0.        , 0.        ,\n",
       "       0.        , 0.        , 0.        , 0.        , 0.        ,\n",
       "       0.        , 0.        , 0.        , 0.        , 0.        ,\n",
       "       0.        , 0.        , 0.        , 0.        , 0.        ,\n",
       "       0.        , 0.        , 0.        , 0.        , 0.        ,\n",
       "       0.        , 0.        , 0.        , 0.        , 0.        ,\n",
       "       0.        , 0.        , 0.        , 0.        , 0.        ,\n",
       "       0.        , 0.        , 0.        , 0.        , 0.        ,\n",
       "       0.        , 0.        , 0.        , 0.        , 0.        ,\n",
       "       0.        , 0.        , 0.        , 0.        , 0.        ,\n",
       "       0.        , 0.        , 0.        , 0.        , 0.        ,\n",
       "       0.        , 0.        , 0.        , 0.        , 0.        ,\n",
       "       0.        , 0.        , 0.        , 0.        , 0.        ,\n",
       "       0.        , 0.        , 0.        , 0.        , 0.        ,\n",
       "       0.        , 0.        , 0.        , 0.        , 0.        ,\n",
       "       0.        , 0.        , 0.        , 0.        , 0.        ,\n",
       "       0.        , 0.        , 0.        , 0.        , 0.        ,\n",
       "       0.        , 0.        , 0.        , 0.        , 0.        ,\n",
       "       0.        , 0.        , 0.        , 0.        , 0.        ,\n",
       "       0.        , 0.        , 0.        , 0.        , 0.        ,\n",
       "       0.        , 0.        , 0.        , 0.        , 0.        ,\n",
       "       0.        , 0.        , 0.        , 0.        , 0.        ,\n",
       "       0.        , 0.        , 0.        , 0.        , 0.        ,\n",
       "       0.        , 0.        , 0.        , 0.        , 0.        ,\n",
       "       0.        , 0.        , 0.        , 0.        , 0.        ,\n",
       "       0.        , 0.        , 0.        , 0.        , 0.        ,\n",
       "       0.        , 0.        , 0.        , 0.        , 0.        ,\n",
       "       0.        , 0.        , 0.        , 0.        , 0.        ,\n",
       "       0.        , 0.        , 0.        , 0.        , 0.        ,\n",
       "       0.        , 0.        , 0.        , 0.        , 0.        ,\n",
       "       0.        , 0.        , 0.        , 0.        , 0.        ,\n",
       "       0.        , 0.        , 0.        , 0.        , 0.        ,\n",
       "       0.        , 0.        , 0.        , 0.        , 0.        ,\n",
       "       0.        , 0.        , 0.        , 0.        , 0.        ,\n",
       "       0.        , 0.        , 0.        , 0.        , 0.        ,\n",
       "       0.        , 0.        , 0.        , 0.        , 0.        ,\n",
       "       0.        , 0.        , 0.        , 0.        , 0.        ,\n",
       "       0.        , 0.        , 0.3803922 , 0.37647063, 0.3019608 ,\n",
       "       0.46274513, 0.2392157 , 0.        , 0.        , 0.        ,\n",
       "       0.        , 0.        , 0.        , 0.        , 0.        ,\n",
       "       0.        , 0.        , 0.        , 0.        , 0.        ,\n",
       "       0.        , 0.        , 0.3529412 , 0.5411765 , 0.9215687 ,\n",
       "       0.9215687 , 0.9215687 , 0.9215687 , 0.9215687 , 0.9215687 ,\n",
       "       0.9843138 , 0.9843138 , 0.9725491 , 0.9960785 , 0.9607844 ,\n",
       "       0.9215687 , 0.74509805, 0.08235294, 0.        , 0.        ,\n",
       "       0.        , 0.        , 0.        , 0.        , 0.        ,\n",
       "       0.        , 0.        , 0.        , 0.        , 0.54901963,\n",
       "       0.9843138 , 0.9960785 , 0.9960785 , 0.9960785 , 0.9960785 ,\n",
       "       0.9960785 , 0.9960785 , 0.9960785 , 0.9960785 , 0.9960785 ,\n",
       "       0.9960785 , 0.9960785 , 0.9960785 , 0.9960785 , 0.9960785 ,\n",
       "       0.7411765 , 0.09019608, 0.        , 0.        , 0.        ,\n",
       "       0.        , 0.        , 0.        , 0.        , 0.        ,\n",
       "       0.        , 0.        , 0.8862746 , 0.9960785 , 0.81568635,\n",
       "       0.7803922 , 0.7803922 , 0.7803922 , 0.7803922 , 0.54509807,\n",
       "       0.2392157 , 0.2392157 , 0.2392157 , 0.2392157 , 0.2392157 ,\n",
       "       0.5019608 , 0.8705883 , 0.9960785 , 0.9960785 , 0.7411765 ,\n",
       "       0.08235294, 0.        , 0.        , 0.        , 0.        ,\n",
       "       0.        , 0.        , 0.        , 0.        , 0.        ,\n",
       "       0.14901961, 0.32156864, 0.0509804 , 0.        , 0.        ,\n",
       "       0.        , 0.        , 0.        , 0.        , 0.        ,\n",
       "       0.        , 0.        , 0.        , 0.        , 0.13333334,\n",
       "       0.8352942 , 0.9960785 , 0.9960785 , 0.45098042, 0.        ,\n",
       "       0.        , 0.        , 0.        , 0.        , 0.        ,\n",
       "       0.        , 0.        , 0.        , 0.        , 0.        ,\n",
       "       0.        , 0.        , 0.        , 0.        , 0.        ,\n",
       "       0.        , 0.        , 0.        , 0.        , 0.        ,\n",
       "       0.        , 0.        , 0.        , 0.32941177, 0.9960785 ,\n",
       "       0.9960785 , 0.9176471 , 0.        , 0.        , 0.        ,\n",
       "       0.        , 0.        , 0.        , 0.        , 0.        ,\n",
       "       0.        , 0.        , 0.        , 0.        , 0.        ,\n",
       "       0.        , 0.        , 0.        , 0.        , 0.        ,\n",
       "       0.        , 0.        , 0.        , 0.        , 0.        ,\n",
       "       0.        , 0.32941177, 0.9960785 , 0.9960785 , 0.9176471 ,\n",
       "       0.        , 0.        , 0.        , 0.        , 0.        ,\n",
       "       0.        , 0.        , 0.        , 0.        , 0.        ,\n",
       "       0.        , 0.        , 0.        , 0.        , 0.        ,\n",
       "       0.        , 0.        , 0.        , 0.        , 0.        ,\n",
       "       0.        , 0.        , 0.        , 0.4156863 , 0.6156863 ,\n",
       "       0.9960785 , 0.9960785 , 0.95294124, 0.20000002, 0.        ,\n",
       "       0.        , 0.        , 0.        , 0.        , 0.        ,\n",
       "       0.        , 0.        , 0.        , 0.        , 0.        ,\n",
       "       0.        , 0.        , 0.        , 0.        , 0.        ,\n",
       "       0.        , 0.09803922, 0.45882356, 0.8941177 , 0.8941177 ,\n",
       "       0.8941177 , 0.9921569 , 0.9960785 , 0.9960785 , 0.9960785 ,\n",
       "       0.9960785 , 0.94117653, 0.        , 0.        , 0.        ,\n",
       "       0.        , 0.        , 0.        , 0.        , 0.        ,\n",
       "       0.        , 0.        , 0.        , 0.        , 0.        ,\n",
       "       0.        , 0.        , 0.26666668, 0.4666667 , 0.86274517,\n",
       "       0.9960785 , 0.9960785 , 0.9960785 , 0.9960785 , 0.9960785 ,\n",
       "       0.9960785 , 0.9960785 , 0.9960785 , 0.9960785 , 0.5568628 ,\n",
       "       0.        , 0.        , 0.        , 0.        , 0.        ,\n",
       "       0.        , 0.        , 0.        , 0.        , 0.        ,\n",
       "       0.        , 0.        , 0.        , 0.14509805, 0.73333335,\n",
       "       0.9921569 , 0.9960785 , 0.9960785 , 0.9960785 , 0.8745099 ,\n",
       "       0.8078432 , 0.8078432 , 0.29411766, 0.26666668, 0.8431373 ,\n",
       "       0.9960785 , 0.9960785 , 0.45882356, 0.        , 0.        ,\n",
       "       0.        , 0.        , 0.        , 0.        , 0.        ,\n",
       "       0.        , 0.        , 0.        , 0.        , 0.        ,\n",
       "       0.4431373 , 0.8588236 , 0.9960785 , 0.9490197 , 0.89019614,\n",
       "       0.45098042, 0.34901962, 0.12156864, 0.        , 0.        ,\n",
       "       0.        , 0.        , 0.7843138 , 0.9960785 , 0.9450981 ,\n",
       "       0.16078432, 0.        , 0.        , 0.        , 0.        ,\n",
       "       0.        , 0.        , 0.        , 0.        , 0.        ,\n",
       "       0.        , 0.        , 0.        , 0.6627451 , 0.9960785 ,\n",
       "       0.6901961 , 0.24313727, 0.        , 0.        , 0.        ,\n",
       "       0.        , 0.        , 0.        , 0.        , 0.18823531,\n",
       "       0.9058824 , 0.9960785 , 0.9176471 , 0.        , 0.        ,\n",
       "       0.        , 0.        , 0.        , 0.        , 0.        ,\n",
       "       0.        , 0.        , 0.        , 0.        , 0.        ,\n",
       "       0.        , 0.07058824, 0.48627454, 0.        , 0.        ,\n",
       "       0.        , 0.        , 0.        , 0.        , 0.        ,\n",
       "       0.        , 0.        , 0.32941177, 0.9960785 , 0.9960785 ,\n",
       "       0.6509804 , 0.        , 0.        , 0.        , 0.        ,\n",
       "       0.        , 0.        , 0.        , 0.        , 0.        ,\n",
       "       0.        , 0.        , 0.        , 0.        , 0.        ,\n",
       "       0.        , 0.        , 0.        , 0.        , 0.        ,\n",
       "       0.        , 0.        , 0.        , 0.        , 0.        ,\n",
       "       0.54509807, 0.9960785 , 0.9333334 , 0.22352943, 0.        ,\n",
       "       0.        , 0.        , 0.        , 0.        , 0.        ,\n",
       "       0.        , 0.        , 0.        , 0.        , 0.        ,\n",
       "       0.        , 0.        , 0.        , 0.        , 0.        ,\n",
       "       0.        , 0.        , 0.        , 0.        , 0.        ,\n",
       "       0.        , 0.        , 0.8235295 , 0.9803922 , 0.9960785 ,\n",
       "       0.65882355, 0.        , 0.        , 0.        , 0.        ,\n",
       "       0.        , 0.        , 0.        , 0.        , 0.        ,\n",
       "       0.        , 0.        , 0.        , 0.        , 0.        ,\n",
       "       0.        , 0.        , 0.        , 0.        , 0.        ,\n",
       "       0.        , 0.        , 0.        , 0.        , 0.        ,\n",
       "       0.9490197 , 0.9960785 , 0.93725497, 0.22352943, 0.        ,\n",
       "       0.        , 0.        , 0.        , 0.        , 0.        ,\n",
       "       0.        , 0.        , 0.        , 0.        , 0.        ,\n",
       "       0.        , 0.        , 0.        , 0.        , 0.        ,\n",
       "       0.        , 0.        , 0.        , 0.        , 0.        ,\n",
       "       0.        , 0.        , 0.34901962, 0.9843138 , 0.9450981 ,\n",
       "       0.3372549 , 0.        , 0.        , 0.        , 0.        ,\n",
       "       0.        , 0.        , 0.        , 0.        , 0.        ,\n",
       "       0.        , 0.        , 0.        , 0.        , 0.        ,\n",
       "       0.        , 0.        , 0.        , 0.        , 0.        ,\n",
       "       0.        , 0.        , 0.        , 0.        , 0.01960784,\n",
       "       0.8078432 , 0.96470594, 0.6156863 , 0.        , 0.        ,\n",
       "       0.        , 0.        , 0.        , 0.        , 0.        ,\n",
       "       0.        , 0.        , 0.        , 0.        , 0.        ,\n",
       "       0.        , 0.        , 0.        , 0.        , 0.        ,\n",
       "       0.        , 0.        , 0.        , 0.        , 0.        ,\n",
       "       0.        , 0.        , 0.01568628, 0.45882356, 0.27058825,\n",
       "       0.        , 0.        , 0.        , 0.        , 0.        ,\n",
       "       0.        , 0.        , 0.        , 0.        , 0.        ,\n",
       "       0.        , 0.        , 0.        , 0.        , 0.        ,\n",
       "       0.        , 0.        , 0.        , 0.        , 0.        ,\n",
       "       0.        , 0.        , 0.        , 0.        , 0.        ,\n",
       "       0.        , 0.        , 0.        , 0.        , 0.        ,\n",
       "       0.        , 0.        , 0.        , 0.        , 0.        ,\n",
       "       0.        , 0.        , 0.        , 0.        ], dtype=float32)"
      ]
     },
     "execution_count": 3,
     "metadata": {},
     "output_type": "execute_result"
    }
   ],
   "source": [
    "mnist.train.images[0]"
   ]
  },
  {
   "cell_type": "code",
   "execution_count": 5,
   "metadata": {},
   "outputs": [
    {
     "data": {
      "text/plain": [
       "array([7, 3, 4, ..., 5, 6, 8], dtype=uint8)"
      ]
     },
     "execution_count": 5,
     "metadata": {},
     "output_type": "execute_result"
    }
   ],
   "source": [
    "mnist.train.labels"
   ]
  },
  {
   "cell_type": "code",
   "execution_count": 4,
   "metadata": {},
   "outputs": [
    {
     "data": {
      "text/plain": [
       "Text(0.5, 1.05, 'gray-scale handwritting of 7\\n')"
      ]
     },
     "execution_count": 4,
     "metadata": {},
     "output_type": "execute_result"
    },
    {
     "data": {
      "text/plain": [
       "<Figure size 432x288 with 0 Axes>"
      ]
     },
     "metadata": {},
     "output_type": "display_data"
    },
    {
     "data": {
      "image/png": "[encoded data removed]",
      "text/plain": [
       "<Figure size 288x288 with 1 Axes>"
      ]
     },
     "metadata": {
      "needs_background": "light"
     },
     "output_type": "display_data"
    }
   ],
   "source": [
    "import matplotlib.pyplot as plt\n",
    "plt.gray()\n",
    "plt.matshow(mnist.train.images[0].reshape(28,28))\n",
    "plt.title('gray-scale handwritting of %d\\n' % mnist.train.labels[0])"
   ]
  },
  {
   "cell_type": "markdown",
   "metadata": {},
   "source": [
    "___\n",
    ">## 전결합층만 사용한 신경망으로 식별하기\n",
    "\n",
    "- 간단하게 DNN Classifier를 사용해서 구현"
   ]
  },
  {
   "cell_type": "code",
   "execution_count": 6,
   "metadata": {},
   "outputs": [],
   "source": [
    "import tensorflow as tf\n",
    "from tensorflow.contrib.learn.python import SKCompat"
   ]
  },
  {
   "cell_type": "markdown",
   "metadata": {},
   "source": [
    "- 은닉층 3개 (유닛 수 10, 20, 10개)\n",
    "- 특징량 수 784개 (28*28)\n",
    "- `mnist.train`으로 학습, `mnist.test`로 추론\n",
    "- 정답률은 약 94% 수준"
   ]
  },
  {
   "cell_type": "code",
   "execution_count": 8,
   "metadata": {},
   "outputs": [
    {
     "name": "stdout",
     "output_type": "stream",
     "text": [
      "INFO:tensorflow:Using default config.\n",
      "INFO:tensorflow:Using config: {'_task_type': None, '_task_id': 0, '_cluster_spec': <tensorflow.python.training.server_lib.ClusterSpec object at 0x000002ACC3FB99E8>, '_master': '', '_num_ps_replicas': 0, '_num_worker_replicas': 0, '_environment': 'local', '_is_chief': True, '_evaluation_master': '', '_train_distribute': None, '_eval_distribute': None, '_device_fn': None, '_tf_config': gpu_options {\n",
      "  per_process_gpu_memory_fraction: 1.0\n",
      "}\n",
      ", '_tf_random_seed': None, '_save_summary_steps': 100, '_save_checkpoints_secs': 600, '_log_step_count_steps': 100, '_protocol': None, '_session_config': None, '_save_checkpoints_steps': None, '_keep_checkpoint_max': 5, '_keep_checkpoint_every_n_hours': 10000, '_model_dir': './dnnmnist/'}\n",
      "WARNING:tensorflow:From C:\\Programming\\Anaconda3\\envs\\tensorflow\\lib\\site-packages\\tensorflow\\contrib\\learn\\python\\learn\\estimators\\estimator.py:143: setup_train_data_feeder (from tensorflow.contrib.learn.python.learn.learn_io.data_feeder) is deprecated and will be removed in a future version.\n",
      "Instructions for updating:\n",
      "Please use tensorflow/transform or tf.data.\n",
      "WARNING:tensorflow:From C:\\Programming\\Anaconda3\\envs\\tensorflow\\lib\\site-packages\\tensorflow\\contrib\\learn\\python\\learn\\learn_io\\data_feeder.py:100: extract_pandas_data (from tensorflow.contrib.learn.python.learn.learn_io.pandas_io) is deprecated and will be removed in a future version.\n",
      "Instructions for updating:\n",
      "Please access pandas data directly.\n",
      "WARNING:tensorflow:From C:\\Programming\\Anaconda3\\envs\\tensorflow\\lib\\site-packages\\tensorflow\\contrib\\learn\\python\\learn\\learn_io\\data_feeder.py:102: extract_pandas_labels (from tensorflow.contrib.learn.python.learn.learn_io.pandas_io) is deprecated and will be removed in a future version.\n",
      "Instructions for updating:\n",
      "Please access pandas data directly.\n",
      "WARNING:tensorflow:From C:\\Programming\\Anaconda3\\envs\\tensorflow\\lib\\site-packages\\tensorflow\\contrib\\learn\\python\\learn\\learn_io\\data_feeder.py:159: DataFeeder.__init__ (from tensorflow.contrib.learn.python.learn.learn_io.data_feeder) is deprecated and will be removed in a future version.\n",
      "Instructions for updating:\n",
      "Please use tensorflow/transform or tf.data.\n",
      "WARNING:tensorflow:From C:\\Programming\\Anaconda3\\envs\\tensorflow\\lib\\site-packages\\tensorflow\\contrib\\learn\\python\\learn\\learn_io\\data_feeder.py:340: check_array (from tensorflow.contrib.learn.python.learn.learn_io.data_feeder) is deprecated and will be removed in a future version.\n",
      "Instructions for updating:\n",
      "Please convert numpy dtypes explicitly.\n",
      "WARNING:tensorflow:From C:\\Programming\\Anaconda3\\envs\\tensorflow\\lib\\site-packages\\tensorflow\\contrib\\learn\\python\\learn\\estimators\\head.py:678: ModelFnOps.__new__ (from tensorflow.contrib.learn.python.learn.estimators.model_fn) is deprecated and will be removed in a future version.\n",
      "Instructions for updating:\n",
      "When switching to tf.estimator.Estimator, use tf.estimator.EstimatorSpec. You can use the `estimator_spec` method to create an equivalent one.\n",
      "INFO:tensorflow:Create CheckpointSaverHook.\n",
      "INFO:tensorflow:Graph was finalized.\n",
      "INFO:tensorflow:Running local_init_op.\n",
      "INFO:tensorflow:Done running local_init_op.\n",
      "INFO:tensorflow:Saving checkpoints for 0 into ./dnnmnist/model.ckpt.\n",
      "INFO:tensorflow:loss = 2.3068163, step = 1\n",
      "INFO:tensorflow:global_step/sec: 638.644\n",
      "INFO:tensorflow:loss = 1.0664808, step = 101 (0.159 sec)\n",
      "INFO:tensorflow:global_step/sec: 919.884\n",
      "INFO:tensorflow:loss = 0.53776526, step = 201 (0.108 sec)\n",
      "INFO:tensorflow:global_step/sec: 802.14\n",
      "INFO:tensorflow:loss = 0.59651273, step = 301 (0.126 sec)\n",
      "INFO:tensorflow:global_step/sec: 808.59\n",
      "INFO:tensorflow:loss = 0.46859196, step = 401 (0.123 sec)\n",
      "INFO:tensorflow:global_step/sec: 919.888\n",
      "INFO:tensorflow:loss = 0.45509103, step = 501 (0.110 sec)\n",
      "INFO:tensorflow:global_step/sec: 821.879\n",
      "INFO:tensorflow:loss = 0.26055953, step = 601 (0.121 sec)\n",
      "INFO:tensorflow:global_step/sec: 808.589\n",
      "INFO:tensorflow:loss = 0.2793374, step = 701 (0.125 sec)\n",
      "INFO:tensorflow:global_step/sec: 721.346\n",
      "INFO:tensorflow:loss = 0.51597494, step = 801 (0.140 sec)\n",
      "INFO:tensorflow:global_step/sec: 630.623\n",
      "INFO:tensorflow:loss = 0.33765426, step = 901 (0.157 sec)\n",
      "INFO:tensorflow:global_step/sec: 802.099\n",
      "INFO:tensorflow:loss = 0.50586724, step = 1001 (0.125 sec)\n",
      "INFO:tensorflow:global_step/sec: 911.504\n",
      "INFO:tensorflow:loss = 0.33300155, step = 1101 (0.110 sec)\n",
      "INFO:tensorflow:global_step/sec: 879.597\n",
      "INFO:tensorflow:loss = 0.20452559, step = 1201 (0.115 sec)\n",
      "INFO:tensorflow:global_step/sec: 759.59\n",
      "INFO:tensorflow:loss = 0.28407836, step = 1301 (0.131 sec)\n",
      "INFO:tensorflow:global_step/sec: 659.664\n",
      "INFO:tensorflow:loss = 0.19190517, step = 1401 (0.152 sec)\n",
      "INFO:tensorflow:global_step/sec: 879.536\n",
      "INFO:tensorflow:loss = 0.3193078, step = 1501 (0.114 sec)\n",
      "INFO:tensorflow:global_step/sec: 815.18\n",
      "INFO:tensorflow:loss = 0.25221956, step = 1601 (0.123 sec)\n",
      "INFO:tensorflow:global_step/sec: 828.657\n",
      "INFO:tensorflow:loss = 0.13939807, step = 1701 (0.121 sec)\n",
      "INFO:tensorflow:global_step/sec: 849.722\n",
      "INFO:tensorflow:loss = 0.2844512, step = 1801 (0.119 sec)\n",
      "INFO:tensorflow:global_step/sec: 864.375\n",
      "INFO:tensorflow:loss = 0.14636964, step = 1901 (0.115 sec)\n",
      "INFO:tensorflow:global_step/sec: 771.283\n",
      "INFO:tensorflow:loss = 0.13040146, step = 2001 (0.130 sec)\n",
      "INFO:tensorflow:global_step/sec: 954.935\n",
      "INFO:tensorflow:loss = 0.09711343, step = 2101 (0.105 sec)\n",
      "INFO:tensorflow:global_step/sec: 821.858\n",
      "INFO:tensorflow:loss = 0.36484423, step = 2201 (0.123 sec)\n",
      "INFO:tensorflow:global_step/sec: 928.406\n",
      "INFO:tensorflow:loss = 0.2222265, step = 2301 (0.107 sec)\n",
      "INFO:tensorflow:global_step/sec: 864.324\n",
      "INFO:tensorflow:loss = 0.24059159, step = 2401 (0.117 sec)\n",
      "INFO:tensorflow:global_step/sec: 879.584\n",
      "INFO:tensorflow:loss = 0.27694157, step = 2501 (0.113 sec)\n",
      "INFO:tensorflow:global_step/sec: 842.587\n",
      "INFO:tensorflow:loss = 0.18313932, step = 2601 (0.119 sec)\n",
      "INFO:tensorflow:global_step/sec: 864.365\n",
      "INFO:tensorflow:loss = 0.1376617, step = 2701 (0.117 sec)\n",
      "INFO:tensorflow:global_step/sec: 842.585\n",
      "INFO:tensorflow:loss = 0.18575987, step = 2801 (0.119 sec)\n",
      "INFO:tensorflow:global_step/sec: 856.986\n",
      "INFO:tensorflow:loss = 0.16142195, step = 2901 (0.116 sec)\n",
      "INFO:tensorflow:global_step/sec: 771.274\n",
      "INFO:tensorflow:loss = 0.07366106, step = 3001 (0.130 sec)\n",
      "INFO:tensorflow:global_step/sec: 672.942\n",
      "INFO:tensorflow:loss = 0.07357903, step = 3101 (0.150 sec)\n",
      "INFO:tensorflow:global_step/sec: 777.271\n",
      "INFO:tensorflow:loss = 0.1315616, step = 3201 (0.128 sec)\n",
      "INFO:tensorflow:global_step/sec: 815.173\n",
      "INFO:tensorflow:loss = 0.16675457, step = 3301 (0.123 sec)\n",
      "INFO:tensorflow:global_step/sec: 842.59\n",
      "INFO:tensorflow:loss = 0.69110084, step = 3401 (0.119 sec)\n",
      "INFO:tensorflow:global_step/sec: 864.372\n",
      "INFO:tensorflow:loss = 0.1829543, step = 3501 (0.117 sec)\n",
      "INFO:tensorflow:global_step/sec: 937.076\n",
      "INFO:tensorflow:loss = 0.3688522, step = 3601 (0.107 sec)\n",
      "INFO:tensorflow:global_step/sec: 821.868\n",
      "INFO:tensorflow:loss = 0.17013735, step = 3701 (0.121 sec)\n",
      "INFO:tensorflow:global_step/sec: 887.31\n",
      "INFO:tensorflow:loss = 0.078597814, step = 3801 (0.113 sec)\n",
      "INFO:tensorflow:global_step/sec: 821.868\n",
      "INFO:tensorflow:loss = 0.26141873, step = 3901 (0.122 sec)\n",
      "INFO:tensorflow:global_step/sec: 895.245\n",
      "INFO:tensorflow:loss = 0.3304607, step = 4001 (0.113 sec)\n",
      "INFO:tensorflow:global_step/sec: 928.401\n",
      "INFO:tensorflow:loss = 0.0946584, step = 4101 (0.108 sec)\n",
      "INFO:tensorflow:global_step/sec: 849.72\n",
      "INFO:tensorflow:loss = 0.17314489, step = 4201 (0.118 sec)\n",
      "INFO:tensorflow:global_step/sec: 879.543\n",
      "INFO:tensorflow:loss = 0.1781885, step = 4301 (0.113 sec)\n",
      "INFO:tensorflow:global_step/sec: 856.979\n",
      "INFO:tensorflow:loss = 0.43789363, step = 4401 (0.117 sec)\n",
      "INFO:tensorflow:global_step/sec: 808.612\n",
      "INFO:tensorflow:loss = 0.18990439, step = 4501 (0.124 sec)\n",
      "INFO:tensorflow:global_step/sec: 686.759\n",
      "INFO:tensorflow:loss = 0.2578675, step = 4601 (0.146 sec)\n",
      "INFO:tensorflow:global_step/sec: 928.403\n",
      "INFO:tensorflow:loss = 0.16967086, step = 4701 (0.109 sec)\n",
      "INFO:tensorflow:global_step/sec: 887.327\n",
      "INFO:tensorflow:loss = 0.20746967, step = 4801 (0.113 sec)\n",
      "INFO:tensorflow:global_step/sec: 630.607\n",
      "INFO:tensorflow:loss = 0.32241654, step = 4901 (0.160 sec)\n",
      "INFO:tensorflow:global_step/sec: 742.724\n"
     ]
    },
    {
     "name": "stdout",
     "output_type": "stream",
     "text": [
      "INFO:tensorflow:loss = 0.3689532, step = 5001 (0.133 sec)\n",
      "INFO:tensorflow:global_step/sec: 808.609\n",
      "INFO:tensorflow:loss = 0.157942, step = 5101 (0.124 sec)\n",
      "INFO:tensorflow:global_step/sec: 682.086\n",
      "INFO:tensorflow:loss = 0.14964956, step = 5201 (0.148 sec)\n",
      "INFO:tensorflow:global_step/sec: 928.408\n",
      "INFO:tensorflow:loss = 0.30476886, step = 5301 (0.108 sec)\n",
      "INFO:tensorflow:global_step/sec: 842.58\n",
      "INFO:tensorflow:loss = 0.38256267, step = 5401 (0.120 sec)\n",
      "INFO:tensorflow:global_step/sec: 686.764\n",
      "INFO:tensorflow:loss = 0.5249584, step = 5501 (0.144 sec)\n",
      "INFO:tensorflow:global_step/sec: 716.19\n",
      "INFO:tensorflow:loss = 0.16899393, step = 5601 (0.141 sec)\n",
      "INFO:tensorflow:global_step/sec: 945.924\n",
      "INFO:tensorflow:loss = 0.18436128, step = 5701 (0.105 sec)\n",
      "INFO:tensorflow:global_step/sec: 964.108\n",
      "INFO:tensorflow:loss = 0.16845903, step = 5801 (0.105 sec)\n",
      "INFO:tensorflow:global_step/sec: 828.655\n",
      "INFO:tensorflow:loss = 0.18646626, step = 5901 (0.122 sec)\n",
      "INFO:tensorflow:global_step/sec: 668.448\n",
      "INFO:tensorflow:loss = 0.37099501, step = 6001 (0.148 sec)\n",
      "INFO:tensorflow:global_step/sec: 783.341\n",
      "INFO:tensorflow:loss = 0.22202976, step = 6101 (0.128 sec)\n",
      "INFO:tensorflow:global_step/sec: 964.108\n",
      "INFO:tensorflow:loss = 0.2094181, step = 6201 (0.105 sec)\n",
      "INFO:tensorflow:global_step/sec: 903.304\n",
      "INFO:tensorflow:loss = 0.20237659, step = 6301 (0.111 sec)\n",
      "INFO:tensorflow:global_step/sec: 808.609\n",
      "INFO:tensorflow:loss = 0.21699888, step = 6401 (0.124 sec)\n",
      "INFO:tensorflow:global_step/sec: 682.016\n",
      "INFO:tensorflow:loss = 0.14778526, step = 6501 (0.147 sec)\n",
      "INFO:tensorflow:global_step/sec: 864.482\n",
      "INFO:tensorflow:loss = 0.07082179, step = 6601 (0.115 sec)\n",
      "INFO:tensorflow:global_step/sec: 964.126\n",
      "INFO:tensorflow:loss = 0.19170088, step = 6701 (0.104 sec)\n",
      "INFO:tensorflow:global_step/sec: 849.72\n",
      "INFO:tensorflow:loss = 0.18072076, step = 6801 (0.118 sec)\n",
      "INFO:tensorflow:global_step/sec: 706.094\n",
      "INFO:tensorflow:loss = 0.12885936, step = 6901 (0.143 sec)\n",
      "INFO:tensorflow:global_step/sec: 672.941\n",
      "INFO:tensorflow:loss = 0.17741646, step = 7001 (0.149 sec)\n",
      "INFO:tensorflow:global_step/sec: 887.33\n",
      "INFO:tensorflow:loss = 0.08218469, step = 7101 (0.113 sec)\n",
      "INFO:tensorflow:global_step/sec: 871.895\n",
      "INFO:tensorflow:loss = 0.2786141, step = 7201 (0.114 sec)\n",
      "INFO:tensorflow:global_step/sec: 682.087\n",
      "INFO:tensorflow:loss = 0.10565207, step = 7301 (0.148 sec)\n",
      "INFO:tensorflow:global_step/sec: 691.498\n",
      "INFO:tensorflow:loss = 0.16364647, step = 7401 (0.144 sec)\n",
      "INFO:tensorflow:global_step/sec: 879.538\n",
      "INFO:tensorflow:loss = 0.18973985, step = 7501 (0.115 sec)\n",
      "INFO:tensorflow:global_step/sec: 795.688\n",
      "INFO:tensorflow:loss = 0.17246805, step = 7601 (0.126 sec)\n",
      "INFO:tensorflow:global_step/sec: 686.818\n",
      "INFO:tensorflow:loss = 0.153424, step = 7701 (0.145 sec)\n",
      "INFO:tensorflow:global_step/sec: 771.292\n",
      "INFO:tensorflow:loss = 0.18232521, step = 7801 (0.130 sec)\n",
      "INFO:tensorflow:global_step/sec: 879.54\n",
      "INFO:tensorflow:loss = 0.1014409, step = 7901 (0.117 sec)\n",
      "INFO:tensorflow:global_step/sec: 686.758\n",
      "INFO:tensorflow:loss = 0.062981196, step = 8001 (0.143 sec)\n",
      "INFO:tensorflow:global_step/sec: 759.608\n",
      "INFO:tensorflow:loss = 0.34468392, step = 8101 (0.133 sec)\n",
      "INFO:tensorflow:global_step/sec: 668.447\n",
      "INFO:tensorflow:loss = 0.3280369, step = 8201 (0.149 sec)\n",
      "INFO:tensorflow:global_step/sec: 737.263\n",
      "INFO:tensorflow:loss = 0.41936973, step = 8301 (0.137 sec)\n",
      "INFO:tensorflow:global_step/sec: 696.291\n",
      "INFO:tensorflow:loss = 0.13271084, step = 8401 (0.144 sec)\n",
      "INFO:tensorflow:global_step/sec: 742.731\n",
      "INFO:tensorflow:loss = 0.2781421, step = 8501 (0.135 sec)\n",
      "INFO:tensorflow:global_step/sec: 664.017\n",
      "INFO:tensorflow:loss = 0.20768785, step = 8601 (0.151 sec)\n",
      "INFO:tensorflow:global_step/sec: 701.175\n",
      "INFO:tensorflow:loss = 0.25456387, step = 8701 (0.142 sec)\n",
      "INFO:tensorflow:global_step/sec: 664.02\n",
      "INFO:tensorflow:loss = 0.18906432, step = 8801 (0.153 sec)\n",
      "INFO:tensorflow:global_step/sec: 737.26\n",
      "INFO:tensorflow:loss = 0.13757248, step = 8901 (0.135 sec)\n",
      "INFO:tensorflow:global_step/sec: 871.89\n",
      "INFO:tensorflow:loss = 0.20135416, step = 9001 (0.114 sec)\n",
      "INFO:tensorflow:global_step/sec: 849.725\n",
      "INFO:tensorflow:loss = 0.15478423, step = 9101 (0.118 sec)\n",
      "INFO:tensorflow:global_step/sec: 771.283\n",
      "INFO:tensorflow:loss = 0.08529582, step = 9201 (0.130 sec)\n",
      "INFO:tensorflow:global_step/sec: 651.089\n",
      "INFO:tensorflow:loss = 0.1458641, step = 9301 (0.157 sec)\n",
      "INFO:tensorflow:global_step/sec: 903.306\n",
      "INFO:tensorflow:loss = 0.121972516, step = 9401 (0.108 sec)\n",
      "INFO:tensorflow:global_step/sec: 903.277\n",
      "INFO:tensorflow:loss = 0.24926502, step = 9501 (0.112 sec)\n",
      "INFO:tensorflow:global_step/sec: 651.089\n",
      "INFO:tensorflow:loss = 0.24745235, step = 9601 (0.155 sec)\n",
      "INFO:tensorflow:global_step/sec: 659.664\n",
      "INFO:tensorflow:loss = 0.0966827, step = 9701 (0.150 sec)\n",
      "INFO:tensorflow:global_step/sec: 879.536\n",
      "INFO:tensorflow:loss = 0.035024423, step = 9801 (0.115 sec)\n",
      "INFO:tensorflow:global_step/sec: 808.609\n",
      "INFO:tensorflow:loss = 0.11434035, step = 9901 (0.123 sec)\n",
      "INFO:tensorflow:global_step/sec: 879.541\n",
      "INFO:tensorflow:loss = 0.15024121, step = 10001 (0.114 sec)\n",
      "INFO:tensorflow:global_step/sec: 871.89\n",
      "INFO:tensorflow:loss = 0.12182317, step = 10101 (0.116 sec)\n",
      "INFO:tensorflow:global_step/sec: 849.725\n",
      "INFO:tensorflow:loss = 0.36724988, step = 10201 (0.117 sec)\n",
      "INFO:tensorflow:global_step/sec: 911.516\n",
      "INFO:tensorflow:loss = 0.17305252, step = 10301 (0.111 sec)\n",
      "INFO:tensorflow:global_step/sec: 879.528\n",
      "INFO:tensorflow:loss = 0.40709507, step = 10401 (0.114 sec)\n",
      "INFO:tensorflow:global_step/sec: 871.902\n",
      "INFO:tensorflow:loss = 0.114094146, step = 10501 (0.114 sec)\n",
      "INFO:tensorflow:global_step/sec: 887.321\n",
      "INFO:tensorflow:loss = 0.3446237, step = 10601 (0.113 sec)\n",
      "INFO:tensorflow:global_step/sec: 954.926\n",
      "INFO:tensorflow:loss = 0.34472707, step = 10701 (0.105 sec)\n",
      "INFO:tensorflow:global_step/sec: 856.979\n",
      "INFO:tensorflow:loss = 0.1618616, step = 10801 (0.117 sec)\n",
      "INFO:tensorflow:global_step/sec: 887.323\n",
      "INFO:tensorflow:loss = 0.098745406, step = 10901 (0.114 sec)\n",
      "INFO:tensorflow:global_step/sec: 887.327\n",
      "INFO:tensorflow:loss = 0.16471711, step = 11001 (0.113 sec)\n",
      "INFO:tensorflow:global_step/sec: 835.557\n",
      "INFO:tensorflow:loss = 0.1491502, step = 11101 (0.120 sec)\n",
      "INFO:tensorflow:global_step/sec: 919.882\n",
      "INFO:tensorflow:loss = 0.08374278, step = 11201 (0.109 sec)\n",
      "INFO:tensorflow:global_step/sec: 879.545\n",
      "INFO:tensorflow:loss = 0.30855408, step = 11301 (0.113 sec)\n",
      "INFO:tensorflow:global_step/sec: 937.074\n",
      "INFO:tensorflow:loss = 0.19581868, step = 11401 (0.108 sec)\n",
      "INFO:tensorflow:global_step/sec: 849.696\n",
      "INFO:tensorflow:loss = 0.36085835, step = 11501 (0.117 sec)\n",
      "INFO:tensorflow:global_step/sec: 895.27\n",
      "INFO:tensorflow:loss = 0.15342966, step = 11601 (0.113 sec)\n",
      "INFO:tensorflow:global_step/sec: 808.611\n",
      "INFO:tensorflow:loss = 0.14294451, step = 11701 (0.123 sec)\n",
      "INFO:tensorflow:global_step/sec: 945.911\n",
      "INFO:tensorflow:loss = 0.17708288, step = 11801 (0.106 sec)\n",
      "INFO:tensorflow:global_step/sec: 753.893\n",
      "INFO:tensorflow:loss = 0.24764313, step = 11901 (0.133 sec)\n",
      "INFO:tensorflow:global_step/sec: 937.067\n",
      "INFO:tensorflow:loss = 0.09341103, step = 12001 (0.108 sec)\n",
      "INFO:tensorflow:global_step/sec: 835.567\n",
      "INFO:tensorflow:loss = 0.12338658, step = 12101 (0.119 sec)\n",
      "INFO:tensorflow:global_step/sec: 864.377\n",
      "INFO:tensorflow:loss = 0.12509996, step = 12201 (0.116 sec)\n",
      "INFO:tensorflow:global_step/sec: 808.6\n",
      "INFO:tensorflow:loss = 0.25566614, step = 12301 (0.124 sec)\n",
      "INFO:tensorflow:global_step/sec: 871.888\n",
      "INFO:tensorflow:loss = 0.065600954, step = 12401 (0.115 sec)\n",
      "INFO:tensorflow:global_step/sec: 945.922\n",
      "INFO:tensorflow:loss = 0.1033492, step = 12501 (0.107 sec)\n",
      "INFO:tensorflow:global_step/sec: 821.861\n",
      "INFO:tensorflow:loss = 0.081131704, step = 12601 (0.122 sec)\n",
      "INFO:tensorflow:global_step/sec: 856.99\n",
      "INFO:tensorflow:loss = 0.2542327, step = 12701 (0.116 sec)\n",
      "INFO:tensorflow:global_step/sec: 887.313\n",
      "INFO:tensorflow:loss = 0.22751847, step = 12801 (0.114 sec)\n",
      "INFO:tensorflow:global_step/sec: 879.543\n",
      "INFO:tensorflow:loss = 0.0688537, step = 12901 (0.113 sec)\n",
      "INFO:tensorflow:global_step/sec: 937.08\n",
      "INFO:tensorflow:loss = 0.35213453, step = 13001 (0.107 sec)\n",
      "INFO:tensorflow:global_step/sec: 895.237\n",
      "INFO:tensorflow:loss = 0.14346063, step = 13101 (0.113 sec)\n",
      "INFO:tensorflow:global_step/sec: 771.294\n"
     ]
    },
    {
     "name": "stdout",
     "output_type": "stream",
     "text": [
      "INFO:tensorflow:loss = 0.22638436, step = 13201 (0.129 sec)\n",
      "INFO:tensorflow:global_step/sec: 879.538\n",
      "INFO:tensorflow:loss = 0.08147151, step = 13301 (0.115 sec)\n",
      "INFO:tensorflow:global_step/sec: 919.86\n",
      "INFO:tensorflow:loss = 0.18662308, step = 13401 (0.108 sec)\n",
      "INFO:tensorflow:global_step/sec: 857.002\n",
      "INFO:tensorflow:loss = 0.16315174, step = 13501 (0.117 sec)\n",
      "INFO:tensorflow:global_step/sec: 928.401\n",
      "INFO:tensorflow:loss = 0.23438922, step = 13601 (0.108 sec)\n",
      "INFO:tensorflow:global_step/sec: 856.962\n",
      "INFO:tensorflow:loss = 0.10873005, step = 13701 (0.117 sec)\n",
      "INFO:tensorflow:global_step/sec: 887.345\n",
      "INFO:tensorflow:loss = 0.25731546, step = 13801 (0.114 sec)\n",
      "INFO:tensorflow:global_step/sec: 919.888\n",
      "INFO:tensorflow:loss = 0.10198964, step = 13901 (0.108 sec)\n",
      "INFO:tensorflow:global_step/sec: 928.399\n",
      "INFO:tensorflow:loss = 0.08246784, step = 14001 (0.108 sec)\n",
      "INFO:tensorflow:global_step/sec: 911.52\n",
      "INFO:tensorflow:loss = 0.28673425, step = 14101 (0.111 sec)\n",
      "INFO:tensorflow:global_step/sec: 919.886\n",
      "INFO:tensorflow:loss = 0.1346859, step = 14201 (0.108 sec)\n",
      "INFO:tensorflow:global_step/sec: 973.466\n",
      "INFO:tensorflow:loss = 0.12688895, step = 14301 (0.104 sec)\n",
      "INFO:tensorflow:global_step/sec: 835.562\n",
      "INFO:tensorflow:loss = 0.098679096, step = 14401 (0.119 sec)\n",
      "INFO:tensorflow:global_step/sec: 928.399\n",
      "INFO:tensorflow:loss = 0.09963072, step = 14501 (0.108 sec)\n",
      "INFO:tensorflow:global_step/sec: 973.466\n",
      "INFO:tensorflow:loss = 0.15720628, step = 14601 (0.104 sec)\n",
      "INFO:tensorflow:global_step/sec: 983.009\n",
      "INFO:tensorflow:loss = 0.13052711, step = 14701 (0.102 sec)\n",
      "INFO:tensorflow:global_step/sec: 887.321\n",
      "INFO:tensorflow:loss = 0.08403093, step = 14801 (0.112 sec)\n",
      "INFO:tensorflow:global_step/sec: 964.104\n",
      "INFO:tensorflow:loss = 0.20559601, step = 14901 (0.104 sec)\n",
      "INFO:tensorflow:global_step/sec: 887.332\n",
      "INFO:tensorflow:loss = 0.15513861, step = 15001 (0.113 sec)\n",
      "INFO:tensorflow:global_step/sec: 887.315\n",
      "INFO:tensorflow:loss = 0.25170004, step = 15101 (0.114 sec)\n",
      "INFO:tensorflow:global_step/sec: 716.198\n",
      "INFO:tensorflow:loss = 0.55147505, step = 15201 (0.139 sec)\n",
      "INFO:tensorflow:global_step/sec: 646.885\n",
      "INFO:tensorflow:loss = 0.2617482, step = 15301 (0.156 sec)\n",
      "INFO:tensorflow:global_step/sec: 842.582\n",
      "INFO:tensorflow:loss = 0.14399296, step = 15401 (0.118 sec)\n",
      "INFO:tensorflow:global_step/sec: 783.332\n",
      "INFO:tensorflow:loss = 0.16189446, step = 15501 (0.128 sec)\n",
      "INFO:tensorflow:global_step/sec: 711.122\n",
      "INFO:tensorflow:loss = 0.39203298, step = 15601 (0.142 sec)\n",
      "INFO:tensorflow:global_step/sec: 842.583\n",
      "INFO:tensorflow:loss = 0.23350434, step = 15701 (0.118 sec)\n",
      "INFO:tensorflow:global_step/sec: 835.557\n",
      "INFO:tensorflow:loss = 0.11084161, step = 15801 (0.120 sec)\n",
      "INFO:tensorflow:global_step/sec: 879.538\n",
      "INFO:tensorflow:loss = 0.12621336, step = 15901 (0.114 sec)\n",
      "INFO:tensorflow:global_step/sec: 919.888\n",
      "INFO:tensorflow:loss = 0.1331951, step = 16001 (0.109 sec)\n",
      "INFO:tensorflow:global_step/sec: 842.58\n",
      "INFO:tensorflow:loss = 0.19388075, step = 16101 (0.120 sec)\n",
      "INFO:tensorflow:global_step/sec: 879.534\n",
      "INFO:tensorflow:loss = 0.05740562, step = 16201 (0.114 sec)\n",
      "INFO:tensorflow:global_step/sec: 964.099\n",
      "INFO:tensorflow:loss = 0.12662579, step = 16301 (0.104 sec)\n",
      "INFO:tensorflow:global_step/sec: 973.482\n",
      "INFO:tensorflow:loss = 0.30307308, step = 16401 (0.103 sec)\n",
      "INFO:tensorflow:global_step/sec: 945.922\n",
      "INFO:tensorflow:loss = 0.15467039, step = 16501 (0.105 sec)\n",
      "INFO:tensorflow:global_step/sec: 911.518\n",
      "INFO:tensorflow:loss = 0.33709905, step = 16601 (0.110 sec)\n",
      "INFO:tensorflow:global_step/sec: 954.92\n",
      "INFO:tensorflow:loss = 0.20962442, step = 16701 (0.106 sec)\n",
      "INFO:tensorflow:global_step/sec: 856.993\n",
      "INFO:tensorflow:loss = 0.32204196, step = 16801 (0.116 sec)\n",
      "INFO:tensorflow:global_step/sec: 919.878\n",
      "INFO:tensorflow:loss = 0.13558625, step = 16901 (0.109 sec)\n",
      "INFO:tensorflow:global_step/sec: 954.922\n",
      "INFO:tensorflow:loss = 0.30063066, step = 17001 (0.106 sec)\n",
      "INFO:tensorflow:global_step/sec: 849.727\n",
      "INFO:tensorflow:loss = 0.21886702, step = 17101 (0.117 sec)\n",
      "INFO:tensorflow:global_step/sec: 887.315\n",
      "INFO:tensorflow:loss = 0.15876119, step = 17201 (0.114 sec)\n",
      "INFO:tensorflow:global_step/sec: 759.604\n",
      "INFO:tensorflow:loss = 0.16617334, step = 17301 (0.132 sec)\n",
      "INFO:tensorflow:global_step/sec: 864.374\n",
      "INFO:tensorflow:loss = 0.20930405, step = 17401 (0.115 sec)\n",
      "INFO:tensorflow:global_step/sec: 879.527\n",
      "INFO:tensorflow:loss = 0.27504024, step = 17501 (0.115 sec)\n",
      "INFO:tensorflow:global_step/sec: 765.403\n",
      "INFO:tensorflow:loss = 0.12604742, step = 17601 (0.130 sec)\n",
      "INFO:tensorflow:global_step/sec: 903.316\n",
      "INFO:tensorflow:loss = 0.067408234, step = 17701 (0.111 sec)\n",
      "INFO:tensorflow:global_step/sec: 964.104\n",
      "INFO:tensorflow:loss = 0.087205626, step = 17801 (0.105 sec)\n",
      "INFO:tensorflow:global_step/sec: 887.323\n",
      "INFO:tensorflow:loss = 0.287059, step = 17901 (0.113 sec)\n",
      "INFO:tensorflow:global_step/sec: 895.247\n",
      "INFO:tensorflow:loss = 0.16774394, step = 18001 (0.111 sec)\n",
      "INFO:tensorflow:global_step/sec: 911.512\n",
      "INFO:tensorflow:loss = 0.17006588, step = 18101 (0.111 sec)\n",
      "INFO:tensorflow:global_step/sec: 954.933\n",
      "INFO:tensorflow:loss = 0.23466292, step = 18201 (0.105 sec)\n",
      "INFO:tensorflow:global_step/sec: 789.507\n",
      "INFO:tensorflow:loss = 0.35529122, step = 18301 (0.127 sec)\n",
      "INFO:tensorflow:global_step/sec: 895.239\n",
      "INFO:tensorflow:loss = 0.1530283, step = 18401 (0.112 sec)\n",
      "INFO:tensorflow:global_step/sec: 879.534\n",
      "INFO:tensorflow:loss = 0.19181395, step = 18501 (0.115 sec)\n",
      "INFO:tensorflow:global_step/sec: 849.736\n",
      "INFO:tensorflow:loss = 0.32073915, step = 18601 (0.117 sec)\n",
      "INFO:tensorflow:global_step/sec: 895.241\n",
      "INFO:tensorflow:loss = 0.07143756, step = 18701 (0.111 sec)\n",
      "INFO:tensorflow:global_step/sec: 871.888\n",
      "INFO:tensorflow:loss = 0.4404399, step = 18801 (0.115 sec)\n",
      "INFO:tensorflow:global_step/sec: 856.983\n",
      "INFO:tensorflow:loss = 0.3486358, step = 18901 (0.117 sec)\n",
      "INFO:tensorflow:global_step/sec: 726.572\n",
      "INFO:tensorflow:loss = 0.047949266, step = 19001 (0.139 sec)\n",
      "INFO:tensorflow:global_step/sec: 808.608\n",
      "INFO:tensorflow:loss = 0.05782904, step = 19101 (0.124 sec)\n",
      "INFO:tensorflow:global_step/sec: 903.31\n",
      "INFO:tensorflow:loss = 0.07048052, step = 19201 (0.110 sec)\n",
      "INFO:tensorflow:global_step/sec: 895.239\n",
      "INFO:tensorflow:loss = 0.4812685, step = 19301 (0.113 sec)\n",
      "INFO:tensorflow:global_step/sec: 937.088\n",
      "INFO:tensorflow:loss = 0.2771433, step = 19401 (0.106 sec)\n",
      "INFO:tensorflow:global_step/sec: 964.104\n",
      "INFO:tensorflow:loss = 0.19212635, step = 19501 (0.104 sec)\n",
      "INFO:tensorflow:global_step/sec: 871.89\n",
      "INFO:tensorflow:loss = 0.06627428, step = 19601 (0.115 sec)\n",
      "INFO:tensorflow:global_step/sec: 895.245\n",
      "INFO:tensorflow:loss = 0.07789268, step = 19701 (0.112 sec)\n",
      "INFO:tensorflow:global_step/sec: 828.652\n",
      "INFO:tensorflow:loss = 0.06580383, step = 19801 (0.121 sec)\n",
      "INFO:tensorflow:global_step/sec: 895.245\n",
      "INFO:tensorflow:loss = 0.2119885, step = 19901 (0.113 sec)\n",
      "INFO:tensorflow:Saving checkpoints for 20000 into ./dnnmnist/model.ckpt.\n",
      "INFO:tensorflow:Loss for final step: 0.19579563.\n",
      "INFO:tensorflow:Graph was finalized.\n",
      "INFO:tensorflow:Restoring parameters from ./dnnmnist/model.ckpt-20000\n",
      "INFO:tensorflow:Running local_init_op.\n",
      "INFO:tensorflow:Done running local_init_op.\n",
      "INFO:tensorflow:Starting evaluation at 2018-11-08-23:15:02\n",
      "INFO:tensorflow:Graph was finalized.\n",
      "INFO:tensorflow:Restoring parameters from ./dnnmnist/model.ckpt-20000\n",
      "INFO:tensorflow:Running local_init_op.\n",
      "INFO:tensorflow:Done running local_init_op.\n",
      "INFO:tensorflow:Finished evaluation at 2018-11-08-23:15:02\n",
      "INFO:tensorflow:Saving dict for global step 20000: accuracy = 0.9377, global_step = 20000, loss = 0.20691264\n"
     ]
    },
    {
     "data": {
      "text/plain": [
       "{'loss': 0.20691264, 'accuracy': 0.9377, 'global_step': 20000}"
      ]
     },
     "execution_count": 8,
     "metadata": {},
     "output_type": "execute_result"
    }
   ],
   "source": [
    "feature_columns = [tf.contrib.layers.real_valued_column('', dimension = 28*28)]\n",
    "\n",
    "classifier = tf.contrib.learn.DNNClassifier(feature_columns = feature_columns,\n",
    "                                           hidden_units = [10, 20, 10],\n",
    "                                           n_classes = 10,\n",
    "                                           model_dir = \"./dnnmnist/\")\n",
    "\n",
    "classifier = SKCompat(classifier)\n",
    "\n",
    "classifier.fit(x = mnist.train.images,\n",
    "               y = mnist.train.labels.astype(np.int32),\n",
    "               steps = 20000,\n",
    "               batch_size = 50)\n",
    "\n",
    "pred = classifier.predict(mnist.test.images)['classes']\n",
    "\n",
    "classifier.score(mnist.test.images, mnist.test.labels.astype(np.int32))"
   ]
  },
  {
   "cell_type": "markdown",
   "metadata": {},
   "source": [
    "___\n",
    ">## 문제가 있는 데이터 확인\n",
    "\n",
    "- 컨퓨전 매트릭스를 사용해서 분석 결과를 평가"
   ]
  },
  {
   "cell_type": "code",
   "execution_count": 9,
   "metadata": {},
   "outputs": [],
   "source": [
    "from sklearn.metrics import confusion_matrix\n",
    "import seaborn as sns"
   ]
  },
  {
   "cell_type": "code",
   "execution_count": 21,
   "metadata": {
    "scrolled": false
   },
   "outputs": [
    {
     "data": {
      "text/plain": [
       "<matplotlib.axes._subplots.AxesSubplot at 0x2acc5fc0128>"
      ]
     },
     "execution_count": 21,
     "metadata": {},
     "output_type": "execute_result"
    },
    {
     "data": {
      "image/png": "[encoded data removed]",
      "text/plain": [
       "<Figure size 720x720 with 2 Axes>"
      ]
     },
     "metadata": {
      "needs_background": "light"
     },
     "output_type": "display_data"
    }
   ],
   "source": [
    "cm = confusion_matrix(mnist.test.labels, pred)\n",
    "plt.figure(figsize=(10,10))\n",
    "sns.heatmap(cm, annot = True, fmt = 'd', vmin = 0, vmax = 50, cmap = 'Blues')"
   ]
  },
  {
   "cell_type": "markdown",
   "metadata": {},
   "source": [
    "- 결과를 비교하면 3, 5, 8, 9 같이 비슷한 것에서 실수가 많이 발생\n",
    "- 실수가 거의 없는 '1'을 살펴보면 다음과 같음 (`mnist.test.images[3906]`)"
   ]
  },
  {
   "cell_type": "code",
   "execution_count": 26,
   "metadata": {},
   "outputs": [
    {
     "data": {
      "text/plain": [
       "Text(0.5, 1.05, 'gray-scale handwritting of 1\\n')"
      ]
     },
     "execution_count": 26,
     "metadata": {},
     "output_type": "execute_result"
    },
    {
     "data": {
      "image/png": "[encoded data removed]",
      "text/plain": [
       "<Figure size 288x288 with 1 Axes>"
      ]
     },
     "metadata": {
      "needs_background": "light"
     },
     "output_type": "display_data"
    }
   ],
   "source": [
    "plt.matshow(mnist.test.images[3906].reshape(28,28))\n",
    "plt.title('gray-scale handwritting of %d\\n' % mnist.test.labels[3906])"
   ]
  },
  {
   "cell_type": "code",
   "execution_count": 28,
   "metadata": {
    "scrolled": true
   },
   "outputs": [
    {
     "name": "stdout",
     "output_type": "stream",
     "text": [
      "INFO:tensorflow:Graph was finalized.\n",
      "INFO:tensorflow:Restoring parameters from ./dnnmnist/model.ckpt-20000\n",
      "INFO:tensorflow:Running local_init_op.\n",
      "INFO:tensorflow:Done running local_init_op.\n"
     ]
    },
    {
     "data": {
      "text/plain": [
       "{'logits': array([[ -5.1205006 ,   0.3966062 ,   7.076335  ,   4.9415483 ,\n",
       "          -6.959872  ,  -0.37042677, -14.585962  ,  -6.4113455 ,\n",
       "          -4.2538676 ,  -6.265916  ]], dtype=float32),\n",
       " 'probabilities': array([[4.5051906e-06, 1.1214046e-03, 8.9275348e-01, 1.0558580e-01,\n",
       "         7.1595252e-07, 5.2076776e-04, 3.4907263e-10, 1.2391000e-06,\n",
       "         1.0717347e-05, 1.4330642e-06]], dtype=float32),\n",
       " 'classes': array([2], dtype=int64)}"
      ]
     },
     "execution_count": 28,
     "metadata": {},
     "output_type": "execute_result"
    }
   ],
   "source": [
    "classifier.predict(mnist.test.images[3906:3907])"
   ]
  },
  {
   "cell_type": "markdown",
   "metadata": {},
   "source": [
    "- 추론 결과를 보면 '3'번째 값을 반환\n",
    "- 사람은 아래 부분의 수평선을 참조하여 1이라는 것을 알 수 있음\n",
    "- 하지만 fully-connected-layer를 사용하면, 이러한 개별적인 특징을 잡지 못함"
   ]
  },
  {
   "cell_type": "code",
   "execution_count": 49,
   "metadata": {},
   "outputs": [
    {
     "data": {
      "text/plain": [
       "Text(0.5, 1.05, 'gray-scale handwritting of 3\\n')"
      ]
     },
     "execution_count": 49,
     "metadata": {},
     "output_type": "execute_result"
    },
    {
     "data": {
      "image/png": "[encoded data removed]",
      "text/plain": [
       "<Figure size 432x288 with 1 Axes>"
      ]
     },
     "metadata": {
      "needs_background": "light"
     },
     "output_type": "display_data"
    },
    {
     "data": {
      "image/png": "[encoded data removed]",
      "text/plain": [
       "<Figure size 288x288 with 1 Axes>"
      ]
     },
     "metadata": {
      "needs_background": "light"
     },
     "output_type": "display_data"
    }
   ],
   "source": [
    "plt.imshow(mnist.train.images[mnist.train.labels==1].mean(axis =0).reshape(28,28))\n",
    "plt.title('gray-scale handwritting of 1\\n')\n",
    "\n",
    "plt.matshow(mnist.train.images[mnist.train.labels==3].mean(axis =0).reshape(28,28))\n",
    "plt.title('gray-scale handwritting of 3\\n')"
   ]
  },
  {
   "cell_type": "markdown",
   "metadata": {},
   "source": [
    "- 위 이미지는 `mnist.train`에 있는 1과 3의 모든 화소를 평균낸 결과임\n",
    "- 위 이미지를 `mnist.test`와 비교하여 유사한 것을 찾는데, 오류를 반환한 1의 경우 아래 수평선 때문에 3과 일치하는 화소가 더 많게 됨"
   ]
  },
  {
   "cell_type": "markdown",
   "metadata": {},
   "source": [
    "- 이처럼 화소 하나하나를 비교해서는 이미지 특징을 제대로 추출하기 어렵기에, 이미지 분석에서는 fully-connected-layer를 사용하는 대신 CNN을 사용"
   ]
  }
 ],
 "metadata": {
  "kernelspec": {
   "display_name": "Python [default]",
   "language": "python",
   "name": "python3"
  },
  "language_info": {
   "codemirror_mode": {
    "name": "ipython",
    "version": 3
   },
   "file_extension": ".py",
   "mimetype": "text/x-python",
   "name": "python",
   "nbconvert_exporter": "python",
   "pygments_lexer": "ipython3",
   "version": "3.6.7"
  }
 },
 "nbformat": 4,
 "nbformat_minor": 2
}
