{
 "cells": [
  {
   "cell_type": "markdown",
   "metadata": {},
   "source": [
    "> # 매개변수 튜닝하기\n",
    "\n",
    "- 보다 높은 정답률이 필요한 경우 식별기도 중요하지만 하이퍼파라미터 튜닝 또한 괸장히 중요\n",
    "- 여기서 **하이퍼파라미터란, 사람이 직접 설정해야 하는 매개변수**를 의미"
   ]
  },
  {
   "cell_type": "markdown",
   "metadata": {},
   "source": [
    "___\n",
    "> ## 그리드 서치\n",
    "\n",
    "- 가장 단순명쾌한 하이퍼파라미터 튜닝 방법은 **그리드서치**로 알려져 있음\n",
    "- 이는 여러 매개변수를 격자모양으로 결합하여 가장 정답률이 높은 것을 사용하는 방법임\n",
    "- 예를 들어 SVM의 `C = [0.1, 1.0, 10.0]`, `gamma = [0.1, 0.5, 1.0]`으로 각각 3가지 종류를 두고 조합한다면 총 9개의 조합의 모델 비교가 가능\n",
    "- 유방암 데이터세트를 사용하여 그리드서치하는 방법은 다음과 같음 (`sklearn.model_selection`의 `GridSearchCV` 사용)"
   ]
  },
  {
   "cell_type": "code",
   "execution_count": 12,
   "metadata": {},
   "outputs": [],
   "source": [
    "import pandas as pd\n",
    "import numpy as np\n",
    "from sklearn.preprocessing import MinMaxScaler\n",
    "from sklearn.svm import SVC\n",
    "from sklearn.model_selection import train_test_split\n",
    "# from sklearn.model_selection import GridSearchCV\n",
    "# from sklearn.model_selection import RandomizedSearchCV"
   ]
  },
  {
   "cell_type": "code",
   "execution_count": 4,
   "metadata": {},
   "outputs": [
    {
     "name": "stdout",
     "output_type": "stream",
     "text": [
      "Requesting query... ok.\n",
      "Job ID: 2f0e2c87-1820-4295-8076-ed9317af65cd\n",
      "Query running...\n",
      "Query done.\n",
      "Cache hit.\n",
      "\n",
      "Retrieving results...\n",
      "Got 569 rows.\n",
      "\n",
      "Total time taken 2.08 s.\n",
      "Finished at 2018-10-29 23:24:23.\n"
     ]
    }
   ],
   "source": [
    "# 데이터 호출\n",
    "query = 'select * from testdataset.wdbc order by index'\n",
    "dataset = pd.read_gbq(project_id = 'mlwithgcp', query = query)\n",
    "\n",
    "# 문자 클래스 숫자로 변경\n",
    "dataset['diagnostic'] = dataset['diagnostic'].apply(lambda X: 0 if X=='M' else 1)\n",
    "\n",
    "# index열 제거\n",
    "dataset.drop('index', axis = 1, inplace = True)\n",
    "\n",
    "# array 변경\n",
    "X_dataset = dataset.drop('diagnostic', axis = 1).as_matrix()\n",
    "y_dataset = dataset.diagnostic.as_matrix()\n",
    "\n",
    "# 정규화\n",
    "scaler = MinMaxScaler()\n",
    "X_dataset = scaler.fit_transform(X_dataset)\n",
    "\n",
    "# 학습데이터 훈련데이터 분류\n",
    "X_train, X_test, y_train, y_test = train_test_split(X_dataset, y_dataset,\n",
    "                                                   test_size = 0.2, random_state = 42)"
   ]
  },
  {
   "cell_type": "code",
   "execution_count": 5,
   "metadata": {},
   "outputs": [],
   "source": [
    "from sklearn.model_selection import GridSearchCV"
   ]
  },
  {
   "cell_type": "code",
   "execution_count": 6,
   "metadata": {},
   "outputs": [
    {
     "data": {
      "text/plain": [
       "0.9824561403508771"
      ]
     },
     "execution_count": 6,
     "metadata": {},
     "output_type": "execute_result"
    }
   ],
   "source": [
    "# 매개변수 정의\n",
    "params = {'C': [0.1, 1.0, 10.0],\n",
    "         'gamma': [0.1, 0.5, 1.0]}\n",
    "\n",
    "# 학습기 인스턴스와 그리드 매개변수 전달\n",
    "classifier = SVC()\n",
    "gs = GridSearchCV(classifier, params)\n",
    "\n",
    "# 그리드서치 실행\n",
    "gs.fit(X_train, y_train)\n",
    "gs.score(X_test,y_test)"
   ]
  },
  {
   "cell_type": "markdown",
   "metadata": {},
   "source": [
    "- 결과는 가장 정답률이 높은 98.2%만 반환\n",
    "- `GridSearchCV`에서는 '학습기'와 '매개변수 범위'를 매개변수 입력값으로 받음\n",
    "- 그리드서치 리스트를 확인하려면 `grid_scores_`로 결과값 확인 가능 (참조. `grid_scores_`는 deprecated되어 향후 `cv_scores_`로 대체)"
   ]
  },
  {
   "cell_type": "code",
   "execution_count": 10,
   "metadata": {},
   "outputs": [
    {
     "name": "stderr",
     "output_type": "stream",
     "text": [
      "/usr/local/envs/py3env/lib/python3.5/site-packages/sklearn/model_selection/_search.py:761: DeprecationWarning: The grid_scores_ attribute was deprecated in version 0.18 in favor of the more elaborate cv_results_ attribute. The grid_scores_ attribute will not be available from 0.20\n",
      "  DeprecationWarning)\n"
     ]
    },
    {
     "data": {
      "text/plain": [
       "[mean: 0.87912, std: 0.01107, params: {'C': 0.1, 'gamma': 0.1},\n",
       " mean: 0.94725, std: 0.00509, params: {'C': 0.1, 'gamma': 0.5},\n",
       " mean: 0.95385, std: 0.00957, params: {'C': 0.1, 'gamma': 1.0},\n",
       " mean: 0.96044, std: 0.00541, params: {'C': 1.0, 'gamma': 0.1},\n",
       " mean: 0.97143, std: 0.00637, params: {'C': 1.0, 'gamma': 0.5},\n",
       " mean: 0.97363, std: 0.00943, params: {'C': 1.0, 'gamma': 1.0},\n",
       " mean: 0.97363, std: 0.00541, params: {'C': 10.0, 'gamma': 0.1},\n",
       " mean: 0.97582, std: 0.00834, params: {'C': 10.0, 'gamma': 0.5},\n",
       " mean: 0.97802, std: 0.00832, params: {'C': 10.0, 'gamma': 1.0}]"
      ]
     },
     "execution_count": 10,
     "metadata": {},
     "output_type": "execute_result"
    }
   ],
   "source": [
    "gs.grid_scores_\n",
    "#gs.cv_results_"
   ]
  },
  {
   "cell_type": "markdown",
   "metadata": {},
   "source": [
    "- 현재 조합에서는 `C = 10.0`, `gamma = 1.0`일때 가장 정답률 평균이 높고, 분산이 높지 않아 이 조합이 가장 좋은 매개변수라고 할 수 있음\n",
    "- 가장 좋은 매개변수만 확인하고 싶을 때에는 `best_params_`를 사용"
   ]
  },
  {
   "cell_type": "code",
   "execution_count": 11,
   "metadata": {},
   "outputs": [
    {
     "data": {
      "text/plain": [
       "{'C': 10.0, 'gamma': 1.0}"
      ]
     },
     "execution_count": 11,
     "metadata": {},
     "output_type": "execute_result"
    }
   ],
   "source": [
    "gs.best_params_"
   ]
  },
  {
   "cell_type": "markdown",
   "metadata": {},
   "source": [
    "___\n",
    ">## 조합을 시각화하기\n",
    "\n",
    "- 결과값이 숫자의 나열이기 때문에 히트맵을 사용하면 굉장히 편리할 수 있음\n",
    "- 그리드서치의 범위를 늘린 후 매개변수 경향 확인"
   ]
  },
  {
   "cell_type": "code",
   "execution_count": 13,
   "metadata": {},
   "outputs": [
    {
     "data": {
      "text/plain": [
       "GridSearchCV(cv=None, error_score='raise',\n",
       "       estimator=SVC(C=1.0, cache_size=200, class_weight=None, coef0=0.0,\n",
       "  decision_function_shape='ovr', degree=3, gamma='auto', kernel='rbf',\n",
       "  max_iter=-1, probability=False, random_state=None, shrinking=True,\n",
       "  tol=0.001, verbose=False),\n",
       "       fit_params=None, iid=True, n_jobs=1,\n",
       "       param_grid={'C': array([ 5., 10., 15., 20., 25., 30., 35., 40., 45., 50.]), 'gamma': array([0.01, 0.12, 0.23, 0.34, 0.45, 0.56, 0.67, 0.78, 0.89, 1.  ])},\n",
       "       pre_dispatch='2*n_jobs', refit=True, return_train_score='warn',\n",
       "       scoring=None, verbose=0)"
      ]
     },
     "execution_count": 13,
     "metadata": {},
     "output_type": "execute_result"
    }
   ],
   "source": [
    "params = {'C': np.linspace(5, 50, 10),\n",
    "         'gamma': np.linspace(0.01, 1.0, 10)}\n",
    "\n",
    "gs = GridSearchCV(classifier, params)\n",
    "gs.fit(X_train, y_train)"
   ]
  },
  {
   "cell_type": "code",
   "execution_count": 16,
   "metadata": {},
   "outputs": [
    {
     "name": "stderr",
     "output_type": "stream",
     "text": [
      "/usr/local/envs/py3env/lib/python3.5/site-packages/sklearn/utils/deprecation.py:122: FutureWarning: You are accessing a training score ('mean_train_score'), which will not be available by default any more in 0.21. If you need training scores, please set return_train_score=True\n",
      "  warnings.warn(*warn_args, **warn_kwargs)\n",
      "/usr/local/envs/py3env/lib/python3.5/site-packages/sklearn/utils/deprecation.py:122: FutureWarning: You are accessing a training score ('split0_train_score'), which will not be available by default any more in 0.21. If you need training scores, please set return_train_score=True\n",
      "  warnings.warn(*warn_args, **warn_kwargs)\n",
      "/usr/local/envs/py3env/lib/python3.5/site-packages/sklearn/utils/deprecation.py:122: FutureWarning: You are accessing a training score ('split1_train_score'), which will not be available by default any more in 0.21. If you need training scores, please set return_train_score=True\n",
      "  warnings.warn(*warn_args, **warn_kwargs)\n",
      "/usr/local/envs/py3env/lib/python3.5/site-packages/sklearn/utils/deprecation.py:122: FutureWarning: You are accessing a training score ('split2_train_score'), which will not be available by default any more in 0.21. If you need training scores, please set return_train_score=True\n",
      "  warnings.warn(*warn_args, **warn_kwargs)\n",
      "/usr/local/envs/py3env/lib/python3.5/site-packages/sklearn/utils/deprecation.py:122: FutureWarning: You are accessing a training score ('std_train_score'), which will not be available by default any more in 0.21. If you need training scores, please set return_train_score=True\n",
      "  warnings.warn(*warn_args, **warn_kwargs)\n"
     ]
    },
    {
     "data": {
      "text/html": [
       "<div>\n",
       "<style scoped>\n",
       "    .dataframe tbody tr th:only-of-type {\n",
       "        vertical-align: middle;\n",
       "    }\n",
       "\n",
       "    .dataframe tbody tr th {\n",
       "        vertical-align: top;\n",
       "    }\n",
       "\n",
       "    .dataframe thead th {\n",
       "        text-align: right;\n",
       "    }\n",
       "</style>\n",
       "<table border=\"1\" class=\"dataframe\">\n",
       "  <thead>\n",
       "    <tr style=\"text-align: right;\">\n",
       "      <th></th>\n",
       "      <th>mean_fit_time</th>\n",
       "      <th>mean_score_time</th>\n",
       "      <th>mean_test_score</th>\n",
       "      <th>mean_train_score</th>\n",
       "      <th>param_C</th>\n",
       "      <th>param_gamma</th>\n",
       "      <th>params</th>\n",
       "      <th>rank_test_score</th>\n",
       "      <th>split0_test_score</th>\n",
       "      <th>split0_train_score</th>\n",
       "      <th>split1_test_score</th>\n",
       "      <th>split1_train_score</th>\n",
       "      <th>split2_test_score</th>\n",
       "      <th>split2_train_score</th>\n",
       "      <th>std_fit_time</th>\n",
       "      <th>std_score_time</th>\n",
       "      <th>std_test_score</th>\n",
       "      <th>std_train_score</th>\n",
       "    </tr>\n",
       "  </thead>\n",
       "  <tbody>\n",
       "    <tr>\n",
       "      <th>0</th>\n",
       "      <td>0.003922</td>\n",
       "      <td>0.001736</td>\n",
       "      <td>0.949451</td>\n",
       "      <td>0.950549</td>\n",
       "      <td>5</td>\n",
       "      <td>0.01</td>\n",
       "      <td>{'C': 5.0, 'gamma': 0.01}</td>\n",
       "      <td>100</td>\n",
       "      <td>0.954248</td>\n",
       "      <td>0.950331</td>\n",
       "      <td>0.953642</td>\n",
       "      <td>0.947368</td>\n",
       "      <td>0.940397</td>\n",
       "      <td>0.953947</td>\n",
       "      <td>0.000208</td>\n",
       "      <td>0.000045</td>\n",
       "      <td>0.006385</td>\n",
       "      <td>0.002690</td>\n",
       "    </tr>\n",
       "    <tr>\n",
       "      <th>1</th>\n",
       "      <td>0.002505</td>\n",
       "      <td>0.001045</td>\n",
       "      <td>0.975824</td>\n",
       "      <td>0.980205</td>\n",
       "      <td>5</td>\n",
       "      <td>0.12</td>\n",
       "      <td>{'C': 5.0, 'gamma': 0.12}</td>\n",
       "      <td>5</td>\n",
       "      <td>0.980392</td>\n",
       "      <td>0.973510</td>\n",
       "      <td>0.966887</td>\n",
       "      <td>0.983553</td>\n",
       "      <td>0.980132</td>\n",
       "      <td>0.983553</td>\n",
       "      <td>0.000375</td>\n",
       "      <td>0.000049</td>\n",
       "      <td>0.006299</td>\n",
       "      <td>0.004734</td>\n",
       "    </tr>\n",
       "    <tr>\n",
       "      <th>2</th>\n",
       "      <td>0.002012</td>\n",
       "      <td>0.000886</td>\n",
       "      <td>0.975824</td>\n",
       "      <td>0.981309</td>\n",
       "      <td>5</td>\n",
       "      <td>0.23</td>\n",
       "      <td>{'C': 5.0, 'gamma': 0.23}</td>\n",
       "      <td>5</td>\n",
       "      <td>0.980392</td>\n",
       "      <td>0.976821</td>\n",
       "      <td>0.966887</td>\n",
       "      <td>0.980263</td>\n",
       "      <td>0.980132</td>\n",
       "      <td>0.986842</td>\n",
       "      <td>0.000031</td>\n",
       "      <td>0.000026</td>\n",
       "      <td>0.006299</td>\n",
       "      <td>0.004157</td>\n",
       "    </tr>\n",
       "    <tr>\n",
       "      <th>3</th>\n",
       "      <td>0.001934</td>\n",
       "      <td>0.000874</td>\n",
       "      <td>0.973626</td>\n",
       "      <td>0.981309</td>\n",
       "      <td>5</td>\n",
       "      <td>0.34</td>\n",
       "      <td>{'C': 5.0, 'gamma': 0.34}</td>\n",
       "      <td>19</td>\n",
       "      <td>0.980392</td>\n",
       "      <td>0.976821</td>\n",
       "      <td>0.966887</td>\n",
       "      <td>0.980263</td>\n",
       "      <td>0.973510</td>\n",
       "      <td>0.986842</td>\n",
       "      <td>0.000077</td>\n",
       "      <td>0.000023</td>\n",
       "      <td>0.005520</td>\n",
       "      <td>0.004157</td>\n",
       "    </tr>\n",
       "    <tr>\n",
       "      <th>4</th>\n",
       "      <td>0.001909</td>\n",
       "      <td>0.000969</td>\n",
       "      <td>0.973626</td>\n",
       "      <td>0.983502</td>\n",
       "      <td>5</td>\n",
       "      <td>0.45</td>\n",
       "      <td>{'C': 5.0, 'gamma': 0.45}</td>\n",
       "      <td>19</td>\n",
       "      <td>0.980392</td>\n",
       "      <td>0.976821</td>\n",
       "      <td>0.960265</td>\n",
       "      <td>0.983553</td>\n",
       "      <td>0.980132</td>\n",
       "      <td>0.990132</td>\n",
       "      <td>0.000106</td>\n",
       "      <td>0.000165</td>\n",
       "      <td>0.009417</td>\n",
       "      <td>0.005434</td>\n",
       "    </tr>\n",
       "  </tbody>\n",
       "</table>\n",
       "</div>"
      ],
      "text/plain": [
       "   mean_fit_time  mean_score_time  mean_test_score  mean_train_score param_C  \\\n",
       "0       0.003922         0.001736         0.949451          0.950549       5   \n",
       "1       0.002505         0.001045         0.975824          0.980205       5   \n",
       "2       0.002012         0.000886         0.975824          0.981309       5   \n",
       "3       0.001934         0.000874         0.973626          0.981309       5   \n",
       "4       0.001909         0.000969         0.973626          0.983502       5   \n",
       "\n",
       "  param_gamma                     params  rank_test_score  split0_test_score  \\\n",
       "0        0.01  {'C': 5.0, 'gamma': 0.01}              100           0.954248   \n",
       "1        0.12  {'C': 5.0, 'gamma': 0.12}                5           0.980392   \n",
       "2        0.23  {'C': 5.0, 'gamma': 0.23}                5           0.980392   \n",
       "3        0.34  {'C': 5.0, 'gamma': 0.34}               19           0.980392   \n",
       "4        0.45  {'C': 5.0, 'gamma': 0.45}               19           0.980392   \n",
       "\n",
       "   split0_train_score  split1_test_score  split1_train_score  \\\n",
       "0            0.950331           0.953642            0.947368   \n",
       "1            0.973510           0.966887            0.983553   \n",
       "2            0.976821           0.966887            0.980263   \n",
       "3            0.976821           0.966887            0.980263   \n",
       "4            0.976821           0.960265            0.983553   \n",
       "\n",
       "   split2_test_score  split2_train_score  std_fit_time  std_score_time  \\\n",
       "0           0.940397            0.953947      0.000208        0.000045   \n",
       "1           0.980132            0.983553      0.000375        0.000049   \n",
       "2           0.980132            0.986842      0.000031        0.000026   \n",
       "3           0.973510            0.986842      0.000077        0.000023   \n",
       "4           0.980132            0.990132      0.000106        0.000165   \n",
       "\n",
       "   std_test_score  std_train_score  \n",
       "0        0.006385         0.002690  \n",
       "1        0.006299         0.004734  \n",
       "2        0.006299         0.004157  \n",
       "3        0.005520         0.004157  \n",
       "4        0.009417         0.005434  "
      ]
     },
     "execution_count": 16,
     "metadata": {},
     "output_type": "execute_result"
    }
   ],
   "source": [
    "pd.DataFrame(gs.cv_results_).head()"
   ]
  },
  {
   "cell_type": "markdown",
   "metadata": {},
   "source": [
    "- 그리드서치 결과값은 gs.cv_results_에 저장되어 있음\n",
    "- `seaborn`을 사용하여 히트맵으로 표현"
   ]
  },
  {
   "cell_type": "code",
   "execution_count": 23,
   "metadata": {},
   "outputs": [
    {
     "name": "stderr",
     "output_type": "stream",
     "text": [
      "/usr/local/envs/py3env/lib/python3.5/site-packages/sklearn/utils/deprecation.py:122: FutureWarning: You are accessing a training score ('mean_train_score'), which will not be available by default any more in 0.21. If you need training scores, please set return_train_score=True\n",
      "  warnings.warn(*warn_args, **warn_kwargs)\n",
      "/usr/local/envs/py3env/lib/python3.5/site-packages/sklearn/utils/deprecation.py:122: FutureWarning: You are accessing a training score ('split0_train_score'), which will not be available by default any more in 0.21. If you need training scores, please set return_train_score=True\n",
      "  warnings.warn(*warn_args, **warn_kwargs)\n",
      "/usr/local/envs/py3env/lib/python3.5/site-packages/sklearn/utils/deprecation.py:122: FutureWarning: You are accessing a training score ('split1_train_score'), which will not be available by default any more in 0.21. If you need training scores, please set return_train_score=True\n",
      "  warnings.warn(*warn_args, **warn_kwargs)\n",
      "/usr/local/envs/py3env/lib/python3.5/site-packages/sklearn/utils/deprecation.py:122: FutureWarning: You are accessing a training score ('split2_train_score'), which will not be available by default any more in 0.21. If you need training scores, please set return_train_score=True\n",
      "  warnings.warn(*warn_args, **warn_kwargs)\n",
      "/usr/local/envs/py3env/lib/python3.5/site-packages/sklearn/utils/deprecation.py:122: FutureWarning: You are accessing a training score ('std_train_score'), which will not be available by default any more in 0.21. If you need training scores, please set return_train_score=True\n",
      "  warnings.warn(*warn_args, **warn_kwargs)\n",
      "/usr/local/envs/py3env/lib/python3.5/site-packages/matplotlib/font_manager.py:1320: UserWarning: findfont: Font family ['sans-serif'] not found. Falling back to DejaVu Sans\n",
      "  (prop.get_family(), self.defaultFamily[fontext]))\n"
     ]
    },
    {
     "data": {
      "text/plain": [
       "<matplotlib.axes._subplots.AxesSubplot at 0x7f86b3ce05c0>"
      ]
     },
     "execution_count": 23,
     "metadata": {},
     "output_type": "execute_result"
    },
    {
     "data": {
      "image/png": "[encoded data removed]",
      "text/plain": [
       "<matplotlib.figure.Figure at 0x7f86a90e3908>"
      ]
     },
     "metadata": {},
     "output_type": "display_data"
    }
   ],
   "source": [
    "import seaborn as sns\n",
    "import matplotlib.pyplot as plt\n",
    "\n",
    "# dict를 DataFrame으로 변환\n",
    "df = pd.DataFrame(gs.cv_results_)\n",
    "\n",
    "# C와 gamma의 mean_test_score로 매트릭스 행렬 만들기\n",
    "hm = df.pivot('param_C', 'param_gamma', 'mean_test_score')\n",
    "\n",
    "# 히트맵 그리기\n",
    "plt.figure(figsize = (9,8))\n",
    "sns.heatmap(hm, annot = True)"
   ]
  },
  {
   "cell_type": "markdown",
   "metadata": {},
   "source": [
    "- 결과를 보면 `C = 10.0` 근처에서 정답률이 높게 나온다는 것을 확인 가능\n",
    "- 한편, 'C'와 'gamma' 값이 모두 높은 경우 정답률이 잘 나오지 않음을 확인 가능\n",
    "- 이를 통해 튜닝의 방향을 쉽게 잡아갈 수 있음"
   ]
  },
  {
   "cell_type": "markdown",
   "metadata": {},
   "source": [
    "___\n",
    ">## 랜덤 서치\n",
    "\n",
    "- 그리드서치의 단점은, 조합 수만큼 학습을 반복해야하므로 데이터세트가 큰 경우에는 시간이 굉장히 오래 걸림\n",
    "- 이때는 매개변수의 조합을 무작위로 추출하는 **랜덤서치**를 많이 사용\n",
    "- `GridSearchCV` 대신 `RandomizedSearchCV`로 대체\n",
    "- `RandomizedSearchCV`는 조합 중 무작위로 `n_iter`수만큼 선택한 뒤 학습 실행"
   ]
  },
  {
   "cell_type": "code",
   "execution_count": 26,
   "metadata": {},
   "outputs": [
    {
     "data": {
      "text/plain": [
       "0.9736842105263158"
      ]
     },
     "execution_count": 26,
     "metadata": {},
     "output_type": "execute_result"
    }
   ],
   "source": [
    "from sklearn.model_selection import RandomizedSearchCV\n",
    "\n",
    "params = {'C': np.linspace(5, 50, 10),\n",
    "         'gamma': np.linspace(0.01, 1.0, 10)}\n",
    "\n",
    "# 그리드서치와 변경된 부분\n",
    "rs = RandomizedSearchCV(classifier, params, n_iter=10, random_state=42)\n",
    "\n",
    "rs.fit(X_train, y_train)\n",
    "rs.score(X_test, y_test)"
   ]
  },
  {
   "cell_type": "code",
   "execution_count": 28,
   "metadata": {},
   "outputs": [
    {
     "name": "stderr",
     "output_type": "stream",
     "text": [
      "/usr/local/envs/py3env/lib/python3.5/site-packages/sklearn/utils/deprecation.py:122: FutureWarning: You are accessing a training score ('mean_train_score'), which will not be available by default any more in 0.21. If you need training scores, please set return_train_score=True\n",
      "  warnings.warn(*warn_args, **warn_kwargs)\n",
      "/usr/local/envs/py3env/lib/python3.5/site-packages/sklearn/utils/deprecation.py:122: FutureWarning: You are accessing a training score ('split0_train_score'), which will not be available by default any more in 0.21. If you need training scores, please set return_train_score=True\n",
      "  warnings.warn(*warn_args, **warn_kwargs)\n",
      "/usr/local/envs/py3env/lib/python3.5/site-packages/sklearn/utils/deprecation.py:122: FutureWarning: You are accessing a training score ('split1_train_score'), which will not be available by default any more in 0.21. If you need training scores, please set return_train_score=True\n",
      "  warnings.warn(*warn_args, **warn_kwargs)\n",
      "/usr/local/envs/py3env/lib/python3.5/site-packages/sklearn/utils/deprecation.py:122: FutureWarning: You are accessing a training score ('split2_train_score'), which will not be available by default any more in 0.21. If you need training scores, please set return_train_score=True\n",
      "  warnings.warn(*warn_args, **warn_kwargs)\n",
      "/usr/local/envs/py3env/lib/python3.5/site-packages/sklearn/utils/deprecation.py:122: FutureWarning: You are accessing a training score ('std_train_score'), which will not be available by default any more in 0.21. If you need training scores, please set return_train_score=True\n",
      "  warnings.warn(*warn_args, **warn_kwargs)\n",
      "/usr/local/envs/py3env/lib/python3.5/site-packages/matplotlib/font_manager.py:1320: UserWarning: findfont: Font family ['sans-serif'] not found. Falling back to DejaVu Sans\n",
      "  (prop.get_family(), self.defaultFamily[fontext]))\n"
     ]
    },
    {
     "data": {
      "text/plain": [
       "<matplotlib.axes._subplots.AxesSubplot at 0x7f86a8fb9908>"
      ]
     },
     "execution_count": 28,
     "metadata": {},
     "output_type": "execute_result"
    },
    {
     "data": {
      "image/png": "[encoded data removed]",
      "text/plain": [
       "<matplotlib.figure.Figure at 0x7f86a90cae80>"
      ]
     },
     "metadata": {},
     "output_type": "display_data"
    }
   ],
   "source": [
    "df = pd.DataFrame(rs.cv_results_)\n",
    "\n",
    "# C와 gamma의 mean_test_score로 매트릭스 행렬 만들기\n",
    "hm = df.pivot('param_C', 'param_gamma', 'mean_test_score')\n",
    "\n",
    "# 히트맵 그리기\n",
    "plt.figure(figsize = (9,8))\n",
    "sns.heatmap(hm, annot = True)"
   ]
  },
  {
   "cell_type": "markdown",
   "metadata": {},
   "source": [
    "- 정답률은 97.4%로 `GridSearchCV`에 비해 소폭 줄어들었음\n",
    "- `RandomizedSearchCV`의 경우 10개의 조합만 무작위로 평가한 것을 확인 가능\n",
    "- 단순 계산으로 시간은 `GridSearchCV`에 비해 1/9로 줄어들었다고 할 수 있음\n",
    "- 이를 잘 활용하여 '시간 감소'와 '정답률 감소' 사이에 적당한 균형을 찾을 필요가 있음"
   ]
  },
  {
   "cell_type": "markdown",
   "metadata": {},
   "source": [
    "___\n",
    "> ## 번외. Grid Search with xgboost"
   ]
  },
  {
   "cell_type": "code",
   "execution_count": 29,
   "metadata": {},
   "outputs": [],
   "source": [
    "from sklearn.ensemble import GradientBoostingClassifier"
   ]
  },
  {
   "cell_type": "code",
   "execution_count": 30,
   "metadata": {},
   "outputs": [],
   "source": [
    "classifier = GradientBoostingClassifier()"
   ]
  },
  {
   "cell_type": "code",
   "execution_count": 31,
   "metadata": {},
   "outputs": [
    {
     "data": {
      "text/plain": [
       "RandomizedSearchCV(cv=None, error_score='raise',\n",
       "          estimator=GradientBoostingClassifier(criterion='friedman_mse', init=None,\n",
       "              learning_rate=0.1, loss='deviance', max_depth=3,\n",
       "              max_features=None, max_leaf_nodes=None,\n",
       "              min_impurity_decrease=0.0, min_impurity_split=None,\n",
       "              min_samples_leaf=1, min_samples_split=2,\n",
       "              min_weight_fraction_leaf=0.0, n_estimators=100,\n",
       "              presort='auto', random_state=None, subsample=1.0, verbose=0,\n",
       "              warm_start=False),\n",
       "          fit_params=None, iid=True, n_iter=5, n_jobs=1,\n",
       "          param_distributions={'max_depth': [2, 3, 4], 'learning_rate': array([0.05, 0.1 , 0.15, 0.2 , 0.25, 0.3 , 0.35, 0.4 , 0.45, 0.5 ])},\n",
       "          pre_dispatch='2*n_jobs', random_state=None, refit=True,\n",
       "          return_train_score='warn', scoring=None, verbose=0)"
      ]
     },
     "execution_count": 31,
     "metadata": {},
     "output_type": "execute_result"
    }
   ],
   "source": [
    "params = {'learning_rate' : np.linspace(0.05, 0.5, 10),\n",
    "         'max_depth': [2, 3, 4]}\n",
    "\n",
    "rs = RandomizedSearchCV(classifier, params, n_iter = 5)\n",
    "\n",
    "rs.fit(X_train, y_train)"
   ]
  },
  {
   "cell_type": "code",
   "execution_count": 33,
   "metadata": {},
   "outputs": [
    {
     "name": "stderr",
     "output_type": "stream",
     "text": [
      "/usr/local/envs/py3env/lib/python3.5/site-packages/sklearn/utils/deprecation.py:122: FutureWarning: You are accessing a training score ('mean_train_score'), which will not be available by default any more in 0.21. If you need training scores, please set return_train_score=True\n",
      "  warnings.warn(*warn_args, **warn_kwargs)\n",
      "/usr/local/envs/py3env/lib/python3.5/site-packages/sklearn/utils/deprecation.py:122: FutureWarning: You are accessing a training score ('split0_train_score'), which will not be available by default any more in 0.21. If you need training scores, please set return_train_score=True\n",
      "  warnings.warn(*warn_args, **warn_kwargs)\n",
      "/usr/local/envs/py3env/lib/python3.5/site-packages/sklearn/utils/deprecation.py:122: FutureWarning: You are accessing a training score ('split1_train_score'), which will not be available by default any more in 0.21. If you need training scores, please set return_train_score=True\n",
      "  warnings.warn(*warn_args, **warn_kwargs)\n",
      "/usr/local/envs/py3env/lib/python3.5/site-packages/sklearn/utils/deprecation.py:122: FutureWarning: You are accessing a training score ('split2_train_score'), which will not be available by default any more in 0.21. If you need training scores, please set return_train_score=True\n",
      "  warnings.warn(*warn_args, **warn_kwargs)\n",
      "/usr/local/envs/py3env/lib/python3.5/site-packages/sklearn/utils/deprecation.py:122: FutureWarning: You are accessing a training score ('std_train_score'), which will not be available by default any more in 0.21. If you need training scores, please set return_train_score=True\n",
      "  warnings.warn(*warn_args, **warn_kwargs)\n",
      "/usr/local/envs/py3env/lib/python3.5/site-packages/matplotlib/font_manager.py:1320: UserWarning: findfont: Font family ['sans-serif'] not found. Falling back to DejaVu Sans\n",
      "  (prop.get_family(), self.defaultFamily[fontext]))\n"
     ]
    },
    {
     "data": {
      "text/plain": [
       "<matplotlib.axes._subplots.AxesSubplot at 0x7f86a7db5ef0>"
      ]
     },
     "execution_count": 33,
     "metadata": {},
     "output_type": "execute_result"
    },
    {
     "data": {
      "image/png": "[encoded data removed]",
      "text/plain": [
       "<matplotlib.figure.Figure at 0x7f86a7db5630>"
      ]
     },
     "metadata": {},
     "output_type": "display_data"
    }
   ],
   "source": [
    "df = pd.DataFrame(rs.cv_results_)\n",
    "\n",
    "# C와 gamma의 mean_test_score로 매트릭스 행렬 만들기\n",
    "hm = df.pivot('param_learning_rate', 'param_max_depth', 'mean_test_score')\n",
    "\n",
    "# 히트맵 그리기\n",
    "plt.figure(figsize = (9,8))\n",
    "sns.heatmap(hm, annot = True)"
   ]
  }
 ],
 "metadata": {
  "kernelspec": {
   "display_name": "Python 3",
   "language": "python",
   "name": "python3"
  },
  "language_info": {
   "codemirror_mode": {
    "name": "ipython",
    "version": 3
   },
   "file_extension": ".py",
   "mimetype": "text/x-python",
   "name": "python",
   "nbconvert_exporter": "python",
   "pygments_lexer": "ipython3",
   "version": "3.5.5"
  }
 },
 "nbformat": 4,
 "nbformat_minor": 2
}
