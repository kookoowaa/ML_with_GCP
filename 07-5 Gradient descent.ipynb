{
 "cells": [
  {
   "cell_type": "markdown",
   "metadata": {},
   "source": [
    "> # 다양한 경사 하강법\n",
    "\n",
    "- \"04-5\"에서 로지스틱회귀와 경사하강법에 대해 다루어 보았음\n",
    "- 경사하강법을 통해 손실함수의 기울기를 가장 크게 떨어지는 부분으로 조정하며 매개변수를 최적화"
   ]
  },
  {
   "cell_type": "markdown",
   "metadata": {},
   "source": [
    "___\n",
    ">## 3가지 경사 하강법"
   ]
  },
  {
   "cell_type": "markdown",
   "metadata": {},
   "source": [
    "### 1. 배치 경사 하강법 (Batch gradient descent)\n",
    "\n",
    "    - 이 방법은 훈련데이터 전체에 대해 손실함수의 경사를 계산\n",
    "    - 따라서 처리 속도가 느리고 리소스를 많이 사용함\n",
    "    - 의사코드(Pseudo Code)로 나타내면 다음과 같음:\n",
    "\n",
    "\n",
    "```python\n",
    "for i in range(epochs): # 에포크 수\n",
    "    gradient =          # 모든 데이터를 기반으로 구한 경사\n",
    "    param = param - learning_rate * gradient\n",
    "```"
   ]
  },
  {
   "cell_type": "markdown",
   "metadata": {},
   "source": [
    "### 2. 확률적 경사 하강법 (Stochastic gradient descent: SGD)\n",
    "\n",
    "    - 훈련 데이터 전체 대신, 데이터 하나하나의 경사를 보고 그때마다 매개변수를 갱신\n",
    "    - 하나의 반복계산속도도 빠르고 리소스도 적게 사용함\n",
    "    - 의사코드(Pseudo Code)로 나타내면 다음과 같음:\n",
    "\n",
    "```python\n",
    "for i in range(epochs):  # 에포크 수\n",
    "    for data in dataset:\n",
    "        gradient =       # 데이터 1개를 기반으로 구한 경사\n",
    "        param = param - learning_rate * gradient\n",
    "```"
   ]
  },
  {
   "cell_type": "markdown",
   "metadata": {},
   "source": [
    "## 3. 미니배치 경사 하강법 (Mini-batch gradient descent)\n",
    "\n",
    "    - 위 두 방법을 조합\n",
    "    - 훈련데이터를 일정한 크기의 미니배치로 분할, 미니배치 단위로 기울기 계산과 매개변수 조정을 수행\n",
    "    - 데이터 크기 고정으로 행렬 연산이 가능하여 보다 안정적으로 수렴 가능\n",
    "    - 의사코드(Pseudo Code)로 나타내면 다음과 같음:\n",
    "\n",
    "```python\n",
    "for i in range(epochs):   # 에포크 수\n",
    "    for data in np.split(dataset, len(dataset)/50):   # 50개씩 데이터 분할\n",
    "        gradient =    # 데이터 50개 기반으로 경사 계산\n",
    "        param = param - learning_rate * gradient\n",
    "```"
   ]
  },
  {
   "cell_type": "markdown",
   "metadata": {},
   "source": [
    "- 일반적으로 신경망과 딥러닝에는 **미니배치 경사하강법을 많이 사용**\n",
    "- 단, 일반적으로 SGD를 사용한다 라고 지칭하는 경우가 많음\n"
   ]
  },
  {
   "cell_type": "markdown",
   "metadata": {},
   "source": [
    "___\n",
    ">## 최적화 방법"
   ]
  },
  {
   "cell_type": "code",
   "execution_count": null,
   "metadata": {},
   "outputs": [],
   "source": []
  }
 ],
 "metadata": {
  "kernelspec": {
   "display_name": "Python 3",
   "language": "python",
   "name": "python3"
  },
  "language_info": {
   "codemirror_mode": {
    "name": "ipython",
    "version": 3
   },
   "file_extension": ".py",
   "mimetype": "text/x-python",
   "name": "python",
   "nbconvert_exporter": "python",
   "pygments_lexer": "ipython3",
   "version": "3.5.5"
  }
 },
 "nbformat": 4,
 "nbformat_minor": 2
}
