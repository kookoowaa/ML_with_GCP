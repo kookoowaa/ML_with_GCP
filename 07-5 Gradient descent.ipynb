{
 "cells": [
  {
   "cell_type": "markdown",
   "metadata": {},
   "source": [
    "> # 다양한 경사 하강법\n",
    "\n",
    "- \"04-5\"에서 로지스틱회귀와 경사하강법에 대해 다루어 보았음\n",
    "- 경사하강법을 통해 손실함수의 기울기를 가장 크게 떨어지는 부분으로 조정하며 매개변수를 최적화"
   ]
  },
  {
   "cell_type": "markdown",
   "metadata": {},
   "source": [
    "___\n",
    ">## 3가지 경사 하강법"
   ]
  },
  {
   "cell_type": "markdown",
   "metadata": {},
   "source": [
    "### 1. 배치 경사 하강법 (Batch gradient descent)"
   ]
  },
  {
   "cell_type": "markdown",
   "metadata": {},
   "source": [
    "- 이 방법은 훈련데이터 전체에 대해 손실함수의 경사를 계산\n",
    "- 따라서 처리 속도가 느리고 리소스를 많이 사용함\n",
    "- 의사코드(Pseudo Code)로 나타내면 다음과 같음:\n",
    "\n",
    "\n",
    "```python\n",
    "for i in range(epochs): # 에포크 수\n",
    "    gradient =          # 모든 데이터를 기반으로 구한 경사\n",
    "    param = param - learning_rate * gradient\n",
    "```"
   ]
  },
  {
   "cell_type": "markdown",
   "metadata": {},
   "source": [
    "### 2. 확률적 경사 하강법 (Stochastic gradient descent: SGD)"
   ]
  },
  {
   "cell_type": "markdown",
   "metadata": {},
   "source": [
    "- 훈련 데이터 전체 대신, 데이터 하나하나의 경사를 보고 그때마다 매개변수를 갱신\n",
    "- 하나의 반복계산속도도 빠르고 리소스도 적게 사용함\n",
    "- 의사코드(Pseudo Code)로 나타내면 다음과 같음:\n",
    "\n",
    "```python\n",
    "for i in range(epochs):  # 에포크 수\n",
    "    for data in dataset:\n",
    "        gradient =       # 데이터 1개를 기반으로 구한 경사\n",
    "        param = param - learning_rate * gradient\n",
    "```"
   ]
  },
  {
   "cell_type": "markdown",
   "metadata": {},
   "source": [
    "### 3. 미니배치 경사 하강법 (Mini-batch gradient descent)"
   ]
  },
  {
   "cell_type": "markdown",
   "metadata": {},
   "source": [
    "- 위 두 방법을 조합\n",
    "- 훈련데이터를 일정한 크기의 미니배치로 분할, 미니배치 단위로 기울기 계산과 매개변수 조정을 수행\n",
    "- 데이터 크기 고정으로 행렬 연산이 가능하여 보다 안정적으로 수렴 가능\n",
    "- 의사코드(Pseudo Code)로 나타내면 다음과 같음:\n",
    "\n",
    "```python\n",
    "for i in range(epochs):   # 에포크 수\n",
    "    for data in np.split(dataset, len(dataset)/50):   # 50개씩 데이터 분할\n",
    "        gradient =    # 데이터 50개 기반으로 경사 계산\n",
    "        param = param - learning_rate * gradient\n",
    "```"
   ]
  },
  {
   "cell_type": "markdown",
   "metadata": {},
   "source": [
    "- 일반적으로 신경망과 딥러닝에는 **미니배치 경사하강법을 많이 사용**\n",
    "- 단, 일반적으로 SGD를 사용한다 라고 지칭하는 경우가 많음\n"
   ]
  },
  {
   "cell_type": "markdown",
   "metadata": {},
   "source": [
    "___\n",
    ">## 최적화 방법\n",
    "\n",
    "- 학습은 손실을 최소로 할 수 있게 매개변수를 변경하는 것\n",
    "- 따라서 손실이 경사를 따라 내려가게 매개변수를 변경하는 것도 최적화 방법 중 하나임\n",
    "- 크게 다음 4종의 최적화 방법이 있음"
   ]
  },
  {
   "cell_type": "markdown",
   "metadata": {},
   "source": [
    "### 1. SGD"
   ]
  },
  {
   "cell_type": "markdown",
   "metadata": {},
   "source": [
    "- SGD는 현재 위치에서 가장 경사가 급한 방향으로 매개변수를 변경\n",
    "- 합리적인 방법이지만 경사가 골짜기를 이룬 경우, 학습이 골짜기를 오르락 내리락하며 바닥까지 학습까지 많은 시간이 소요"
   ]
  },
  {
   "cell_type": "markdown",
   "metadata": {},
   "source": [
    "### 2. Adagrad"
   ]
  },
  {
   "cell_type": "markdown",
   "metadata": {},
   "source": [
    "- 학습률을 고정하지 않고 천천히 줄이는 방법\n",
    "- 과거의 기울기를 저장하고 매개변수를 얼마나 변경할지 조절할 때 사용\n",
    "- 의사코드(Psuedo code)로 작성하면 다음과 같음:\n",
    "```python\n",
    "eps = 1e-8\n",
    "cache += gradient ** 2\n",
    "param += - learning_rate * gradient / (np.sqrt(cache) + eps)\n",
    "```"
   ]
  },
  {
   "cell_type": "markdown",
   "metadata": {},
   "source": [
    "### 3. RMSprop"
   ]
  },
  {
   "cell_type": "markdown",
   "metadata": {},
   "source": [
    "- Adagrad처럼 학습을 진행하면, 학습률도 계속 낮아지게 됨\n",
    "- RMSprop은 과거의 기울기를 제곱해서 곧바로 사용하는 대신, 감소율을 곱하여 과거의 기울기를 조금씩 잊게 만듬\n",
    "- 의사코드(Psuedo code)를 작성하면 다음과 같음:\n",
    "```python\n",
    "decay_rate = 0.99\n",
    "cache = decay_rate * cache + (1 - decay_rate) * gradient ** 2\n",
    "param += -learning_rate * gradient / (np,sqrt(cache) + eps)\n",
    "```"
   ]
  },
  {
   "cell_type": "markdown",
   "metadata": {},
   "source": [
    "### 4. Adam"
   ]
  },
  {
   "cell_type": "markdown",
   "metadata": {},
   "source": [
    "- Adam은 RMSprop에 모멘텀 개념을 추가\n",
    "- 경사를 내려올 때 관성의 원리를 추가\n",
    "- 의사코드(Psuedo code)는 다음과 같음:\n",
    "```python\n",
    "beta1 = 0.9\n",
    "beta2 = 0.999\n",
    "m = beta1*m + (1-beta1)*gradient\n",
    "v = beta2*v + (1-beta2)*(gradient**2)\n",
    "param += learning_rate * m / (np.sqrt(v) + eps)\n",
    "```\n",
    "- `v`는 RMSprop의 `cache`에 해당\n",
    "- `m`은 과거의 기울기를 줄이면서 새로운 기울기에 가중치를 부여\n"
   ]
  },
  {
   "cell_type": "markdown",
   "metadata": {},
   "source": [
    "___\n",
    ">## 최적화 방법 비교하기"
   ]
  },
  {
   "cell_type": "code",
   "execution_count": null,
   "metadata": {},
   "outputs": [],
   "source": []
  }
 ],
 "metadata": {
  "kernelspec": {
   "display_name": "Python 3",
   "language": "python",
   "name": "python3"
  },
  "language_info": {
   "codemirror_mode": {
    "name": "ipython",
    "version": 3
   },
   "file_extension": ".py",
   "mimetype": "text/x-python",
   "name": "python",
   "nbconvert_exporter": "python",
   "pygments_lexer": "ipython3",
   "version": "3.5.5"
  }
 },
 "nbformat": 4,
 "nbformat_minor": 2
}
