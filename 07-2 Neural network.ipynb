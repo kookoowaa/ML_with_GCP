{
 "cells": [
  {
   "cell_type": "markdown",
   "metadata": {},
   "source": [
    "># 신경망\n",
    "\n",
    "- 딥러닝이란 일반적으로 머신러닝 방법 중 하나인 신경망의 레이어를 깊게 만든것을 지칭"
   ]
  },
  {
   "cell_type": "code",
   "execution_count": 1,
   "metadata": {},
   "outputs": [],
   "source": [
    "import numpy as np\n",
    "import pandas as pd\n",
    "import matplotlib.pyplot as plt\n",
    "\n",
    "\n",
    "def plot_boundary():\n",
    "    # 0.05간격으로 그리드 점 생성하기\n",
    "    xx, yy = np.meshgrid(np.arange(-5, 5, 0.05),\n",
    "                         np.arange(-5, 5, 0.05))\n",
    "    # 생성한 그리드의 점을 하나하나 추론하기\n",
    "    Z = predict(np.c_[xx.ravel(), yy.ravel()])\n",
    "\n",
    "    # 그래프를 그릴 수 있게 2차원 배열로 변환하기\n",
    "    Z = Z.reshape(xx.shape)\n",
    "\n",
    "    # 식별 경계를 기준으로 영역을 색칠하기\n",
    "    plt.contourf(xx, yy, Z, cmap=plt.cm.Blues, alpha=0.5)\n",
    "    plt.colorbar(ticks=[0, 0.5, 1])\n",
    "\n",
    "    # 식별 경계 그리기\n",
    "    plt.contour(xx, yy, Z, colors='k', levels=[0], linestyles=['-'])\n",
    "    \n",
    "\n",
    "\n",
    "# 단순한 퍼셉트론\n",
    "def predict(X_dataset):\n",
    "    pred = []\n",
    "    for X in X_dataset:\n",
    "        a_out = 1 if (np.dot(w, X) + b) > 0 else 0\n",
    "        pred.append(a_out)\n",
    "    return np.array(pred, dtype=np.float32)"
   ]
  },
  {
   "cell_type": "markdown",
   "metadata": {},
   "source": [
    "___\n",
    ">## 다층 퍼셉트론\n",
    "\n",
    "- 하나의 퍼셉트론은 굉장히 단순한 식별기로, 복잡한 식별 경계를 만들 수 없음\n",
    "- 하지만 다층 퍼셉트론으로 여러개의 퍼셉트론을 쌓으면 비선형 식별경계를 만들 수 있음\n",
    "- 여기서 **다층 퍼셉트론<sub>(Multi Layer Perceptron, MLP)<sub/>**을 **신경망<sub>(Neural Network)<sub/>**이라고 부름"
   ]
  },
  {
   "cell_type": "markdown",
   "metadata": {},
   "source": [
    "- 하나의 간단한 신경망을 가정해 보자:\n",
    ">- 입력층은 x0, x1 2개로 이루어짐\n",
    ">- 출력층은 y 1개로 이루어짐\n",
    ">- 중간에 은닉층이 1개 있고, 유닛 2개(퍼셉트론 2개: A1, A2)로 구성되어 있음\n",
    ">- 유닛은 각각 x0, x1에 대해 x0>0, x1>0의 판별식을 갖게 됨 (`w = [1, 0]', 'w=[0, 1]`)\n",
    "\n",
    "- 위의 유닛은 각각 아래와 같은 식별 경계를 나타냄"
   ]
  },
  {
   "cell_type": "code",
   "execution_count": 8,
   "metadata": {},
   "outputs": [
    {
     "name": "stderr",
     "output_type": "stream",
     "text": [
      "/usr/local/envs/py3env/lib/python3.5/site-packages/matplotlib/contour.py:1180: UserWarning: No contour levels were found within the data range.\n",
      "  warnings.warn(\"No contour levels were found\"\n",
      "/usr/local/envs/py3env/lib/python3.5/site-packages/matplotlib/font_manager.py:1320: UserWarning: findfont: Font family ['sans-serif'] not found. Falling back to DejaVu Sans\n",
      "  (prop.get_family(), self.defaultFamily[fontext]))\n"
     ]
    },
    {
     "data": {
      "image/png": "[encoded data removed]",
      "text/plain": [
       "<matplotlib.figure.Figure at 0x7f150ddcdb38>"
      ]
     },
     "metadata": {},
     "output_type": "display_data"
    },
    {
     "data": {
      "text/plain": [
       "Text(0.5,1,'x1 > 0\\n')"
      ]
     },
     "execution_count": 8,
     "metadata": {},
     "output_type": "execute_result"
    },
    {
     "data": {
      "image/png": "[encoded data removed]",
      "text/plain": [
       "<matplotlib.figure.Figure at 0x7f150ce8a7f0>"
      ]
     },
     "metadata": {},
     "output_type": "display_data"
    }
   ],
   "source": [
    "w = [1., 0.]\n",
    "b = 0.\n",
    "\n",
    "plot_boundary()\n",
    "plt.xlabel('x0')\n",
    "plt.ylabel('x1')\n",
    "plt.title('x0 > 0\\n')\n",
    "plt.show()\n",
    "\n",
    "w = [0., 1.]\n",
    "b = 0.\n",
    "\n",
    "plot_boundary()\n",
    "plt.xlabel('x0')\n",
    "plt.ylabel('x1')\n",
    "plt.title('x1 > 0\\n')"
   ]
  },
  {
   "cell_type": "markdown",
   "metadata": {},
   "source": [
    "- 위와 같은 A1, A2 유닛의 출력은 (0, 1)로 구분되므로, 총 4종류로 둘의 조합을 나타낼 수 있음  \n",
    "\n",
    "A1|A2|조건\n",
    "---|---|---\n",
    "0|0|not(x0>0) and not(x1>0)\n",
    "0|1|not(x0>0) and x1>0\n",
    "1|0|x0>0 and not(x1>0)\n",
    "1|1|x0>0 and x1>0\n",
    "\n",
    "- A11==1, A12==1일 때만 1을 반환하게 조건을 추가한다면 다음과 같은 입출력 조합 반환  \n",
    "\n",
    "A11|A12|A21(가칭)\n",
    "---|---|---\n",
    "0|0|0\n",
    "0|1|0\n",
    "1|0|0\n",
    "1|1|1\n",
    "\n",
    "- 위의 입출력 관계만으로 가중치를 조절하기는 어려움이 있으므로, 시각화를 해 보면 다음과 같음"
   ]
  },
  {
   "cell_type": "code",
   "execution_count": 16,
   "metadata": {},
   "outputs": [
    {
     "name": "stderr",
     "output_type": "stream",
     "text": [
      "/usr/local/envs/py3env/lib/python3.5/site-packages/matplotlib/contour.py:1180: UserWarning: No contour levels were found within the data range.\n",
      "  warnings.warn(\"No contour levels were found\"\n"
     ]
    },
    {
     "data": {
      "text/plain": [
       "(-2, 2)"
      ]
     },
     "execution_count": 16,
     "metadata": {},
     "output_type": "execute_result"
    },
    {
     "name": "stderr",
     "output_type": "stream",
     "text": [
      "/usr/local/envs/py3env/lib/python3.5/site-packages/matplotlib/font_manager.py:1320: UserWarning: findfont: Font family ['sans-serif'] not found. Falling back to DejaVu Sans\n",
      "  (prop.get_family(), self.defaultFamily[fontext]))\n"
     ]
    },
    {
     "data": {
      "image/png": "[encoded data removed]",
      "text/plain": [
       "<matplotlib.figure.Figure at 0x7f150cb5c2e8>"
      ]
     },
     "metadata": {},
     "output_type": "display_data"
    }
   ],
   "source": [
    "# 가중치와 바이어스 설정하기\n",
    "w = [1., 1.]\n",
    "b = -1.5\n",
    "  \n",
    "plot_boundary()\n",
    "plt.xlabel('x0')\n",
    "plt.ylabel('x1')\n",
    "\n",
    "plt.scatter(x = [0, 0, 1, 1], y = [0, 1, 0, 1], c= [0, 0, 0, 1])\n",
    "plt.ylim(-2, 2)\n",
    "plt.xlim(-2, 2)"
   ]
  },
  {
   "cell_type": "markdown",
   "metadata": {},
   "source": [
    "- 위의 식별경계를 계산해 보면 $x1 = -x0 + 1.5$ 직선으로 표시 가능\n",
    "- 이는 $1*x0 + 1*x1 - 1.5 = 0$으로 바꿔 쓸 수 있고 `w = [1.0, 1.0]`, `b = -1.5`로 표기 가능\n",
    "- 신경망 전체의 식별 경계는 다음과 같음"
   ]
  },
  {
   "cell_type": "code",
   "execution_count": 4,
   "metadata": {},
   "outputs": [
    {
     "name": "stderr",
     "output_type": "stream",
     "text": [
      "C:\\Programming\\Anaconda3\\lib\\site-packages\\matplotlib\\contour.py:1230: UserWarning: No contour levels were found within the data range.\n",
      "  warnings.warn(\"No contour levels were found\"\n"
     ]
    },
    {
     "data": {
      "text/plain": [
       "(-2, 2)"
      ]
     },
     "execution_count": 4,
     "metadata": {},
     "output_type": "execute_result"
    },
    {
     "data": {
      "image/png": "[encoded data removed]",
      "text/plain": [
       "<Figure size 432x288 with 2 Axes>"
      ]
     },
     "metadata": {
      "needs_background": "light"
     },
     "output_type": "display_data"
    }
   ],
   "source": [
    "def predict(X_dataset):\n",
    "    pred = []\n",
    "    for X in X_dataset:\n",
    "        a11_out = 1 if (np.dot(w11, X) + b11) > 0 else 0\n",
    "        a12_out = 1 if (np.dot(w12, X) + b12) > 0 else 0\n",
    "        a21_out = 1 if (np.dot(w21, [a11_out, a12_out]) + b21) > 0 else 0\n",
    "        pred.append(a21_out)\n",
    "    return np.array(pred, dtype = np.float32)\n",
    "\n",
    "w11 = [1., 0.]\n",
    "w12 = [0., 1.]\n",
    "w21 = [1., 1.]\n",
    "b11 = 0.\n",
    "b12 = 0.\n",
    "b21 = -1.5\n",
    "plot_boundary()\n",
    "\n",
    "plt.xlabel('x0')\n",
    "plt.ylabel('x1')\n",
    "\n",
    "plt.scatter(x = [0, 0, 1, 1], y = [0, 1, 0, 1], c= [0, 0, 0, 1], edgecolors='k')\n",
    "plt.ylim(-2, 2)\n",
    "plt.xlim(-2, 2)"
   ]
  },
  {
   "cell_type": "markdown",
   "metadata": {},
   "source": [
    "- 이전 식별경계와 비교해 보면, 상단의 식별경계는 단층 퍼셉트론으로, 'w'와 'b'를 인수로 받아 선형 식별경계밖에 만들 수 없었음\n",
    "- 신경망의 경우 여러개의 퍼셉트론을 조합하여 판별식을 만들다 보니, 하단의 식별경계처럼 비선형 식별경계를 생성"
   ]
  },
  {
   "cell_type": "markdown",
   "metadata": {},
   "source": [
    "___\n",
    ">## 다양한 형태의 식별경계\n",
    "\n",
    "- 위의 식에서 가중치에 변화를 주면, 각 판별식의 기울기에 영향을 주게 됨"
   ]
  },
  {
   "cell_type": "code",
   "execution_count": 5,
   "metadata": {},
   "outputs": [
    {
     "name": "stderr",
     "output_type": "stream",
     "text": [
      "C:\\Programming\\Anaconda3\\lib\\site-packages\\matplotlib\\contour.py:1230: UserWarning: No contour levels were found within the data range.\n",
      "  warnings.warn(\"No contour levels were found\"\n"
     ]
    },
    {
     "data": {
      "image/png": "[encoded data removed]",
      "text/plain": [
       "<Figure size 432x288 with 2 Axes>"
      ]
     },
     "metadata": {
      "needs_background": "light"
     },
     "output_type": "display_data"
    }
   ],
   "source": [
    "w11 = [0.5, 0.2]\n",
    "w12 = [0.2, 0.5]\n",
    "w21 = [1.0, 1.0]\n",
    "b11 = 0.\n",
    "b12 = 0.\n",
    "b21 = -1.5\n",
    "\n",
    "plot_boundary()"
   ]
  },
  {
   "cell_type": "markdown",
   "metadata": {},
   "source": [
    "- 혹은 편향을 조절하여 AND 대신 OR 게이트로 연결하는 것도 가능  \n",
    "    (둘다 옳지 않은 경우 = 0, 하나라도 옳은 경우(or) = 1, 둘다 옳은 경우(and) =2)"
   ]
  },
  {
   "cell_type": "code",
   "execution_count": 14,
   "metadata": {},
   "outputs": [
    {
     "name": "stderr",
     "output_type": "stream",
     "text": [
      "C:\\Programming\\Anaconda3\\lib\\site-packages\\matplotlib\\contour.py:1230: UserWarning: No contour levels were found within the data range.\n",
      "  warnings.warn(\"No contour levels were found\"\n"
     ]
    },
    {
     "data": {
      "image/png": "[encoded data removed]",
      "text/plain": [
       "<Figure size 432x288 with 2 Axes>"
      ]
     },
     "metadata": {
      "needs_background": "light"
     },
     "output_type": "display_data"
    }
   ],
   "source": [
    "w11 = [0.5, 0.2]\n",
    "w12 = [0.2, 0.5]\n",
    "w21 = [1.0, 1.0]\n",
    "b11 = 0.\n",
    "b12 = 0.\n",
    "b21 = -0.001\n",
    "\n",
    "plot_boundary()"
   ]
  },
  {
   "cell_type": "markdown",
   "metadata": {},
   "source": [
    "- 은닉층의 유닛(퍼셉트론)을 추가하면, 식별경계는 더욱 복잡해짐\n",
    "- 은닉층의 유닛 2개에서 3개로 늘리면 판별식은 다음과 같이 작성 가능"
   ]
  },
  {
   "cell_type": "code",
   "execution_count": 15,
   "metadata": {},
   "outputs": [],
   "source": [
    "def predict(X_dataset):\n",
    "    pred = []\n",
    "    for X in X_dataset:\n",
    "        a11_out = 1 if (np.dot(w11, X) + b11) > 0 else 0\n",
    "        a12_out = 1 if (np.dot(w12, X) + b12) > 0 else 0\n",
    "        a13_out = 1 if (np.dot(w13, X) + b12) > 0 else 0\n",
    "        a21_out = 1 if (np.dot(w21, [a11_out, a12_out, a13_out]) + b21) > 0 else 0\n",
    "        pred.append(a21_out)\n",
    "    return np.array(pred, dtype = np.float32)"
   ]
  },
  {
   "cell_type": "code",
   "execution_count": 19,
   "metadata": {},
   "outputs": [
    {
     "name": "stderr",
     "output_type": "stream",
     "text": [
      "C:\\Programming\\Anaconda3\\lib\\site-packages\\matplotlib\\contour.py:1230: UserWarning: No contour levels were found within the data range.\n",
      "  warnings.warn(\"No contour levels were found\"\n"
     ]
    },
    {
     "data": {
      "image/png": "[encoded data removed]",
      "text/plain": [
       "<Figure size 432x288 with 2 Axes>"
      ]
     },
     "metadata": {
      "needs_background": "light"
     },
     "output_type": "display_data"
    }
   ],
   "source": [
    "w11 = [0.5, 0.2]\n",
    "w12 = [-0.2, 0.5]\n",
    "w13 = [0.6, -0.2]\n",
    "w21 = [1.0, 1.0, 1.0]\n",
    "b11 = -0.2\n",
    "b12 = 0.5\n",
    "b13 = 0.6\n",
    "b21 = -2.5 # AND GATE\n",
    "\n",
    "plot_boundary()"
   ]
  },
  {
   "cell_type": "markdown",
   "metadata": {},
   "source": [
    "- 위 처럼 유닛을 늘려가며 식별 경계를 더 복잡하고 정교하게 모델링 가능 (원형 식별경계도 가능)\n",
    "- 단, 복잡한 모델일수록 학습데이터에 과적합 될 수 있으니 이를 고려할 필요가 있음"
   ]
  }
 ],
 "metadata": {
  "kernelspec": {
   "display_name": "Python 3",
   "language": "python",
   "name": "python3"
  },
  "language_info": {
   "codemirror_mode": {
    "name": "ipython",
    "version": 3
   },
   "file_extension": ".py",
   "mimetype": "text/x-python",
   "name": "python",
   "nbconvert_exporter": "python",
   "pygments_lexer": "ipython3",
   "version": "3.7.0"
  }
 },
 "nbformat": 4,
 "nbformat_minor": 2
}
