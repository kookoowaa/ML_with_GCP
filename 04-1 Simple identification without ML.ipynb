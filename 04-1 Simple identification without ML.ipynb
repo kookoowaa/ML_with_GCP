{
 "cells": [
  {
   "cell_type": "code",
   "execution_count": 2,
   "metadata": {},
   "outputs": [],
   "source": [
    "import numpy as np\n",
    "import pandas as pd\n",
    "from sklearn.datasets import make_blobs"
   ]
  },
  {
   "cell_type": "markdown",
   "metadata": {},
   "source": [
    "> - 과거의 관측 데이터로부터 \"$x0<x1$일 경우 $y=0$, $x0>x1$일 때 $y=1$\"라는 규칙을 발견\n",
    "> - `make_blobs`로 (0.3,0.7), (0.7,0.3)을 기준으로 std가 0.1인 가상 데이터 집합 생성\n",
    "> - 위 규칙을 적용했을 때 식별 정확도는?\n",
    "\n",
    "- `make_blobs`로 데이터 생성 시, `x_dataset`은 2차원 배열, `y_dataset`은 (0,1) 1차원 배열로 구성\n"
   ]
  },
  {
   "cell_type": "code",
   "execution_count": 4,
   "metadata": {},
   "outputs": [],
   "source": [
    "x_dataset, y_dataset = make_blobs(centers = [[0.3, 0.7], [0.7, 0.3]],\n",
    "                                 cluster_std = 0.1,\n",
    "                                 center_box = (0, 1),\n",
    "                                 random_state = 42)"
   ]
  },
  {
   "cell_type": "markdown",
   "metadata": {},
   "source": [
    "- pandas로 데이터 변환"
   ]
  },
  {
   "cell_type": "code",
   "execution_count": 10,
   "metadata": {},
   "outputs": [
    {
     "data": {
      "text/html": [
       "<div>\n",
       "<style scoped>\n",
       "    .dataframe tbody tr th:only-of-type {\n",
       "        vertical-align: middle;\n",
       "    }\n",
       "\n",
       "    .dataframe tbody tr th {\n",
       "        vertical-align: top;\n",
       "    }\n",
       "\n",
       "    .dataframe thead th {\n",
       "        text-align: right;\n",
       "    }\n",
       "</style>\n",
       "<table border=\"1\" class=\"dataframe\">\n",
       "  <thead>\n",
       "    <tr style=\"text-align: right;\">\n",
       "      <th></th>\n",
       "      <th>x0</th>\n",
       "      <th>x1</th>\n",
       "      <th>y</th>\n",
       "    </tr>\n",
       "  </thead>\n",
       "  <tbody>\n",
       "    <tr>\n",
       "      <th>0</th>\n",
       "      <td>0.747324</td>\n",
       "      <td>0.292717</td>\n",
       "      <td>1</td>\n",
       "    </tr>\n",
       "    <tr>\n",
       "      <th>1</th>\n",
       "      <td>0.216078</td>\n",
       "      <td>0.669079</td>\n",
       "      <td>0</td>\n",
       "    </tr>\n",
       "    <tr>\n",
       "      <th>2</th>\n",
       "      <td>0.508123</td>\n",
       "      <td>0.297349</td>\n",
       "      <td>1</td>\n",
       "    </tr>\n",
       "    <tr>\n",
       "      <th>3</th>\n",
       "      <td>0.252083</td>\n",
       "      <td>0.681434</td>\n",
       "      <td>0</td>\n",
       "    </tr>\n",
       "    <tr>\n",
       "      <th>4</th>\n",
       "      <td>0.602532</td>\n",
       "      <td>0.378708</td>\n",
       "      <td>1</td>\n",
       "    </tr>\n",
       "  </tbody>\n",
       "</table>\n",
       "</div>"
      ],
      "text/plain": [
       "         x0        x1  y\n",
       "0  0.747324  0.292717  1\n",
       "1  0.216078  0.669079  0\n",
       "2  0.508123  0.297349  1\n",
       "3  0.252083  0.681434  0\n",
       "4  0.602532  0.378708  1"
      ]
     },
     "execution_count": 10,
     "metadata": {},
     "output_type": "execute_result"
    }
   ],
   "source": [
    "dataset = pd.DataFrame(x_dataset, columns = ['x0', 'x1'])\n",
    "dataset['y'] = y_dataset\n",
    "dataset.head()"
   ]
  },
  {
   "cell_type": "markdown",
   "metadata": {},
   "source": [
    "- 예측 함수를 생성하고, 만든 함수로 가상 데이터에 대입"
   ]
  },
  {
   "cell_type": "code",
   "execution_count": 16,
   "metadata": {},
   "outputs": [
    {
     "data": {
      "text/plain": [
       "0    1\n",
       "1    0\n",
       "2    1\n",
       "3    0\n",
       "4    1\n",
       "dtype: int64"
      ]
     },
     "execution_count": 16,
     "metadata": {},
     "output_type": "execute_result"
    }
   ],
   "source": [
    "# 예측 함수\n",
    "def predict(x0,x1):\n",
    "  if x0<x1:\n",
    "    y = 0\n",
    "  else:\n",
    "    y=1\n",
    "  return y\n",
    "\n",
    "# 가상 데이터로 예측\n",
    "pred = dataset.apply(lambda X: predict(X.x0, X.x1), axis = 1)\n",
    "pred.head()"
   ]
  },
  {
   "cell_type": "markdown",
   "metadata": {},
   "source": [
    "- `predict`로 식별한 결과와 원래 레이블을 비교해서 정확도 계산"
   ]
  },
  {
   "cell_type": "code",
   "execution_count": 17,
   "metadata": {},
   "outputs": [
    {
     "name": "stdout",
     "output_type": "stream",
     "text": [
      "Accuracy: 1.000000\n"
     ]
    }
   ],
   "source": [
    "result = pred==dataset.y\n",
    "accuracy = result[result==True].count() / result.count()\n",
    "print('Accuracy: %f' % accuracy)"
   ]
  },
  {
   "cell_type": "code",
   "execution_count": 23,
   "metadata": {},
   "outputs": [],
   "source": [
    "import seaborn as sns\n",
    "import matplotlib.pyplot as plt"
   ]
  },
  {
   "cell_type": "code",
   "execution_count": 22,
   "metadata": {},
   "outputs": [
    {
     "name": "stderr",
     "output_type": "stream",
     "text": [
      "/usr/local/envs/py3env/lib/python3.5/site-packages/matplotlib/font_manager.py:1320: UserWarning: findfont: Font family ['sans-serif'] not found. Falling back to DejaVu Sans\n",
      "  (prop.get_family(), self.defaultFamily[fontext]))\n"
     ]
    },
    {
     "data": {
      "text/plain": [
       "<seaborn.axisgrid.FacetGrid at 0x7f072c46ea20>"
      ]
     },
     "execution_count": 22,
     "metadata": {},
     "output_type": "execute_result"
    },
    {
     "data": {
      "image/png": "[encoded data removed]",
      "text/plain": [
       "<matplotlib.figure.Figure at 0x7f072c46eb70>"
      ]
     },
     "metadata": {},
     "output_type": "display_data"
    }
   ],
   "source": [
    "sns.lmplot('x0', 'x1', hue = 'y', data=dataset, fit_reg=False)"
   ]
  },
  {
   "cell_type": "markdown",
   "metadata": {},
   "source": [
    "- 문제는 새로운 형태의 데이터가 등장할 경우임\n",
    "- 다음을 보면 데이터가 혼재되어 있는 것을 볼 수 있고, 이렇게 경향이 매우 다를 시, 규칙 기반으로 분류는 한계가 있음\n",
    "- 이 때 사용 하는 것이 Machine Learning으로 기계가 자동으로 식별 결계를 그리도록 함"
   ]
  },
  {
   "cell_type": "code",
   "execution_count": 25,
   "metadata": {},
   "outputs": [
    {
     "name": "stderr",
     "output_type": "stream",
     "text": [
      "/usr/local/envs/py3env/lib/python3.5/site-packages/matplotlib/font_manager.py:1320: UserWarning: findfont: Font family ['sans-serif'] not found. Falling back to DejaVu Sans\n",
      "  (prop.get_family(), self.defaultFamily[fontext]))\n"
     ]
    },
    {
     "data": {
      "text/plain": [
       "<seaborn.axisgrid.FacetGrid at 0x7f072c430f28>"
      ]
     },
     "execution_count": 25,
     "metadata": {},
     "output_type": "execute_result"
    },
    {
     "data": {
      "image/png": "[encoded data removed]",
      "text/plain": [
       "<matplotlib.figure.Figure at 0x7f072c430da0>"
      ]
     },
     "metadata": {},
     "output_type": "display_data"
    }
   ],
   "source": [
    "new_x_dataset, new_y_dataset = make_blobs(centers = [[0.4, 0.6], [0.6, 0.4]],\n",
    "                                 cluster_std = 0.2,\n",
    "                                 center_box = (0, 1),\n",
    "                                 random_state = 42)\n",
    "new_dataset = pd.DataFrame(new_x_dataset, columns = ['x0','x1'])\n",
    "new_dataset['y']=new_y_dataset\n",
    "\n",
    "sns.lmplot('x0', 'x1', hue = 'y', data=new_dataset, fit_reg=False)"
   ]
  }
 ],
 "metadata": {
  "kernelspec": {
   "display_name": "Python 3",
   "language": "python",
   "name": "python3"
  },
  "language_info": {
   "codemirror_mode": {
    "name": "ipython",
    "version": 3
   },
   "file_extension": ".py",
   "mimetype": "text/x-python",
   "name": "python",
   "nbconvert_exporter": "python",
   "pygments_lexer": "ipython3",
   "version": "3.5.5"
  }
 },
 "nbformat": 4,
 "nbformat_minor": 2
}
