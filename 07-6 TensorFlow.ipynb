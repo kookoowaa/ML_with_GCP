{
 "cells": [
  {
   "cell_type": "markdown",
   "metadata": {},
   "source": [
    "># TensorFlow 준비하기\n",
    "\n",
    "- TensorFlow는 Google이 2015년에 공개한 머신러닝 오픈소스 프레임워크임\n",
    "- GCP와 상성이 매우 좋으며, GCS와 입출력을 연동하는 기능, Dataflow와 ML Engine 같은 TensorFlow를 풀 매니지드로 운용 가능한 환경 제공"
   ]
  },
  {
   "cell_type": "code",
   "execution_count": 1,
   "metadata": {},
   "outputs": [
    {
     "name": "stderr",
     "output_type": "stream",
     "text": [
      "/usr/local/envs/py3env/lib/python3.5/site-packages/h5py/__init__.py:36: FutureWarning: Conversion of the second argument of issubdtype from `float` to `np.floating` is deprecated. In future, it will be treated as `np.float64 == np.dtype(float).type`.\n",
      "  from ._conv import register_converters as _register_converters\n"
     ]
    }
   ],
   "source": [
    "import tensorflow as tf"
   ]
  },
  {
   "cell_type": "markdown",
   "metadata": {},
   "source": [
    "___\n",
    ">## Datalab에서 TensorFlow 사용하기\n",
    "\n",
    "- TensorFlow를 활용한 예제는 아래를 참조:"
   ]
  },
  {
   "cell_type": "code",
   "execution_count": 1,
   "metadata": {},
   "outputs": [
    {
     "name": "stderr",
     "output_type": "stream",
     "text": [
      "/usr/local/envs/py3env/lib/python3.5/site-packages/h5py/__init__.py:36: FutureWarning: Conversion of the second argument of issubdtype from `float` to `np.floating` is deprecated. In future, it will be treated as `np.float64 == np.dtype(float).type`.\n",
      "  from ._conv import register_converters as _register_converters\n"
     ]
    },
    {
     "name": "stdout",
     "output_type": "stream",
     "text": [
      "42.0\n"
     ]
    }
   ],
   "source": [
    "with tf.Graph().as_default():\n",
    "  # 상수 정의하기\n",
    "  x = tf.constant(10.0, name = 'x')\n",
    "  y = tf.constant(32.0, name = 'y')\n",
    "  \n",
    "  # 더하기\n",
    "  op = tf.add(x, y)\n",
    "  \n",
    "  # 연산 실행하기\n",
    "  with tf.Session() as sess:\n",
    "    result = sess.run(op)\n",
    "\n",
    "print(result)"
   ]
  },
  {
   "cell_type": "markdown",
   "metadata": {},
   "source": [
    "- TensorFlow의 흐름을 정리해 보면:  \n",
    "    1. 계산 그래프 정의하기  \n",
    "    2. 세션 정의하기  \n",
    "    3. 연산 실행하기  \n",
    "    순서로 프로세스 실행"
   ]
  },
  {
   "cell_type": "markdown",
   "metadata": {},
   "source": [
    "#### 1. 계산 그래프 정의하기\n",
    "\n",
    "- `tf.constant`로 상수를 정의 (`tf.placeholder`, `tf.variable` 등으로 계산그래프의 노드 정의 가능)\n",
    "- `tf.add`로 연산을 정의하고 노드 간 관계를 정의\n",
    "- 이렇게 만든 계산그래프를 `tf.Graph().as_default()`로 정의\n",
    "- 단, with 구문으로 정의했으므로 구문을 벗어날 떄 자동 해제 (Datalab을 사용할 경우 특정 블록을 여러번 실행할 수 있으므로 with 구문으로 네트워크가 다른 이름으로 생성되는 것을 방지)"
   ]
  },
  {
   "cell_type": "markdown",
   "metadata": {},
   "source": [
    "#### 2. 세션 정의하기\n",
    "\n",
    "- `tf.Session()`으로 '계산을 실행하는 단위'인 세션을 정의"
   ]
  },
  {
   "cell_type": "markdown",
   "metadata": {},
   "source": [
    "#### 3. 연산 실행하기\n",
    "- 세션의 `run()`을 호출하여 계산그래프 계산을 실행"
   ]
  },
  {
   "cell_type": "markdown",
   "metadata": {},
   "source": [
    "___\n",
    ">## 변수와 플레이스홀더\n",
    "\n",
    "- 실제 계산에서 x와 y에 상숫값이 설정되는 경우는 전무\n",
    "- 변화하는 값을 다루는 경우를 지원하기 위해 '변수<sub>Variable</sub>'와 '플레이스홀더<sub>Placeholder</sub>'라는 기능 존재\n",
    "- '변수'는 다양한 값을 넣을 수 있는 상자로 '가중치' 같이 학습에 따라 변화하는 값은 '변수로 정의하여 사용\n",
    "- '플레이스홀더'는 외부에서 입력을 받아 변수로 사용하는 기능으로, 특징량을 입력받는 경우 플레이스홀더를 사용"
   ]
  },
  {
   "cell_type": "code",
   "execution_count": 10,
   "metadata": {},
   "outputs": [
    {
     "name": "stdout",
     "output_type": "stream",
     "text": [
      "42\n"
     ]
    }
   ],
   "source": [
    "with tf.Graph().as_default():\n",
    "  # x는 플레이스홀더\n",
    "  x = tf.placeholder(tf.int32, name = 'x')\n",
    "  y = tf.constant(32, name = 'y')\n",
    "  \n",
    "  # 더하기\n",
    "  op1 = tf.add(x,y)\n",
    "  \n",
    "  # z 변수 생성\n",
    "  z = tf.Variable(0, name = 'z')\n",
    "  \n",
    "  # 연산 결과를 변수에 지정\n",
    "  op2 = tf.assign(z, op1)\n",
    "  \n",
    "  # 변수 초기화하기\n",
    "  init_op = tf.global_variables_initializer()\n",
    "  \n",
    "  # 연산 실행\n",
    "  with tf.Session() as sess:\n",
    "    sess.run(init_op)\n",
    "    result = sess.run(op2, feed_dict = {x:10})\n",
    "\n",
    "\n",
    "print(result)"
   ]
  },
  {
   "cell_type": "markdown",
   "metadata": {},
   "source": [
    "- `y`는 상수값을 지정하였고, `x`는 `int32`를 자료형으로 갖는 플레이스홀더를 정의\n",
    "- `sess.run()`의 매개변수로 `feed_dict = {x:10}`으로 플레이스홀더 값 전달\n",
    "- 변수는 `tf.Variable(0, name = 'z')`로 초기값을 0으로 지정하였으나 `tf.global_variables_initializer()`로 상태 초기화(권장)\n",
    "- 연산 결과를 변수 `z`에 대입할 때에는 `tf.assign`을 사용"
   ]
  },
  {
   "cell_type": "markdown",
   "metadata": {},
   "source": [
    "___\n",
    ">## 로지스틱 회귀로 식별하기\n",
    "\n",
    "- 샘플 데이터는 이전과 마찬가지로 `make_blobs`를 사용해서 생성\n",
    "- TensorFlow가 기본적으로 읽어들이는 입력 형태를 감안하여 `y_dataset`은 (-1, 1)로 `reshape` 수행 (`reshape`에서 -1은 임의의 값 의미: `y_dataset.reshape(len(y_dataset),1) = y_dataset.reshape(-1,1)`)"
   ]
  },
  {
   "cell_type": "code",
   "execution_count": 40,
   "metadata": {},
   "outputs": [
    {
     "data": {
      "text/plain": [
       "array([[1],\n",
       "       [0],\n",
       "       [1],\n",
       "       [0],\n",
       "       [1],\n",
       "       [0],\n",
       "       [1],\n",
       "       [1],\n",
       "       [0],\n",
       "       [0]])"
      ]
     },
     "execution_count": 40,
     "metadata": {},
     "output_type": "execute_result"
    }
   ],
   "source": [
    "import pandas as pd\n",
    "from sklearn.datasets import make_blobs\n",
    "\n",
    "X_dataset, y_dataset = make_blobs(centers = [[-0.3, 0.3], [0.3, -0.2]], \n",
    "                                 cluster_std =0.2,\n",
    "                                 n_samples = 100,\n",
    "                                 center_box = (-1., 1.),\n",
    "                                 random_state = 42)\n",
    "\n",
    "dataset = pd.DataFrame(X_dataset, columns = ['x0', 'x1'])\n",
    "dataset['y'] = y_dataset\n",
    "y_dataset = y_dataset.reshape(-1,1)\n",
    "y_dataset[:10]"
   ]
  },
  {
   "cell_type": "markdown",
   "metadata": {},
   "source": [
    "- 입력할 값(`X_dataset`)은 2차원 데이터이고, 레이블(`y_dataset`)은 1차원 데이터로, `placeholder`의 `shape`은 [None, 2], [None, 1]을 따름 (여기서 None은 위 `reshape`의 -1과 같은 의미)"
   ]
  },
  {
   "cell_type": "code",
   "execution_count": 30,
   "metadata": {},
   "outputs": [],
   "source": [
    "# 특징량과 레이블 입력\n",
    "x = tf.placeholder(tf.float32, shape = [None, 2], name = 'x')\n",
    "y = tf.placeholder(tf.float32, shape = [None, 1], name = 'y')"
   ]
  },
  {
   "cell_type": "markdown",
   "metadata": {},
   "source": [
    "- 가중치와 편향은 `Variable`로 정의\n",
    "- 손실함수는 여러가지가 제공되며, 현 예제에서는 로지스틱 회귀를 사고 있기 때문에 `sigmoid_cross_entropy_with_logits`를 사용 (`softmax_cross_entropy_with_logits` 등도 있음)"
   ]
  },
  {
   "cell_type": "code",
   "execution_count": 32,
   "metadata": {},
   "outputs": [],
   "source": [
    "# 가중치와 편향 정의\n",
    "w = tf.Variable(tf.zeros([2, 1], name = 'w'))\n",
    "b = tf.Variable(tf.zeros([1], name = 'b'))\n",
    "\n",
    "# 식별 경계로부터 거리 구하기\n",
    "score = tf.sigmoid(tf.matmul(x, w) + b)\n",
    "\n",
    "# 손실 구하기\n",
    "loss = tf.reduce_mean(\n",
    "  tf.nn.sigmoid_cross_entropy_with_logits(logits = score, labels = y))"
   ]
  },
  {
   "cell_type": "markdown",
   "metadata": {},
   "source": [
    "- 손실에 따른 경사하강법은 `GradientDescentOptimizer`로 연산을 정의 (학습률 1.0으로 학습)"
   ]
  },
  {
   "cell_type": "code",
   "execution_count": 34,
   "metadata": {},
   "outputs": [],
   "source": [
    "# 경사하강법으로 학습\n",
    "train_step = tf.train.GradientDescentOptimizer(1.0).minimize(loss)\n",
    "\n",
    "# 변수 초기화 하기\n",
    "init_op = tf.global_variables_initializer()"
   ]
  },
  {
   "cell_type": "markdown",
   "metadata": {},
   "source": [
    "- 학습 실행은 마찬가지로 `tf.Session().run()`으로 실행\n",
    "- `placeholder`에  `x`와 `y`를 전달하고 `train_step`을 실행\n",
    "- 중간중간 `loss`, `w`, `b` 값을 추출"
   ]
  },
  {
   "cell_type": "code",
   "execution_count": 38,
   "metadata": {},
   "outputs": [
    {
     "name": "stdout",
     "output_type": "stream",
     "text": [
      "0.72407705 [[ 0.03871037]\n",
      " [-0.03033806]] [-0.03061483]\n",
      "0.59664816 [[ 2.677316 ]\n",
      " [-1.9884852]] [-0.3986451]\n",
      "0.56502515 [[ 4.1164765]\n",
      " [-2.9697428]] [-0.20172487]\n",
      "0.5512945 [[ 5.0926847]\n",
      " [-3.5960445]] [-0.10895684]\n"
     ]
    }
   ],
   "source": [
    "# 연산 실행\n",
    "with tf.Session() as sess:\n",
    "  # 변수 초기화\n",
    "  sess.run(init_op)\n",
    "  \n",
    "  # 학습 수행 (400번)\n",
    "  for i in range(400):\n",
    "    _, _l, _w, _b = sess.run([train_step, loss, w, b],\n",
    "                            feed_dict = {x: X_dataset, y: y_dataset})\n",
    "    \n",
    "    # 100번에 한번 진행상황 출력\n",
    "    if i % 100 ==0:\n",
    "      print(_l, _w, _b)"
   ]
  },
  {
   "cell_type": "markdown",
   "metadata": {},
   "source": [
    "- 추출한 가중치, 편향으로 식별경계를 그려보면 아래와 같음"
   ]
  },
  {
   "cell_type": "code",
   "execution_count": 39,
   "metadata": {},
   "outputs": [],
   "source": [
    "def plot_boundary(w):\n",
    "  x = np.arange(-1.0, 1.1, 0.1)\n",
    "  y = eval('%f*x + %f' % ((-w[1] / (w[2]+1e-6)), (-w[0]/(w[2]+1e-6))))\n",
    "  plt.plot(x, y, linewidth = 2)\n",
    "  \n",
    "  \n",
    "# scatter plot 함수 (개인 버전)\n",
    "def plot_scatter():\n",
    "  sns.lmplot('x0', 'x1', hue = 'y', data = dataset, fit_reg= False)\n",
    "  plt.ylim(-1, 1)\n",
    "  plt.xlim(-1,1)"
   ]
  },
  {
   "cell_type": "code",
   "execution_count": 58,
   "metadata": {},
   "outputs": [
    {
     "name": "stderr",
     "output_type": "stream",
     "text": [
      "/usr/local/envs/py3env/lib/python3.5/site-packages/matplotlib/font_manager.py:1320: UserWarning: findfont: Font family ['sans-serif'] not found. Falling back to DejaVu Sans\n",
      "  (prop.get_family(), self.defaultFamily[fontext]))\n"
     ]
    },
    {
     "data": {
      "image/png": "[encoded data removed]",
      "text/plain": [
       "<matplotlib.figure.Figure at 0x7f0bac2fb198>"
      ]
     },
     "metadata": {},
     "output_type": "display_data"
    }
   ],
   "source": [
    "import seaborn as sns\n",
    "import matplotlib.pyplot as plt\n",
    "import numpy as np\n",
    "\n",
    "plot_scatter()\n",
    "plot_boundary([_b[0], _w[0][0], _w[1][0]])"
   ]
  },
  {
   "cell_type": "code",
   "execution_count": 55,
   "metadata": {},
   "outputs": [
    {
     "data": {
      "text/plain": [
       "[-0.04950974,\n",
       " array([5.8336267], dtype=float32),\n",
       " array([-4.049481], dtype=float32)]"
      ]
     },
     "execution_count": 55,
     "metadata": {},
     "output_type": "execute_result"
    }
   ],
   "source": [
    "[_b[0], _w[0][0], _w[1][0]]"
   ]
  },
  {
   "cell_type": "code",
   "execution_count": null,
   "metadata": {},
   "outputs": [],
   "source": []
  }
 ],
 "metadata": {
  "kernelspec": {
   "display_name": "Python 3",
   "language": "python",
   "name": "python3"
  },
  "language_info": {
   "codemirror_mode": {
    "name": "ipython",
    "version": 3
   },
   "file_extension": ".py",
   "mimetype": "text/x-python",
   "name": "python",
   "nbconvert_exporter": "python",
   "pygments_lexer": "ipython3",
   "version": "3.5.5"
  }
 },
 "nbformat": 4,
 "nbformat_minor": 2
}
