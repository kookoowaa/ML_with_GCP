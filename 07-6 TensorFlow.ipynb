{
 "cells": [
  {
   "cell_type": "markdown",
   "metadata": {},
   "source": [
    "># TensorFlow 준비하기\n",
    "\n",
    "- TensorFlow는 Google이 2015년에 공개한 머신러닝 오픈소스 프레임워크임\n",
    "- GCP와 상성이 매우 좋으며, GCS와 입출력을 연동하는 기능, Dataflow와 ML Engine 같은 TensorFlow를 풀 매니지드로 운용 가능한 환경 제공"
   ]
  },
  {
   "cell_type": "code",
   "execution_count": 11,
   "metadata": {},
   "outputs": [],
   "source": [
    "import tensorflow as tf"
   ]
  },
  {
   "cell_type": "markdown",
   "metadata": {},
   "source": [
    "___\n",
    ">## Datalab에서 TensorFlow 사용하기\n",
    "\n",
    "- TensorFlow를 활용한 예제는 아래를 참조:"
   ]
  },
  {
   "cell_type": "code",
   "execution_count": 1,
   "metadata": {},
   "outputs": [
    {
     "name": "stderr",
     "output_type": "stream",
     "text": [
      "/usr/local/envs/py3env/lib/python3.5/site-packages/h5py/__init__.py:36: FutureWarning: Conversion of the second argument of issubdtype from `float` to `np.floating` is deprecated. In future, it will be treated as `np.float64 == np.dtype(float).type`.\n",
      "  from ._conv import register_converters as _register_converters\n"
     ]
    },
    {
     "name": "stdout",
     "output_type": "stream",
     "text": [
      "42.0\n"
     ]
    }
   ],
   "source": [
    "with tf.Graph().as_default():\n",
    "  # 상수 정의하기\n",
    "  x = tf.constant(10.0, name = 'x')\n",
    "  y = tf.constant(32.0, name = 'y')\n",
    "  \n",
    "  # 더하기\n",
    "  op = tf.add(x, y)\n",
    "  \n",
    "  # 연산 실행하기\n",
    "  with tf.Session() as sess:\n",
    "    result = sess.run(op)\n",
    "\n",
    "print(result)"
   ]
  },
  {
   "cell_type": "markdown",
   "metadata": {},
   "source": [
    "- TensorFlow의 흐름을 정리해 보면:  \n",
    "    1. 계산 그래프 정의하기  \n",
    "    2. 세션 정의하기  \n",
    "    3. 연산 실행하기  \n",
    "    순서로 프로세스 실행"
   ]
  },
  {
   "cell_type": "markdown",
   "metadata": {},
   "source": [
    "#### 1. 계산 그래프 정의하기\n",
    "\n",
    "- `tf.constant`로 상수를 정의 (`tf.placeholder`, `tf.variable` 등으로 계산그래프의 노드 정의 가능)\n",
    "- `tf.add`로 연산을 정의하고 노드 간 관계를 정의\n",
    "- 이렇게 만든 계산그래프를 `tf.Graph().as_default()`로 정의\n",
    "- 단, with 구문으로 정의했으므로 구문을 벗어날 떄 자동 해제 (Datalab을 사용할 경우 특정 블록을 여러번 실행할 수 있으므로 with 구문으로 네트워크가 다른 이름으로 생성되는 것을 방지)"
   ]
  },
  {
   "cell_type": "markdown",
   "metadata": {},
   "source": [
    "#### 2. 세션 정의하기\n",
    "\n",
    "- `tf.Session()`으로 '계산을 실행하는 단위'인 세션을 정의"
   ]
  },
  {
   "cell_type": "markdown",
   "metadata": {},
   "source": [
    "#### 3. 연산 실행하기\n",
    "- 세션의 `run()`을 호출하여 계산그래프 계산을 실행"
   ]
  },
  {
   "cell_type": "markdown",
   "metadata": {},
   "source": [
    "___\n",
    ">## 변수와 플레이스홀더\n",
    "\n",
    "- 실제 계산에서 x와 y에 상숫값이 설정되는 경우는 전무\n",
    "- 변화하는 값을 다루는 경우를 지원하기 위해 '변수<sub>Variable</sub>'와 '플레이스홀더<sub>Placeholder</sub>'라는 기능 존재\n",
    "- '변수'는 다양한 값을 넣을 수 있는 상자로 '가중치' 같이 학습에 따라 변화하는 값은 '변수로 정의하여 사용\n",
    "- '플레이스홀더'는 외부에서 입력을 받아 변수로 사용하는 기능으로, 특징량을 입력받는 경우 플레이스홀더를 사용"
   ]
  },
  {
   "cell_type": "code",
   "execution_count": 10,
   "metadata": {},
   "outputs": [
    {
     "name": "stdout",
     "output_type": "stream",
     "text": [
      "42\n"
     ]
    }
   ],
   "source": [
    "with tf.Graph().as_default():\n",
    "  # x는 플레이스홀더\n",
    "  x = tf.placeholder(tf.int32, name = 'x')\n",
    "  y = tf.constant(32, name = 'y')\n",
    "  \n",
    "  # 더하기\n",
    "  op1 = tf.add(x,y)\n",
    "  \n",
    "  # z 변수 생성\n",
    "  z = tf.Variable(0, name = 'z')\n",
    "  \n",
    "  # 연산 결과를 변수에 지정\n",
    "  op2 = tf.assign(z, op1)\n",
    "  \n",
    "  # 변수 초기화하기\n",
    "  init_op = tf.global_variables_initializer()\n",
    "  \n",
    "  # 연산 실행\n",
    "  with tf.Session() as sess:\n",
    "    sess.run(init_op)\n",
    "    result = sess.run(op2, feed_dict = {x:10})\n",
    "\n",
    "\n",
    "print(result)"
   ]
  },
  {
   "cell_type": "markdown",
   "metadata": {},
   "source": [
    "- `y`는 상수값을 지정하였고, `x`는 `int32`를 자료형으로 갖는 플레이스홀더를 정의\n",
    "- `sess.run()`의 매개변수로 `feed_dict = {x:10}`으로 플레이스홀더 값 전달\n",
    "- 변수는 `tf.Variable(0, name = 'z')`로 초기값을 0으로 지정하였으나 `tf.global_variables_initializer()`로 상태 초기화(권장)\n",
    "- 연산 결과를 변수 `z`에 대입할 때에는 `tf.assign`을 사용"
   ]
  },
  {
   "cell_type": "markdown",
   "metadata": {},
   "source": [
    "___\n",
    ">## 로지스틱 회귀로 식별하기"
   ]
  },
  {
   "cell_type": "code",
   "execution_count": null,
   "metadata": {},
   "outputs": [],
   "source": []
  }
 ],
 "metadata": {
  "kernelspec": {
   "display_name": "Python 3",
   "language": "python",
   "name": "python3"
  },
  "language_info": {
   "codemirror_mode": {
    "name": "ipython",
    "version": 3
   },
   "file_extension": ".py",
   "mimetype": "text/x-python",
   "name": "python",
   "nbconvert_exporter": "python",
   "pygments_lexer": "ipython3",
   "version": "3.5.5"
  }
 },
 "nbformat": 4,
 "nbformat_minor": 2
}
