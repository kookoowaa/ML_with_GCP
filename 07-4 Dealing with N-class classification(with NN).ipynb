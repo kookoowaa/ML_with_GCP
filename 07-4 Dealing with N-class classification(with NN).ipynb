{
 "cells": [
  {
   "cell_type": "markdown",
   "metadata": {},
   "source": [
    "># N-클래스 대응하기\n",
    "\n",
    "- 신경망에서 N-클래스로 확장하 때에는 단순히 출력츠의 유닛 수를 클래스 수만큼 늘리는 방식으로 해결"
   ]
  },
  {
   "cell_type": "code",
   "execution_count": 1,
   "metadata": {},
   "outputs": [],
   "source": [
    "import numpy as np"
   ]
  },
  {
   "cell_type": "markdown",
   "metadata": {},
   "source": [
    "___\n",
    ">## one-hot-vector\n",
    "\n",
    "- 식별에서 레이블을 설정하는 방법은, 일반적으로 0부터 N까지의 값 중 하나를 할당하는 방식을 사용\n",
    "- 신경망을 사용할 때에는 **one-hot-vector**형식을 사용할 때 일반적으로 더 좋은 결과를 반환\n",
    "- 여기서 one-hot-vector는 N개의 0과 1로 이루어진 벡터를 의미(더미변수와 유사)\n",
    "- 예를 들어, 4-class 데이터 세트의 레이블이 0이라면 [1, 0, 0, 0], 2라면 [0, 0, 1, 0]으로 표현"
   ]
  },
  {
   "cell_type": "markdown",
   "metadata": {},
   "source": [
    "- one-hot-vector를 숫자 레이블로 변환하는 방법은 `argmax`를 사용하면 배열 중 가장 큰 요소의 인덱스를 반환하여 쉽게 변환 가능"
   ]
  },
  {
   "cell_type": "code",
   "execution_count": 3,
   "metadata": {},
   "outputs": [
    {
     "name": "stdout",
     "output_type": "stream",
     "text": [
      "2\n",
      "=====\n",
      "[0 2]\n"
     ]
    }
   ],
   "source": [
    "onehot = [0, 0, 1, 0]\n",
    "label = np.argmax(onehot)\n",
    "print(label)\n",
    "print('=====')\n",
    "\n",
    "onehot = [[1, 0, 0, 0],\n",
    "         [0, 0, 1, 0]]\n",
    "labels = np.argmax(onehot, axis = 1)\n",
    "print(labels)"
   ]
  },
  {
   "cell_type": "markdown",
   "metadata": {},
   "source": [
    "- 반대로 숫자 레이블을 one-hot-vector로 변환시에는 `np.zeros`활용"
   ]
  },
  {
   "cell_type": "code",
   "execution_count": 4,
   "metadata": {},
   "outputs": [
    {
     "data": {
      "text/plain": [
       "array([0., 0., 1., 0.])"
      ]
     },
     "execution_count": 4,
     "metadata": {},
     "output_type": "execute_result"
    }
   ],
   "source": [
    "onehot = np.zeros(4)\n",
    "onehot[label]=1\n",
    "onehot"
   ]
  },
  {
   "cell_type": "markdown",
   "metadata": {},
   "source": [
    "- 혹은 `sklearn`의 `OneHotEncoder`를 사용 가능"
   ]
  },
  {
   "cell_type": "code",
   "execution_count": 7,
   "metadata": {},
   "outputs": [
    {
     "data": {
      "text/plain": [
       "array([[1., 0., 0., 0.],\n",
       "       [0., 0., 1., 0.]])"
      ]
     },
     "execution_count": 7,
     "metadata": {},
     "output_type": "execute_result"
    }
   ],
   "source": [
    "from sklearn.preprocessing import OneHotEncoder\n",
    "\n",
    "enc = OneHotEncoder(n_values=4)\n",
    "\n",
    "labels = [[0], [2]]\n",
    "\n",
    "enc.fit_transform(labels).toarray()"
   ]
  },
  {
   "cell_type": "markdown",
   "metadata": {},
   "source": [
    "___\n",
    ">## 소프트맥스 함수\n",
    "\n",
    "- 출력층의 활성화 함수로는 소프트맥스 함수를 사용\n",
    "- 소프트맥스 함수는 단순히 출력층의 모든 출력값의 합을 1로(확률로) 만드는 함수임\n",
    "- 합을 1로 만드는 방법은 다양하나 소프트맥스는 \"각 점수벡터에 지수를 취하고 정규화 상수로 나눈 값\"을 반환  \n",
    "    $y_k = \\frac{exp(a_k)}{\\sum^n_{i=1}exp(a_i)}$"
   ]
  },
  {
   "cell_type": "code",
   "execution_count": 28,
   "metadata": {},
   "outputs": [],
   "source": [
    "def softmax(scores):\n",
    "    f = scores\n",
    "    f -= np.max(f)  ## 지수 계산이 무한대로 가는 것을 방지\n",
    "    return np.exp(f) / np.sum(np.exp(f))"
   ]
  },
  {
   "cell_type": "code",
   "execution_count": 31,
   "metadata": {},
   "outputs": [
    {
     "name": "stdout",
     "output_type": "stream",
     "text": [
      "[ 0.000000  0.000000  0.268941  0.731059]\n"
     ]
    }
   ],
   "source": [
    "outputs = np.array([1, 2, 788,789])\n",
    "pred = softmax(outputs)\n",
    "\n",
    "np.set_printoptions(formatter={'float': '{: 0.6f}'.format})\n",
    "print(pred)"
   ]
  },
  {
   "cell_type": "markdown",
   "metadata": {},
   "source": [
    "- 위 추론결과를 보면 정답은 3이고, 확률이 73.1059%가 됨\n",
    "- 중요한 것은 소프트맥스 함수를 통해 **정답과 추론확률의 차이를 신경망의 손실로 표현이 가능**해진다는 점임"
   ]
  },
  {
   "cell_type": "code",
   "execution_count": 41,
   "metadata": {},
   "outputs": [
    {
     "data": {
      "text/plain": [
       "Text(0.5,1,'Line curve for Softmax function\\n')"
      ]
     },
     "execution_count": 41,
     "metadata": {},
     "output_type": "execute_result"
    },
    {
     "data": {
      "image/png": "[encoded data removed]",
      "text/plain": [
       "<Figure size 432x288 with 1 Axes>"
      ]
     },
     "metadata": {
      "needs_background": "light"
     },
     "output_type": "display_data"
    }
   ],
   "source": [
    "X = np.linspace(-5,5,100)\n",
    "fx = softmax(X)\n",
    "X = np.linspace(-5,5,100)\n",
    "plot(X,fx)\n",
    "plt.title('Line curve for Softmax function\\n')"
   ]
  },
  {
   "cell_type": "markdown",
   "metadata": {},
   "source": [
    "___\n",
    ">## 손실 함수\n",
    "\n",
    "- 가장 단순한 손실함수로는 정답과 추론의 차이를 제곱합으로 나타낸 평균제곱오차(MSE)가 있음"
   ]
  },
  {
   "cell_type": "code",
   "execution_count": 42,
   "metadata": {},
   "outputs": [],
   "source": [
    "def mse(pred, label):\n",
    "    return 0.5 * np.sum((pred - label)**2)"
   ]
  },
  {
   "cell_type": "code",
   "execution_count": 44,
   "metadata": {},
   "outputs": [
    {
     "name": "stdout",
     "output_type": "stream",
     "text": [
      "MSE when right: 0.07232948812851325\n",
      "MSE when wrong: 0.8033880667585181\n"
     ]
    }
   ],
   "source": [
    "labels = [0., 0., 0., 1.]\n",
    "print('MSE when right: {}'.format(mse(pred, labels)))\n",
    "print('MSE when wrong: {}'.format(mse(pred, [1., 0., 0., 0.])))"
   ]
  },
  {
   "cell_type": "markdown",
   "metadata": {},
   "source": [
    "- 소프트맥스와 자주 함께 사용하는 손실함수로는 **교차 엔트로피 오차**가 있음\n",
    "- 이는 추론 결과에 로그를 취하여 오차가 클수록 지수적으로 손실이 증가"
   ]
  },
  {
   "cell_type": "code",
   "execution_count": 45,
   "metadata": {},
   "outputs": [],
   "source": [
    "def cross_entropy(pred, label):\n",
    "    return -np.sum(label * np.log(pred.clip(1e-6)))"
   ]
  },
  {
   "cell_type": "code",
   "execution_count": 46,
   "metadata": {},
   "outputs": [
    {
     "name": "stdout",
     "output_type": "stream",
     "text": [
      "MSE when right: 0.3132616875182228\n",
      "MSE when wrong: 13.815510557964274\n"
     ]
    }
   ],
   "source": [
    "labels = [0., 0., 0., 1.]\n",
    "print('MSE when right: {}'.format(cross_entropy(pred, labels)))\n",
    "print('MSE when wrong: {}'.format(cross_entropy(pred, [1., 0., 0., 0.])))"
   ]
  },
  {
   "cell_type": "markdown",
   "metadata": {},
   "source": [
    "___\n",
    ">## 참고. 손실함수 그래프"
   ]
  },
  {
   "cell_type": "code",
   "execution_count": 47,
   "metadata": {},
   "outputs": [],
   "source": [
    "X = range(0,100)\n",
    "pred = softmax(X)\n",
    "\n",
    "labels = np.zeros(100)\n",
    "labels[99] = 1"
   ]
  },
  {
   "cell_type": "code",
   "execution_count": 56,
   "metadata": {},
   "outputs": [
    {
     "data": {
      "text/plain": [
       "Text(0.5,1,'loss function using MSE\\n')"
      ]
     },
     "execution_count": 56,
     "metadata": {},
     "output_type": "execute_result"
    },
    {
     "data": {
      "image/png": "[encoded data removed]",
      "text/plain": [
       "<Figure size 432x288 with 1 Axes>"
      ]
     },
     "metadata": {
      "needs_background": "light"
     },
     "output_type": "display_data"
    }
   ],
   "source": [
    "plot(pred, (pred-label)**2)\n",
    "plt.title('loss function using MSE\\n')"
   ]
  },
  {
   "cell_type": "code",
   "execution_count": 58,
   "metadata": {},
   "outputs": [
    {
     "data": {
      "text/plain": [
       "Text(0.5,1,'loss function using cross-entropy\\n')"
      ]
     },
     "execution_count": 58,
     "metadata": {},
     "output_type": "execute_result"
    },
    {
     "data": {
      "image/png": "[encoded data removed]",
      "text/plain": [
       "<Figure size 432x288 with 1 Axes>"
      ]
     },
     "metadata": {
      "needs_background": "light"
     },
     "output_type": "display_data"
    }
   ],
   "source": [
    "plot(pred, -label*np.log(pred.clip(1e-6)))\n",
    "plt.title('loss function using cross-entropy\\n')"
   ]
  }
 ],
 "metadata": {
  "kernelspec": {
   "display_name": "Python 3",
   "language": "python",
   "name": "python3"
  },
  "language_info": {
   "codemirror_mode": {
    "name": "ipython",
    "version": 3
   },
   "file_extension": ".py",
   "mimetype": "text/x-python",
   "name": "python",
   "nbconvert_exporter": "python",
   "pygments_lexer": "ipython3",
   "version": "3.7.0"
  }
 },
 "nbformat": 4,
 "nbformat_minor": 2
}
