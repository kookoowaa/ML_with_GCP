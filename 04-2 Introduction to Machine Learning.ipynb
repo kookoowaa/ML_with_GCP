{
 "cells": [
  {
   "cell_type": "markdown",
   "metadata": {},
   "source": [
    "> # 머신러닝 사용하기"
   ]
  },
  {
   "cell_type": "code",
   "execution_count": 1,
   "metadata": {},
   "outputs": [],
   "source": [
    "import numpy as np\n",
    "import pandas as pd\n",
    "from sklearn.datasets import make_blobs\n",
    "import matplotlib.pyplot as plt\n",
    "import seaborn as sns"
   ]
  },
  {
   "cell_type": "markdown",
   "metadata": {},
   "source": [
    "___\n",
    "> ### 식별함수 정리\n",
    "\n",
    "- 이전 챕터의 `predict` 함수$(x0<x1)$ 같은 경우가 **식별함수**임\n",
    "- 과거에는 사람의 판단에 따라 식별 경계를 찾고 식별함수를 만들어 왔으나, 머신러닝에서는 과거 데이터를 기반으로 식별함수를 찾는 과정을 거침\n",
    "- `predict`함수 외 아래와 같이 $ax+b$ 형태의 다양한 함수를 추정할 수 있음\n",
    "\n",
    "``` python\n",
    "# predict1\n",
    "if x0 < x1:\n",
    "...\n",
    "#predict2 (-0.8x+0.92)\n",
    "if x1 > -0.8 * x0 + 0.92:\n",
    "...\n",
    "```"
   ]
  },
  {
   "cell_type": "markdown",
   "metadata": {},
   "source": [
    " - 위 2개의 식을 하나의 predict 함수로 표현하자면 다음과 같이 표현 가능"
   ]
  },
  {
   "cell_type": "code",
   "execution_count": 2,
   "metadata": {},
   "outputs": [],
   "source": [
    "def predict(x0, x1):\n",
    "  if x1 > a*x0+b:\n",
    "    y = 0\n",
    "  else:\n",
    "    y = 1\n",
    "  return y"
   ]
  },
  {
   "cell_type": "markdown",
   "metadata": {},
   "source": [
    "- 위 식은 기울기와 절편을 각각 `a`와 `b`라는 변수로 대체함\n",
    "- $a=1, b=0$일 때 위 식은 `predict1`을 수행하며, $a=-0.8, b=0.92$일 때 `predict2`를 수행 \n",
    "- 단, 이 경우 수직으로 판정식이 형태를 취할 경우, `a`와 `b`의 값은 무한대가 되어버리므로 `x1`도 수식에 취함\n",
    "- 이 때 수식은 다음과 같이 정리 $ax0+bx1+c >0$일 때 $y=0$"
   ]
  },
  {
   "cell_type": "code",
   "execution_count": 84,
   "metadata": {},
   "outputs": [],
   "source": [
    "def predict(x0, x1):\n",
    "  if a*x0 + b*x1 + c > 0.0 :\n",
    "    y = 0\n",
    "  else:\n",
    "    y = 1\n",
    "  return y"
   ]
  },
  {
   "cell_type": "markdown",
   "metadata": {},
   "source": [
    "___\n",
    "> ### 훈련데이터로 학습하기\n",
    "\n",
    "- 훈련 데이터는 아래와 같이 구현"
   ]
  },
  {
   "cell_type": "code",
   "execution_count": 5,
   "metadata": {},
   "outputs": [
    {
     "data": {
      "text/html": [
       "<div>\n",
       "<style scoped>\n",
       "    .dataframe tbody tr th:only-of-type {\n",
       "        vertical-align: middle;\n",
       "    }\n",
       "\n",
       "    .dataframe tbody tr th {\n",
       "        vertical-align: top;\n",
       "    }\n",
       "\n",
       "    .dataframe thead th {\n",
       "        text-align: right;\n",
       "    }\n",
       "</style>\n",
       "<table border=\"1\" class=\"dataframe\">\n",
       "  <thead>\n",
       "    <tr style=\"text-align: right;\">\n",
       "      <th></th>\n",
       "      <th>x0</th>\n",
       "      <th>x1</th>\n",
       "      <th>y</th>\n",
       "    </tr>\n",
       "  </thead>\n",
       "  <tbody>\n",
       "    <tr>\n",
       "      <th>0</th>\n",
       "      <td>-0.346831</td>\n",
       "      <td>0.253173</td>\n",
       "      <td>0</td>\n",
       "    </tr>\n",
       "    <tr>\n",
       "      <th>1</th>\n",
       "      <td>-0.200657</td>\n",
       "      <td>0.272347</td>\n",
       "      <td>0</td>\n",
       "    </tr>\n",
       "    <tr>\n",
       "      <th>2</th>\n",
       "      <td>-0.392684</td>\n",
       "      <td>0.206854</td>\n",
       "      <td>0</td>\n",
       "    </tr>\n",
       "    <tr>\n",
       "      <th>3</th>\n",
       "      <td>0.179872</td>\n",
       "      <td>-0.358339</td>\n",
       "      <td>1</td>\n",
       "    </tr>\n",
       "    <tr>\n",
       "      <th>4</th>\n",
       "      <td>0.341773</td>\n",
       "      <td>-0.691934</td>\n",
       "      <td>1</td>\n",
       "    </tr>\n",
       "  </tbody>\n",
       "</table>\n",
       "</div>"
      ],
      "text/plain": [
       "         x0        x1  y\n",
       "0 -0.346831  0.253173  0\n",
       "1 -0.200657  0.272347  0\n",
       "2 -0.392684  0.206854  0\n",
       "3  0.179872 -0.358339  1\n",
       "4  0.341773 -0.691934  1"
      ]
     },
     "execution_count": 5,
     "metadata": {},
     "output_type": "execute_result"
    }
   ],
   "source": [
    "x_dataset, y_dataset = make_blobs(centers = [[-0.3, 0.3], [0.3, -0.3]],\n",
    "                                 cluster_std = 0.2,\n",
    "                                 n_samples=20,\n",
    "                                 center_box = (-1, 1),\n",
    "                                 random_state = 42)\n",
    "dataset = pd.DataFrame(x_dataset, columns = ['x0', 'x1'])\n",
    "dataset['y'] = y_dataset\n",
    "dataset=dataset[:20]\n",
    "dataset.head()"
   ]
  },
  {
   "cell_type": "code",
   "execution_count": 95,
   "metadata": {},
   "outputs": [],
   "source": [
    "# a, b, c에 따라 판정식을 표시하는 함수\n",
    "def plot_boundary(a, b, c=0):\n",
    "  x = np.arange(-1.0, 1.1, 0.1)\n",
    "  y = eval('%f*x' % (-a / (b + 1e-6))) #### b가 0일 경우를 대비해서 1e-6을 추가\n",
    "  plt.plot(x, y)\n",
    "  \n",
    "# scatter plot (책버전)\n",
    "def plot_scatter():\n",
    "  fig, ax = plt.subplots()\n",
    "  for key, g in dataset.groupby('y'):\n",
    "    color = 'k' if key==1 else 'w'\n",
    "    g.plot(ax=ax, kind = 'scatter', x = 'x0', y='x1',\n",
    "           label=key, color=color,\n",
    "          edgecolor='black', linewidth=1,\n",
    "          xlim=(-1,1), ylim=(-1,1))\n",
    "    \n",
    "# scatter plot 함수 (개인 버전)\n",
    "def plot_scatter():\n",
    "  sns.lmplot('x0', 'x1', hue = 'y', data = dataset, fit_reg= False)\n",
    "  plt.ylim(-1, 1)\n",
    "  plt.xlim(-1,1)"
   ]
  },
  {
   "cell_type": "code",
   "execution_count": 96,
   "metadata": {},
   "outputs": [
    {
     "name": "stderr",
     "output_type": "stream",
     "text": [
      "/usr/local/envs/py3env/lib/python3.5/site-packages/matplotlib/font_manager.py:1320: UserWarning: findfont: Font family ['sans-serif'] not found. Falling back to DejaVu Sans\n",
      "  (prop.get_family(), self.defaultFamily[fontext]))\n"
     ]
    },
    {
     "data": {
      "image/png": "[encoded data removed]",
      "text/plain": [
       "<matplotlib.figure.Figure at 0x7f95279e8630>"
      ]
     },
     "metadata": {},
     "output_type": "display_data"
    }
   ],
   "source": [
    "plot_scatter()\n",
    "plot_boundary(a=0,b=1)"
   ]
  },
  {
   "cell_type": "markdown",
   "metadata": {},
   "source": [
    "- 식별경계의 위쪽은 0으로 판별하고, 밑은 1로 판변하는 판정식 완성\n",
    "- 하지만 여전히 2개 값이 정확하게 판별되지 않으므로 변수 `a`와 `b`를 수정하여 경계를 회전\n",
    "- 식별경계를 회전시키는 함수는 다음과 같이 정의"
   ]
  },
  {
   "cell_type": "code",
   "execution_count": 97,
   "metadata": {},
   "outputs": [],
   "source": [
    "a = 0.0\n",
    "b = 1.0\n",
    "c = 0.0\n",
    "lr = 0.1\n",
    "\n",
    "def rotate(direction):\n",
    "  global a, b, c\n",
    "  if direction ==1:\n",
    "    a += lr*-1.0\n",
    "    b += lr*-1.0\n",
    "  else:\n",
    "    a += lr*1.0\n",
    "    b += lr*1.0"
   ]
  },
  {
   "cell_type": "markdown",
   "metadata": {},
   "source": [
    "- 정확한 회전 연산식은 아니지만, `a`와 `b`의 값을 `lr`만큼 수정하며 식별경계식을 변경\n",
    "- 위 함수를 기반으로 학습하는 코드는 아래와 같이 작성 가능"
   ]
  },
  {
   "cell_type": "code",
   "execution_count": 98,
   "metadata": {},
   "outputs": [],
   "source": [
    "def train():\n",
    "  global a, b, c\n",
    "  for i, (x0, x1, y) in dataset.iterrows():\n",
    "    pred = predict(x0, x1)\n",
    "    #print(pred, y)\n",
    "    if pred != y:\n",
    "      if (y==1 and x1>0) or (y==0 and x1<0):\n",
    "        rotate(1)\n",
    "      else:\n",
    "        rotate(0)\n",
    "    else:\n",
    "      pass"
   ]
  },
  {
   "cell_type": "markdown",
   "metadata": {},
   "source": [
    "- `iterrows()` 함수로 DataFrame의 행을 하나씩 추출 (인덱스, 값1, 값2, ... 값n)\n",
    "- `y`가 1인데 식별경계보다 위에 있거나, `y`가 0인데 식별경계보다 아래 있는 경우 시계 반대 방향으로 회전시킴\n",
    "- 예측 함수가 맞다면 `a`, `b` 값에 아무 처리하지 않음\n",
    "- 위 함수를 1회 실행 시 아래와 같이 변경됨"
   ]
  },
  {
   "cell_type": "code",
   "execution_count": 99,
   "metadata": {},
   "outputs": [],
   "source": [
    "train()"
   ]
  },
  {
   "cell_type": "code",
   "execution_count": 100,
   "metadata": {},
   "outputs": [
    {
     "name": "stdout",
     "output_type": "stream",
     "text": [
      "-0.2 0.8 0.0\n"
     ]
    }
   ],
   "source": [
    "print(a, b, c)"
   ]
  },
  {
   "cell_type": "code",
   "execution_count": 101,
   "metadata": {},
   "outputs": [
    {
     "name": "stderr",
     "output_type": "stream",
     "text": [
      "/usr/local/envs/py3env/lib/python3.5/site-packages/matplotlib/font_manager.py:1320: UserWarning: findfont: Font family ['sans-serif'] not found. Falling back to DejaVu Sans\n",
      "  (prop.get_family(), self.defaultFamily[fontext]))\n"
     ]
    },
    {
     "data": {
      "image/png": "[encoded data removed]",
      "text/plain": [
       "<matplotlib.figure.Figure at 0x7f95278c2da0>"
      ]
     },
     "metadata": {},
     "output_type": "display_data"
    }
   ],
   "source": [
    "plot_scatter()\n",
    "plot_boundary(a=a, b=b)"
   ]
  },
  {
   "cell_type": "markdown",
   "metadata": {},
   "source": [
    "- 1-epoch 학습 결과 2건의 오류를 발견하여 `a`와 `b`는 `2lr`만큼 수정\n",
    "- 하지만 여전히 잘못된 값을 반환하기에 한번 더 학습 진행"
   ]
  },
  {
   "cell_type": "code",
   "execution_count": 102,
   "metadata": {},
   "outputs": [
    {
     "name": "stdout",
     "output_type": "stream",
     "text": [
      "-0.30000000000000004 0.7000000000000001 0.0\n"
     ]
    },
    {
     "name": "stderr",
     "output_type": "stream",
     "text": [
      "/usr/local/envs/py3env/lib/python3.5/site-packages/matplotlib/font_manager.py:1320: UserWarning: findfont: Font family ['sans-serif'] not found. Falling back to DejaVu Sans\n",
      "  (prop.get_family(), self.defaultFamily[fontext]))\n"
     ]
    },
    {
     "data": {
      "image/png": "[encoded data removed]",
      "text/plain": [
       "<matplotlib.figure.Figure at 0x7f95342cf710>"
      ]
     },
     "metadata": {},
     "output_type": "display_data"
    }
   ],
   "source": [
    "train()\n",
    "print(a, b, c)\n",
    "plot_scatter()\n",
    "plot_boundary(a=a, b=b)"
   ]
  },
  {
   "cell_type": "markdown",
   "metadata": {},
   "source": [
    "- 2-epoch 학습 결과 3번째 수정 값 이후 오류가 발견되지 않아 추가 학습을 진행하지 않음\n",
    "- 학습 속도를 높이고자 `lr` 값을 높게 수정한다면 (i.e. `lr = 1.0`) 오히려 학습이 제대로 진행되지 않을 수 있음"
   ]
  },
  {
   "cell_type": "code",
   "execution_count": 103,
   "metadata": {},
   "outputs": [
    {
     "name": "stderr",
     "output_type": "stream",
     "text": [
      "/usr/local/envs/py3env/lib/python3.5/site-packages/matplotlib/font_manager.py:1320: UserWarning: findfont: Font family ['sans-serif'] not found. Falling back to DejaVu Sans\n",
      "  (prop.get_family(), self.defaultFamily[fontext]))\n"
     ]
    },
    {
     "data": {
      "image/png": "[encoded data removed]",
      "text/plain": [
       "<matplotlib.figure.Figure at 0x7f95340d3828>"
      ]
     },
     "metadata": {},
     "output_type": "display_data"
    }
   ],
   "source": [
    "plot_scatter()\n",
    "plot_boundary(a=1, b=0)"
   ]
  },
  {
   "cell_type": "markdown",
   "metadata": {},
   "source": [
    "- 반대로 `lr` 값을 0.01처럼 작게 가져간다면 학습 수렴까지 오랜 시간이 걸릴 수 있음"
   ]
  }
 ],
 "metadata": {
  "kernelspec": {
   "display_name": "Python 3",
   "language": "python",
   "name": "python3"
  },
  "language_info": {
   "codemirror_mode": {
    "name": "ipython",
    "version": 3
   },
   "file_extension": ".py",
   "mimetype": "text/x-python",
   "name": "python",
   "nbconvert_exporter": "python",
   "pygments_lexer": "ipython3",
   "version": "3.5.5"
  }
 },
 "nbformat": 4,
 "nbformat_minor": 2
}
