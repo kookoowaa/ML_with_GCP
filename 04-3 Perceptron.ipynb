{
 "cells": [
  {
   "cell_type": "markdown",
   "metadata": {},
   "source": [
    "> # 퍼셉트론"
   ]
  },
  {
   "cell_type": "code",
   "execution_count": 15,
   "metadata": {},
   "outputs": [],
   "source": [
    "import numpy as np\n",
    "import pandas as pd\n",
    "from sklearn.datasets import make_blobs\n",
    "import matplotlib.pyplot as plt\n",
    "import seaborn as sns\n",
    "\n",
    "# a, b, c에 따라 판정식을 표시하는 함수\n",
    "def plot_boundary(a, b, c=0):\n",
    "  x = np.arange(-1.0, 1.1, 0.1)\n",
    "  y = eval('%f*x' % (-a / (b + 1e-6))) #### b가 0일 경우를 대비해서 1e-6을 추가\n",
    "  plt.plot(x, y)\n",
    "  print('a: {}, b: {}, c:{}'.format(a, b, c))\n",
    "  \n",
    "# scatter plot 함수 (개인 버전)\n",
    "def plot_scatter():\n",
    "  sns.lmplot('x0', 'x1', hue = 'y', data = dataset, fit_reg= False)\n",
    "  plt.ylim(-1, 1)\n",
    "  plt.xlim(-1,1)"
   ]
  },
  {
   "cell_type": "markdown",
   "metadata": {},
   "source": [
    "___\n",
    "> ## 퍼셉트론의 학습규칙\n",
    "\n",
    "- 퍼셉트론이란 2-클래스 선형 식별함수를 구하는 고전적인 방법 중 하나\n",
    "- 이전 챕터의 회전 방식과 유사하나, 회전 각도를 잘못된 크기만큼 변경한다는 점에서 차이가 있음\n",
    "- 퍼셉트론에서는 레이블을 1과 -1로 바꿔서 작업"
   ]
  },
  {
   "cell_type": "code",
   "execution_count": 2,
   "metadata": {},
   "outputs": [],
   "source": [
    "def predict(x0, x1):\n",
    "  if a*x0 + b*x1 + c > 0.0 :\n",
    "    y = 1  # 0 -> 1\n",
    "  else:\n",
    "    y = -1 # 1 -> -1\n",
    "  return y"
   ]
  },
  {
   "cell_type": "code",
   "execution_count": 16,
   "metadata": {},
   "outputs": [],
   "source": [
    "a = 0.0\n",
    "b = 1.0\n",
    "c = 0.0\n",
    "lr = 1.0\n",
    "\n",
    "def train(dataset, epochs=1):\n",
    "  global a, b, c\n",
    "  for i, (x0, x1, y) in dataset.iterrows():\n",
    "    if y * (a*x0 + b*x1 + c) > 0.0:\n",
    "      pass\n",
    "    else:\n",
    "      a += lr * y * x0\n",
    "      b += lr * y * x1\n",
    "      \n",
    "  return a, b"
   ]
  },
  {
   "cell_type": "markdown",
   "metadata": {},
   "source": [
    "- 레이블이 1과 -1로 나뉘기 때문에 판정식에 레이블을 곱하여 오분류 여부를 파악하기가 과거에 비해 간단해짐 (`predict` 불필요)\n",
    "- 샘플 데이터는 다음과 같음"
   ]
  },
  {
   "cell_type": "code",
   "execution_count": 10,
   "metadata": {},
   "outputs": [
    {
     "data": {
      "text/html": [
       "<div>\n",
       "<style scoped>\n",
       "    .dataframe tbody tr th:only-of-type {\n",
       "        vertical-align: middle;\n",
       "    }\n",
       "\n",
       "    .dataframe tbody tr th {\n",
       "        vertical-align: top;\n",
       "    }\n",
       "\n",
       "    .dataframe thead th {\n",
       "        text-align: right;\n",
       "    }\n",
       "</style>\n",
       "<table border=\"1\" class=\"dataframe\">\n",
       "  <thead>\n",
       "    <tr style=\"text-align: right;\">\n",
       "      <th></th>\n",
       "      <th>x0</th>\n",
       "      <th>x1</th>\n",
       "      <th>y</th>\n",
       "    </tr>\n",
       "  </thead>\n",
       "  <tbody>\n",
       "    <tr>\n",
       "      <th>0</th>\n",
       "      <td>0.4</td>\n",
       "      <td>0.4</td>\n",
       "      <td>1</td>\n",
       "    </tr>\n",
       "    <tr>\n",
       "      <th>1</th>\n",
       "      <td>-0.2</td>\n",
       "      <td>0.3</td>\n",
       "      <td>1</td>\n",
       "    </tr>\n",
       "    <tr>\n",
       "      <th>2</th>\n",
       "      <td>0.3</td>\n",
       "      <td>-0.1</td>\n",
       "      <td>1</td>\n",
       "    </tr>\n",
       "    <tr>\n",
       "      <th>3</th>\n",
       "      <td>-0.4</td>\n",
       "      <td>-0.4</td>\n",
       "      <td>-1</td>\n",
       "    </tr>\n",
       "    <tr>\n",
       "      <th>4</th>\n",
       "      <td>-0.2</td>\n",
       "      <td>-0.3</td>\n",
       "      <td>-1</td>\n",
       "    </tr>\n",
       "    <tr>\n",
       "      <th>5</th>\n",
       "      <td>-0.5</td>\n",
       "      <td>0.2</td>\n",
       "      <td>-1</td>\n",
       "    </tr>\n",
       "  </tbody>\n",
       "</table>\n",
       "</div>"
      ],
      "text/plain": [
       "    x0   x1  y\n",
       "0  0.4  0.4  1\n",
       "1 -0.2  0.3  1\n",
       "2  0.3 -0.1  1\n",
       "3 -0.4 -0.4 -1\n",
       "4 -0.2 -0.3 -1\n",
       "5 -0.5  0.2 -1"
      ]
     },
     "execution_count": 10,
     "metadata": {},
     "output_type": "execute_result"
    }
   ],
   "source": [
    "dataset = pd.DataFrame({'x0':[0.4, -0.2, 0.3, -0.4, -0.2, -0.5],\n",
    "                        'x1': [0.4, 0.3, -0.1, -0.4, -0.3, 0.2],\n",
    "                        'y': [1, 1, 1, -1, -1, -1]})\n",
    "dataset"
   ]
  },
  {
   "cell_type": "code",
   "execution_count": 11,
   "metadata": {},
   "outputs": [
    {
     "name": "stderr",
     "output_type": "stream",
     "text": [
      "/usr/local/envs/py3env/lib/python3.5/site-packages/matplotlib/font_manager.py:1320: UserWarning: findfont: Font family ['sans-serif'] not found. Falling back to DejaVu Sans\n",
      "  (prop.get_family(), self.defaultFamily[fontext]))\n"
     ]
    },
    {
     "data": {
      "image/png": "[encoded data removed]",
      "text/plain": [
       "<matplotlib.figure.Figure at 0x7fcc2a2412b0>"
      ]
     },
     "metadata": {},
     "output_type": "display_data"
    }
   ],
   "source": [
    "plot_scatter()\n",
    "plot_boundary(a=a, b=b, c=c)"
   ]
  },
  {
   "cell_type": "markdown",
   "metadata": {},
   "source": [
    "- 위에서 정의한 `train(epochs = 1)` 실행 시 2번 수정을 시행하며 결과 값은 다음과 같음"
   ]
  },
  {
   "cell_type": "code",
   "execution_count": 17,
   "metadata": {},
   "outputs": [
    {
     "name": "stderr",
     "output_type": "stream",
     "text": [
      "/usr/local/envs/py3env/lib/python3.5/site-packages/matplotlib/font_manager.py:1320: UserWarning: findfont: Font family ['sans-serif'] not found. Falling back to DejaVu Sans\n",
      "  (prop.get_family(), self.defaultFamily[fontext]))\n"
     ]
    },
    {
     "name": "stdout",
     "output_type": "stream",
     "text": [
      "a: 0.8, b: 0.7, c:0.0\n"
     ]
    },
    {
     "data": {
      "image/png": "[encoded data removed]",
      "text/plain": [
       "<matplotlib.figure.Figure at 0x7fcc2a1f8f60>"
      ]
     },
     "metadata": {},
     "output_type": "display_data"
    }
   ],
   "source": [
    "train(dataset)\n",
    "plot_scatter()\n",
    "plot_boundary(a=a,b=b,c=c)"
   ]
  },
  {
   "cell_type": "markdown",
   "metadata": {},
   "source": [
    "___\n",
    "> ## 판정식을 벡터로 나타내기\n",
    "\n",
    "- 그동안은 가중치가 2개인 2차원이었으나 여기에 x2를 추가하면 식별함수는 다음과 같은 3차원 형태를 띄게 됨  \n",
    "   $y * (a*x0 + b+x1 + C*x2 + d) >0$\n",
    "   \n",
    "   \n",
    "- 여기에서 변수 `[a, b, C]`는 데이터 `[x0, x1, x2]`에 대한 가중치(weight)며, 절편 `[d]`는 편향(bias)로 지칭\n",
    "- 위 식을 다시 정리하면 다음과 같이 표기할 수 있음:  \n",
    "    $ y * (w0*x0 + w1+x1 + w2*x2 + b) >0$\n",
    "      \n",
    "\n",
    "- 위 식은 벡터의 내적 형식이며, NumPy를 사용하면 쉽게 연산 가능"
   ]
  },
  {
   "cell_type": "code",
   "execution_count": 18,
   "metadata": {},
   "outputs": [
    {
     "data": {
      "text/plain": [
       "32"
      ]
     },
     "execution_count": 18,
     "metadata": {},
     "output_type": "execute_result"
    }
   ],
   "source": [
    "w = np.array([1, 2, 3])\n",
    "x = np.array([4, 5, 6])\n",
    "np.dot(w,x)    # 1*4 + 2*5 + 3*6 = 32"
   ]
  },
  {
   "cell_type": "markdown",
   "metadata": {},
   "source": [
    "- 위 연산법을 사용하면 차원이 높아져도 동일한 판정식으로 식별 가능  \n",
    "```python\n",
    "w = np.array([w0, w1, w2])\n",
    "x = np.array([x0, x1, x2])\n",
    "if y * (np.dot(w,x)+b) >0:\n",
    "    ...\n",
    "```\n",
    "- 편향도 `wb`, 가중치 1로 식에 포함시킨다면 다음과 같이 표기 가능:  \n",
    "```python\n",
    "w = np.array([wb, w0, w1, w2])\n",
    "x = np.array([1.0, x0, x1, x2])\n",
    "if y * np.dot(w,x) >0:\n",
    "    ...\n",
    "```"
   ]
  },
  {
   "cell_type": "code",
   "execution_count": null,
   "metadata": {},
   "outputs": [],
   "source": [
    "def train(dataset, epochs=1):\n",
    "  lr = 1.0\n",
    "  w = np.array([0.0, 0.0, 1.0])\n",
    "  for epoch in range(epochs):\n",
    "    for i, (x0, x1, y) in dataset.iterrows():\n",
    "      x = np.array([1.0, x0, x1])\n",
    "      if y * np.dot(w, x) > 0.0:\n",
    "        pass\n",
    "      else:\n",
    "        w += lr * y * x    # w와 x 는 np.array이므로 주의 필요\n",
    "      \n",
    "  return w"
   ]
  },
  {
   "cell_type": "code",
   "execution_count": null,
   "metadata": {},
   "outputs": [],
   "source": []
  }
 ],
 "metadata": {
  "kernelspec": {
   "display_name": "Python 3",
   "language": "python",
   "name": "python3"
  },
  "language_info": {
   "codemirror_mode": {
    "name": "ipython",
    "version": 3
   },
   "file_extension": ".py",
   "mimetype": "text/x-python",
   "name": "python",
   "nbconvert_exporter": "python",
   "pygments_lexer": "ipython3",
   "version": "3.5.5"
  }
 },
 "nbformat": 4,
 "nbformat_minor": 2
}
