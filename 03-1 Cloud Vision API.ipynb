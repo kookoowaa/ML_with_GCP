{
 "cells": [
  {
   "cell_type": "markdown",
   "metadata": {},
   "source": [
    "> # Cloud Vision API"
   ]
  },
  {
   "cell_type": "markdown",
   "metadata": {},
   "source": [
    "- 사용하기에 앞서 Cloud Vision API 활성화와 클라이언트 생성을 선행\n",
    "- 활성화는 console에서 API 사용 설정 가능\n",
    "- 클라이언트는 `google.cloud.vision`을 통해 생성"
   ]
  },
  {
   "cell_type": "code",
   "execution_count": 3,
   "metadata": {
    "hiddenCell": true
   },
   "outputs": [
    {
     "name": "stdout",
     "output_type": "stream",
     "text": [
      "Requirement already up-to-date: google-cloud-vision in /usr/local/envs/py3env/lib/python3.5/site-packages (0.34.0)\n",
      "Requirement already satisfied, skipping upgrade: google-api-core[grpc]<2.0.0dev,>=1.1.0 in /usr/local/envs/py3env/lib/python3.5/site-packages (from google-cloud-vision) (1.4.1)\n",
      "Requirement already satisfied, skipping upgrade: googleapis-common-protos<2.0dev,>=1.5.3 in /usr/local/envs/py3env/lib/python3.5/site-packages (from google-api-core[grpc]<2.0.0dev,>=1.1.0->google-cloud-vision) (1.5.3)\n",
      "Requirement already satisfied, skipping upgrade: google-auth<2.0.0dev,>=0.4.0 in /usr/local/envs/py3env/lib/python3.5/site-packages (from google-api-core[grpc]<2.0.0dev,>=1.1.0->google-cloud-vision) (1.5.1)\n",
      "Requirement already satisfied, skipping upgrade: protobuf>=3.4.0 in /usr/local/envs/py3env/lib/python3.5/site-packages (from google-api-core[grpc]<2.0.0dev,>=1.1.0->google-cloud-vision) (3.5.2)\n",
      "Requirement already satisfied, skipping upgrade: setuptools>=34.0.0 in /usr/local/envs/py3env/lib/python3.5/site-packages (from google-api-core[grpc]<2.0.0dev,>=1.1.0->google-cloud-vision) (40.0.0)\n",
      "Requirement already satisfied, skipping upgrade: requests<3.0.0dev,>=2.18.0 in /usr/local/envs/py3env/lib/python3.5/site-packages (from google-api-core[grpc]<2.0.0dev,>=1.1.0->google-cloud-vision) (2.18.4)\n",
      "Requirement already satisfied, skipping upgrade: pytz in /usr/local/envs/py3env/lib/python3.5/site-packages (from google-api-core[grpc]<2.0.0dev,>=1.1.0->google-cloud-vision) (2016.7)\n",
      "Requirement already satisfied, skipping upgrade: six>=1.10.0 in /usr/local/envs/py3env/lib/python3.5/site-packages (from google-api-core[grpc]<2.0.0dev,>=1.1.0->google-cloud-vision) (1.10.0)\n",
      "Requirement already satisfied, skipping upgrade: grpcio>=1.8.2; extra == \"grpc\" in /usr/local/envs/py3env/lib/python3.5/site-packages (from google-api-core[grpc]<2.0.0dev,>=1.1.0->google-cloud-vision) (1.14.1)\n",
      "Requirement already satisfied, skipping upgrade: pyasn1-modules>=0.2.1 in /usr/local/envs/py3env/lib/python3.5/site-packages (from google-auth<2.0.0dev,>=0.4.0->google-api-core[grpc]<2.0.0dev,>=1.1.0->google-cloud-vision) (0.2.2)\n",
      "Requirement already satisfied, skipping upgrade: rsa>=3.1.4 in /usr/local/envs/py3env/lib/python3.5/site-packages (from google-auth<2.0.0dev,>=0.4.0->google-api-core[grpc]<2.0.0dev,>=1.1.0->google-cloud-vision) (3.4.2)\n",
      "Requirement already satisfied, skipping upgrade: cachetools>=2.0.0 in /usr/local/envs/py3env/lib/python3.5/site-packages (from google-auth<2.0.0dev,>=0.4.0->google-api-core[grpc]<2.0.0dev,>=1.1.0->google-cloud-vision) (2.1.0)\n",
      "Requirement already satisfied, skipping upgrade: chardet<3.1.0,>=3.0.2 in /usr/local/envs/py3env/lib/python3.5/site-packages (from requests<3.0.0dev,>=2.18.0->google-api-core[grpc]<2.0.0dev,>=1.1.0->google-cloud-vision) (3.0.4)\n",
      "Requirement already satisfied, skipping upgrade: idna<2.7,>=2.5 in /usr/local/envs/py3env/lib/python3.5/site-packages (from requests<3.0.0dev,>=2.18.0->google-api-core[grpc]<2.0.0dev,>=1.1.0->google-cloud-vision) (2.6)\n",
      "Requirement already satisfied, skipping upgrade: urllib3<1.23,>=1.21.1 in /usr/local/envs/py3env/lib/python3.5/site-packages (from requests<3.0.0dev,>=2.18.0->google-api-core[grpc]<2.0.0dev,>=1.1.0->google-cloud-vision) (1.22)\n",
      "Requirement already satisfied, skipping upgrade: certifi>=2017.4.17 in /usr/local/envs/py3env/lib/python3.5/site-packages (from requests<3.0.0dev,>=2.18.0->google-api-core[grpc]<2.0.0dev,>=1.1.0->google-cloud-vision) (2018.8.13)\n",
      "Requirement already satisfied, skipping upgrade: pyasn1<0.5.0,>=0.4.1 in /usr/local/envs/py3env/lib/python3.5/site-packages (from pyasn1-modules>=0.2.1->google-auth<2.0.0dev,>=0.4.0->google-api-core[grpc]<2.0.0dev,>=1.1.0->google-cloud-vision) (0.4.4)\n"
     ]
    }
   ],
   "source": [
    "!pip install --upgrade google-cloud-vision"
   ]
  },
  {
   "cell_type": "code",
   "execution_count": 4,
   "metadata": {},
   "outputs": [],
   "source": [
    "from google.cloud import vision\n",
    "from google.cloud.vision import types"
   ]
  },
  {
   "cell_type": "markdown",
   "metadata": {},
   "source": [
    "- client 인스턴스 만들기"
   ]
  },
  {
   "cell_type": "code",
   "execution_count": 5,
   "metadata": {},
   "outputs": [],
   "source": [
    "client = vision.ImageAnnotatorClient()"
   ]
  },
  {
   "cell_type": "markdown",
   "metadata": {},
   "source": [
    "\n",
    "> ## 레이블 검출하기\n",
    "#### 이미지 지정하고 API 호출하기\n",
    "- API에 이미지를 전송하려면 로컬 파일을 인코딩해서 요청 매개변수를 포함시키거나, 파일 경로를 지정해야 함\n",
    "- 라이브러리를 사용하면 별도의 처리를 따로 하지 않아도 됨\n",
    "- **아래는 로컬파일 또는 GCS 사용 시 API 호출하는 방법임**"
   ]
  },
  {
   "cell_type": "code",
   "execution_count": 8,
   "metadata": {},
   "outputs": [],
   "source": [
    "# local 파일 사용 시\n",
    "import io\n",
    "with io.open('gcpml-book/Part1/seagull.jpg', 'rb') as image_file:\n",
    "  content = image_file.read()\n",
    "\n",
    "image = types.Image(content=content)"
   ]
  },
  {
   "cell_type": "code",
   "execution_count": 7,
   "metadata": {},
   "outputs": [],
   "source": [
    "# GCS 사용시\n",
    "image = types.Image()\n",
    "image.source.image_uri = 'gcpml-book/Part1/seagull.jpg'"
   ]
  },
  {
   "cell_type": "markdown",
   "metadata": {},
   "source": [
    "___\n",
    "#### 레이블 검출하고 실행하기\n",
    "- `client`객체에 `label_detection`메서드를 호출하면 API에 요청\n",
    "- 성공 시 레이블 정보가 리스트로 반환"
   ]
  },
  {
   "cell_type": "markdown",
   "metadata": {},
   "source": [
    "- 아래와 같이 API에 요청"
   ]
  },
  {
   "cell_type": "code",
   "execution_count": 9,
   "metadata": {},
   "outputs": [],
   "source": [
    "response = client.label_detection(image = image)"
   ]
  },
  {
   "cell_type": "markdown",
   "metadata": {},
   "source": [
    "- 반환된 객체에 label_annotations를 보면 다양한 정보가 포함되어 있음"
   ]
  },
  {
   "cell_type": "code",
   "execution_count": 11,
   "metadata": {},
   "outputs": [
    {
     "data": {
      "text/plain": [
       "mid: \"/m/015p6\"\n",
       "description: \"bird\"\n",
       "score: 0.9799333214759827\n",
       "topicality: 0.9799333214759827"
      ]
     },
     "execution_count": 11,
     "metadata": {},
     "output_type": "execute_result"
    }
   ],
   "source": [
    "labels = response.label_annotations\n",
    "labels[0]"
   ]
  },
  {
   "cell_type": "markdown",
   "metadata": {},
   "source": [
    "- for문을 사용하여 중요 정보를 요약"
   ]
  },
  {
   "cell_type": "code",
   "execution_count": 12,
   "metadata": {},
   "outputs": [
    {
     "name": "stdout",
     "output_type": "stream",
     "text": [
      "Labels:\n",
      "Score: 0.98, Label: bird\n",
      "Score: 0.94, Label: water\n",
      "Score: 0.92, Label: seabird\n",
      "Score: 0.88, Label: beak\n",
      "Score: 0.87, Label: fauna\n",
      "Score: 0.84, Label: gull\n",
      "Score: 0.72, Label: water bird\n",
      "Score: 0.72, Label: charadriiformes\n",
      "Score: 0.65, Label: european herring gull\n",
      "Score: 0.51, Label: feather\n"
     ]
    }
   ],
   "source": [
    "print ('Labels:')\n",
    "\n",
    "for i in labels:\n",
    "  print('Score: {}, Label: {}'.format(round(i.score, 2), i.description))"
   ]
  },
  {
   "cell_type": "markdown",
   "metadata": {},
   "source": [
    "> ## 얼굴 검출하기\n",
    "\n",
    "- 이전과 마찬가지로 클라이언트를 만들고 이미지를 읽어와서 `image` 객체를 생성\n",
    "- 이번에는 `face_detection`을 통해 API를 요청"
   ]
  },
  {
   "cell_type": "code",
   "execution_count": 13,
   "metadata": {},
   "outputs": [],
   "source": [
    "with io.open('gcpml-book/Part1/face.jpg', 'rb') as image_file:\n",
    "  content = image_file.read()\n",
    "image = types.Image(content=content)"
   ]
  },
  {
   "cell_type": "code",
   "execution_count": 14,
   "metadata": {},
   "outputs": [],
   "source": [
    "response = client.face_detection(image=image)\n",
    "face = response.face_annotations"
   ]
  },
  {
   "cell_type": "markdown",
   "metadata": {},
   "source": [
    "- 반환된 결과는 얼굴 주요 부위의 좌표, 감정, 특징 등의 정보가 포함되어 있음\n",
    "```\n",
    "face[0]\n",
    ">bounding_poly {\n",
    ">  vertices {\n",
    ">    x: 512\n",
    ">    y: 260\n",
    ">  }\n",
    ">  vertices {\n",
    ">    x: 671\n",
    ">    y: 260\n",
    ">  }\n",
    ">  vertices {\n",
    ">    x: 671\n",
    ">    y: 445\n",
    ">  }\n",
    ">  vertices {\n",
    ">    x: 512\n",
    ">    y: 445\n",
    ">  }\n",
    ">}\n",
    ">.\n",
    ">.\n",
    ">.\n",
    ">under_exposed_likelihood: VERY_UNLIKELY\n",
    ">blurred_likelihood: VERY_UNLIKELY\n",
    ">headwear_likelihood: VERY_UNLIKELY\n",
    "```"
   ]
  },
  {
   "cell_type": "markdown",
   "metadata": {},
   "source": [
    "- 감정은 카테고리 값(int)를 출력하기에 이에 대응하는 튜플 생성 선행"
   ]
  },
  {
   "cell_type": "code",
   "execution_count": 15,
   "metadata": {},
   "outputs": [
    {
     "data": {
      "text/plain": [
       "5"
      ]
     },
     "execution_count": 15,
     "metadata": {},
     "output_type": "execute_result"
    }
   ],
   "source": [
    "face[0].joy_likelihood"
   ]
  },
  {
   "cell_type": "code",
   "execution_count": 16,
   "metadata": {},
   "outputs": [
    {
     "name": "stdout",
     "output_type": "stream",
     "text": [
      "first face demonstrates \"Very_likely joy\"\n"
     ]
    }
   ],
   "source": [
    "likelihood_lists = ['Unknown', 'Very_unlikely', 'Unlikely', 'Possible', 'Likely', 'Very_likely']\n",
    "print('first face demonstrates \"{} joy\"'.format(likelihood_lists[face[0].joy_likelihood]))"
   ]
  },
  {
   "cell_type": "markdown",
   "metadata": {},
   "source": [
    "- 검출된 얼굴들의 감정을 모두 출력하자면 다음과 같이 가능"
   ]
  },
  {
   "cell_type": "code",
   "execution_count": 17,
   "metadata": {},
   "outputs": [
    {
     "name": "stdout",
     "output_type": "stream",
     "text": [
      "face1 ==================\n",
      "JOY: Very_likely\n",
      "ANGER: Very_unlikely\n",
      "SORROW: Very_unlikely\n",
      "SURPRISE: Very_unlikely\n",
      "\n",
      "face2 ==================\n",
      "JOY: Very_likely\n",
      "ANGER: Very_unlikely\n",
      "SORROW: Very_unlikely\n",
      "SURPRISE: Very_unlikely\n",
      "\n",
      "face3 ==================\n",
      "JOY: Very_likely\n",
      "ANGER: Very_unlikely\n",
      "SORROW: Very_unlikely\n",
      "SURPRISE: Very_unlikely\n",
      "\n",
      "face4 ==================\n",
      "JOY: Very_likely\n",
      "ANGER: Very_unlikely\n",
      "SORROW: Very_unlikely\n",
      "SURPRISE: Very_unlikely\n",
      "\n",
      "face5 ==================\n",
      "JOY: Possible\n",
      "ANGER: Very_unlikely\n",
      "SORROW: Very_unlikely\n",
      "SURPRISE: Very_unlikely\n",
      "\n"
     ]
    }
   ],
   "source": [
    "for i in range(len(face)):\n",
    "  print('face'+str(i+1)+' '+'='*18)\n",
    "  print('JOY: '+ likelihood_lists[face[i].joy_likelihood])\n",
    "  print('ANGER: '+ likelihood_lists[face[i].anger_likelihood])\n",
    "  print('SORROW: '+ likelihood_lists[face[i].sorrow_likelihood])\n",
    "  print('SURPRISE: '+ likelihood_lists[face[i].surprise_likelihood]+'\\n')"
   ]
  },
  {
   "cell_type": "markdown",
   "metadata": {},
   "source": [
    "- `labels`에 포함된 정보로 얼굴의 요소를 추출할 수도 있으며, 이를 통해 이미지 위에 그림 그리는 것도 가능"
   ]
  },
  {
   "cell_type": "code",
   "execution_count": null,
   "metadata": {},
   "outputs": [],
   "source": [
    "import matplotlib.pyplot as plt\n",
    "import numpy as np\n",
    "from PIL import Image"
   ]
  },
  {
   "cell_type": "code",
   "execution_count": null,
   "metadata": {},
   "outputs": [],
   "source": [
    "plt.figure(figsize = (20, 12))\n",
    "im = Image.open('gcpml-book/Part1/face.jpg', 'r')\n",
    "plt.imshow(np.asarray(im))\n",
    "plt.axis('off')"
   ]
  },
  {
   "cell_type": "code",
   "execution_count": null,
   "metadata": {},
   "outputs": [],
   "source": []
  }
 ],
 "metadata": {
  "kernelspec": {
   "display_name": "Python 3",
   "language": "python",
   "name": "python3"
  },
  "language_info": {
   "codemirror_mode": {
    "name": "ipython",
    "version": 3
   },
   "file_extension": ".py",
   "mimetype": "text/x-python",
   "name": "python",
   "nbconvert_exporter": "python",
   "pygments_lexer": "ipython3",
   "version": "3.5.5"
  }
 },
 "nbformat": 4,
 "nbformat_minor": 2
}
